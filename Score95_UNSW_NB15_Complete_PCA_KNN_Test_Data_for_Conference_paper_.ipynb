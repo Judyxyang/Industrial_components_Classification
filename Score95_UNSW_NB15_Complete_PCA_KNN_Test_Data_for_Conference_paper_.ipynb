{
  "nbformat": 4,
  "nbformat_minor": 5,
  "metadata": {
    "kernelspec": {
      "display_name": "Python 3",
      "language": "python",
      "name": "python3"
    },
    "language_info": {
      "codemirror_mode": {
        "name": "ipython",
        "version": 3
      },
      "file_extension": ".py",
      "mimetype": "text/x-python",
      "name": "python",
      "nbconvert_exporter": "python",
      "pygments_lexer": "ipython3",
      "version": "3.7.10"
    },
    "colab": {
      "name": "Score95_UNSW-NB15 Complete PCA KNN Test Data for Conference paper .ipynb",
      "provenance": [],
      "collapsed_sections": [
        "3eeb5503",
        "2a020fc8"
      ],
      "toc_visible": true,
      "include_colab_link": true
    }
  },
  "cells": [
    {
      "cell_type": "markdown",
      "metadata": {
        "id": "view-in-github",
        "colab_type": "text"
      },
      "source": [
        "<a href=\"https://colab.research.google.com/github/Judyxyang/Industrial_components_Classification/blob/main/Score95_UNSW_NB15_Complete_PCA_KNN_Test_Data_for_Conference_paper_.ipynb\" target=\"_parent\"><img src=\"https://colab.research.google.com/assets/colab-badge.svg\" alt=\"Open In Colab\"/></a>"
      ]
    },
    {
      "cell_type": "code",
      "metadata": {
        "id": "1a138282"
      },
      "source": [
        "from sklearn.datasets import load_boston\n",
        "from mlxtend.feature_selection import SequentialFeatureSelector as SFS\n",
        "from sklearn.linear_model import LinearRegression\n",
        "import pandas as pd\n",
        "import numpy as np\n",
        "%matplotlib inline\n",
        "import matplotlib.pyplot as plt"
      ],
      "id": "1a138282",
      "execution_count": 829,
      "outputs": []
    },
    {
      "cell_type": "code",
      "metadata": {
        "id": "-jCEk5i5DjtA"
      },
      "source": [
        "from pandas.plotting import scatter_matrix\n",
        "from google.colab import files\n",
        "uploaded=files.upload\n"
      ],
      "id": "-jCEk5i5DjtA",
      "execution_count": 830,
      "outputs": []
    },
    {
      "cell_type": "code",
      "metadata": {
        "colab": {
          "base_uri": "https://localhost:8080/",
          "height": 0
        },
        "id": "bS3wXfrIDsPW",
        "outputId": "f43529da-a9ef-434b-ccd9-6f3a4d2eb623"
      },
      "source": [
        "from google.colab import drive\n",
        "drive.mount('/content/gdrive')"
      ],
      "id": "bS3wXfrIDsPW",
      "execution_count": 831,
      "outputs": [
        {
          "output_type": "stream",
          "text": [
            "Drive already mounted at /content/gdrive; to attempt to forcibly remount, call drive.mount(\"/content/gdrive\", force_remount=True).\n"
          ],
          "name": "stdout"
        }
      ]
    },
    {
      "cell_type": "code",
      "metadata": {
        "colab": {
          "base_uri": "https://localhost:8080/",
          "height": 0
        },
        "id": "DfwPVSDMEA-Y",
        "outputId": "486af809-4ab2-4f99-b97e-333cbd37784a"
      },
      "source": [
        "!ls '/content/gdrive/MyDrive/ConferenceGriffith'"
      ],
      "id": "DfwPVSDMEA-Y",
      "execution_count": 832,
      "outputs": [
        {
          "output_type": "stream",
          "text": [
            "'35 Feature Importance List .csv'\n",
            "'Complete coding for Conference_KNN_10052021.ipynb'\n",
            "'Complete coding for Conference_KNN_12052021.ipynb'\n",
            "'download (1).png'\n",
            "'download (2).png'\n",
            " download.png\n",
            "'Processed Complete PCA and Anormal &Normal PCA12052021.ipynb'\n",
            "'Processed UNSW-NB15_PCA_Normal_Anormal Analysis_12052021.ipynb'\n",
            "'Score95_UNSW-NB15 Complete PCA KNN Test Data for Conference paper .ipynb'\n",
            "'UNSW-NB15-1.csv-Complete Data Preprocessing to PCA _13052021.ipynb'\n",
            " UNSW-NB15_1NN_30F_Anormalwith10targets_OneHot.csv\n",
            " UNSW-NB15_1NN_30Fnew.csv\n",
            " UNSW-NB15_1NN_30F_Normalwith10targets_OneHot.csv\n",
            " UNSW-NB15_1NN_30F_OneHot_targets.csv\n",
            " UNSW-NB15_1NN_35F_OneHot.csv\n",
            " UNSW-NB15_1NN_35F_OneHot_targets.csv\n",
            " UNSW-NB15_1NN_40F_OneHot.csv\n",
            " UNSW-NB15_1NN_41F.csv\n",
            " UNSW-NB15_1NN_50F_OneHote.csv\n",
            " UNSW-NB15_1NN_50_OneHot.csv\n",
            " UNSW-NB15_1NN_Anormalwith10targets_OneHot.csv\n",
            " UNSW-NB15_1NN_NormalWith10Targets_OneHot.csv\n",
            " UNSW-NB15_30F_Anormal_Hotcode.csv\n",
            " UNSW-NB15_30F_Normal_Hotcode.csv\n",
            " UNSW-NB15_30F_X_1_OneHot.csv\n",
            " UNSW-NB15_40F_Anormal_Hotcode.csv\n",
            " UNSW-NB15_40F_Normal_Hotcode.csv\n",
            " UNSW-NB15_Anomral_30F_OneHot_targets.csv\n",
            " UNSW-NB15_Anormal.csv\n",
            " UNSW-NB15_Anormal_OneHot.csv\n",
            " UNSW-NB15_Nomral_30F_OneHot_targets.csv\n",
            " UNSW-NB15_Normal.csv\n",
            " UNSW-NB15_Normal_OneHot.csv\n"
          ],
          "name": "stdout"
        }
      ]
    },
    {
      "cell_type": "code",
      "metadata": {
        "id": "db02706b"
      },
      "source": [
        "# load sklearn dataset\n",
        "data=pd.read_csv('/content/gdrive/MyDrive/ConferenceGriffith/UNSW-NB15_1NN_50F_OneHote.csv', low_memory=False)"
      ],
      "id": "db02706b",
      "execution_count": 833,
      "outputs": []
    },
    {
      "cell_type": "code",
      "metadata": {
        "id": "44492a4d",
        "colab": {
          "base_uri": "https://localhost:8080/",
          "height": 241
        },
        "outputId": "48b6a009-13b1-47e4-89c1-64d36963bc2c"
      },
      "source": [
        "data.head()"
      ],
      "id": "44492a4d",
      "execution_count": 834,
      "outputs": [
        {
          "output_type": "execute_result",
          "data": {
            "text/html": [
              "<div>\n",
              "<style scoped>\n",
              "    .dataframe tbody tr th:only-of-type {\n",
              "        vertical-align: middle;\n",
              "    }\n",
              "\n",
              "    .dataframe tbody tr th {\n",
              "        vertical-align: top;\n",
              "    }\n",
              "\n",
              "    .dataframe thead th {\n",
              "        text-align: right;\n",
              "    }\n",
              "</style>\n",
              "<table border=\"1\" class=\"dataframe\">\n",
              "  <thead>\n",
              "    <tr style=\"text-align: right;\">\n",
              "      <th></th>\n",
              "      <th>Unnamed: 0</th>\n",
              "      <th>dur</th>\n",
              "      <th>sbytes</th>\n",
              "      <th>dbytes</th>\n",
              "      <th>sttl</th>\n",
              "      <th>dttl</th>\n",
              "      <th>sloss</th>\n",
              "      <th>dloss</th>\n",
              "      <th>Sload</th>\n",
              "      <th>Dload</th>\n",
              "      <th>Spkts</th>\n",
              "      <th>Dpkts</th>\n",
              "      <th>swin</th>\n",
              "      <th>dwin</th>\n",
              "      <th>stcpb</th>\n",
              "      <th>dtcpb</th>\n",
              "      <th>smeansz</th>\n",
              "      <th>dmeansz</th>\n",
              "      <th>trans_depth</th>\n",
              "      <th>res_bdy_len</th>\n",
              "      <th>Sjit</th>\n",
              "      <th>Djit</th>\n",
              "      <th>Stime</th>\n",
              "      <th>Ltime</th>\n",
              "      <th>Sintpkt</th>\n",
              "      <th>Dintpkt</th>\n",
              "      <th>tcprtt</th>\n",
              "      <th>synack</th>\n",
              "      <th>ackdat</th>\n",
              "      <th>is_sm_ips_ports</th>\n",
              "      <th>ct_state_ttl</th>\n",
              "      <th>ct_flw_http_mthd</th>\n",
              "      <th>is_ftp_login</th>\n",
              "      <th>ct_ftp_cmd</th>\n",
              "      <th>ct_srv_src</th>\n",
              "      <th>ct_srv_dst</th>\n",
              "      <th>ct_dst_ltm</th>\n",
              "      <th>ct_src_ ltm</th>\n",
              "      <th>ct_src_dport_ltm</th>\n",
              "      <th>ct_dst_sport_ltm</th>\n",
              "      <th>ct_dst_src_ltm</th>\n",
              "      <th>Fuzzers</th>\n",
              "      <th>Analysis</th>\n",
              "      <th>Backdoors</th>\n",
              "      <th>DoS</th>\n",
              "      <th>Exploits</th>\n",
              "      <th>Generic</th>\n",
              "      <th>Normal</th>\n",
              "      <th>Reconnaissance</th>\n",
              "      <th>Shellcode</th>\n",
              "      <th>Worms</th>\n",
              "    </tr>\n",
              "  </thead>\n",
              "  <tbody>\n",
              "    <tr>\n",
              "      <th>0</th>\n",
              "      <td>0</td>\n",
              "      <td>0.036133</td>\n",
              "      <td>528</td>\n",
              "      <td>304</td>\n",
              "      <td>31</td>\n",
              "      <td>29</td>\n",
              "      <td>0</td>\n",
              "      <td>0</td>\n",
              "      <td>87676.08594</td>\n",
              "      <td>50480.17188</td>\n",
              "      <td>4</td>\n",
              "      <td>4</td>\n",
              "      <td>0</td>\n",
              "      <td>0</td>\n",
              "      <td>0</td>\n",
              "      <td>0</td>\n",
              "      <td>132</td>\n",
              "      <td>76</td>\n",
              "      <td>0</td>\n",
              "      <td>0</td>\n",
              "      <td>9.891010</td>\n",
              "      <td>10.682733</td>\n",
              "      <td>1421927414</td>\n",
              "      <td>1421927414</td>\n",
              "      <td>7.005</td>\n",
              "      <td>7.564333</td>\n",
              "      <td>0.0</td>\n",
              "      <td>0.0</td>\n",
              "      <td>0.0</td>\n",
              "      <td>0</td>\n",
              "      <td>0</td>\n",
              "      <td>0</td>\n",
              "      <td>0</td>\n",
              "      <td>0</td>\n",
              "      <td>2</td>\n",
              "      <td>4</td>\n",
              "      <td>2</td>\n",
              "      <td>3</td>\n",
              "      <td>1</td>\n",
              "      <td>1</td>\n",
              "      <td>2</td>\n",
              "      <td>0</td>\n",
              "      <td>0</td>\n",
              "      <td>0</td>\n",
              "      <td>0</td>\n",
              "      <td>0</td>\n",
              "      <td>0</td>\n",
              "      <td>1</td>\n",
              "      <td>0</td>\n",
              "      <td>0</td>\n",
              "      <td>0</td>\n",
              "    </tr>\n",
              "    <tr>\n",
              "      <th>1</th>\n",
              "      <td>1</td>\n",
              "      <td>0.001119</td>\n",
              "      <td>146</td>\n",
              "      <td>178</td>\n",
              "      <td>31</td>\n",
              "      <td>29</td>\n",
              "      <td>0</td>\n",
              "      <td>0</td>\n",
              "      <td>521894.53130</td>\n",
              "      <td>636282.37500</td>\n",
              "      <td>2</td>\n",
              "      <td>2</td>\n",
              "      <td>0</td>\n",
              "      <td>0</td>\n",
              "      <td>0</td>\n",
              "      <td>0</td>\n",
              "      <td>73</td>\n",
              "      <td>89</td>\n",
              "      <td>0</td>\n",
              "      <td>0</td>\n",
              "      <td>0.000000</td>\n",
              "      <td>0.000000</td>\n",
              "      <td>1421927414</td>\n",
              "      <td>1421927414</td>\n",
              "      <td>0.017</td>\n",
              "      <td>0.013000</td>\n",
              "      <td>0.0</td>\n",
              "      <td>0.0</td>\n",
              "      <td>0.0</td>\n",
              "      <td>0</td>\n",
              "      <td>0</td>\n",
              "      <td>0</td>\n",
              "      <td>0</td>\n",
              "      <td>0</td>\n",
              "      <td>12</td>\n",
              "      <td>8</td>\n",
              "      <td>1</td>\n",
              "      <td>2</td>\n",
              "      <td>2</td>\n",
              "      <td>1</td>\n",
              "      <td>1</td>\n",
              "      <td>0</td>\n",
              "      <td>0</td>\n",
              "      <td>0</td>\n",
              "      <td>0</td>\n",
              "      <td>0</td>\n",
              "      <td>0</td>\n",
              "      <td>1</td>\n",
              "      <td>0</td>\n",
              "      <td>0</td>\n",
              "      <td>0</td>\n",
              "    </tr>\n",
              "    <tr>\n",
              "      <th>2</th>\n",
              "      <td>2</td>\n",
              "      <td>0.001209</td>\n",
              "      <td>132</td>\n",
              "      <td>164</td>\n",
              "      <td>31</td>\n",
              "      <td>29</td>\n",
              "      <td>0</td>\n",
              "      <td>0</td>\n",
              "      <td>436724.56250</td>\n",
              "      <td>542597.18750</td>\n",
              "      <td>2</td>\n",
              "      <td>2</td>\n",
              "      <td>0</td>\n",
              "      <td>0</td>\n",
              "      <td>0</td>\n",
              "      <td>0</td>\n",
              "      <td>66</td>\n",
              "      <td>82</td>\n",
              "      <td>0</td>\n",
              "      <td>0</td>\n",
              "      <td>0.000000</td>\n",
              "      <td>0.000000</td>\n",
              "      <td>1421927414</td>\n",
              "      <td>1421927414</td>\n",
              "      <td>0.043</td>\n",
              "      <td>0.014000</td>\n",
              "      <td>0.0</td>\n",
              "      <td>0.0</td>\n",
              "      <td>0.0</td>\n",
              "      <td>0</td>\n",
              "      <td>0</td>\n",
              "      <td>0</td>\n",
              "      <td>0</td>\n",
              "      <td>0</td>\n",
              "      <td>6</td>\n",
              "      <td>9</td>\n",
              "      <td>1</td>\n",
              "      <td>1</td>\n",
              "      <td>1</td>\n",
              "      <td>1</td>\n",
              "      <td>1</td>\n",
              "      <td>0</td>\n",
              "      <td>0</td>\n",
              "      <td>0</td>\n",
              "      <td>0</td>\n",
              "      <td>0</td>\n",
              "      <td>0</td>\n",
              "      <td>1</td>\n",
              "      <td>0</td>\n",
              "      <td>0</td>\n",
              "      <td>0</td>\n",
              "    </tr>\n",
              "    <tr>\n",
              "      <th>3</th>\n",
              "      <td>3</td>\n",
              "      <td>0.001169</td>\n",
              "      <td>146</td>\n",
              "      <td>178</td>\n",
              "      <td>31</td>\n",
              "      <td>29</td>\n",
              "      <td>0</td>\n",
              "      <td>0</td>\n",
              "      <td>499572.25000</td>\n",
              "      <td>609067.56250</td>\n",
              "      <td>2</td>\n",
              "      <td>2</td>\n",
              "      <td>0</td>\n",
              "      <td>0</td>\n",
              "      <td>0</td>\n",
              "      <td>0</td>\n",
              "      <td>73</td>\n",
              "      <td>89</td>\n",
              "      <td>0</td>\n",
              "      <td>0</td>\n",
              "      <td>0.000000</td>\n",
              "      <td>0.000000</td>\n",
              "      <td>1421927414</td>\n",
              "      <td>1421927414</td>\n",
              "      <td>0.005</td>\n",
              "      <td>0.003000</td>\n",
              "      <td>0.0</td>\n",
              "      <td>0.0</td>\n",
              "      <td>0.0</td>\n",
              "      <td>0</td>\n",
              "      <td>0</td>\n",
              "      <td>0</td>\n",
              "      <td>0</td>\n",
              "      <td>0</td>\n",
              "      <td>7</td>\n",
              "      <td>9</td>\n",
              "      <td>1</td>\n",
              "      <td>1</td>\n",
              "      <td>1</td>\n",
              "      <td>1</td>\n",
              "      <td>1</td>\n",
              "      <td>0</td>\n",
              "      <td>0</td>\n",
              "      <td>0</td>\n",
              "      <td>0</td>\n",
              "      <td>0</td>\n",
              "      <td>0</td>\n",
              "      <td>1</td>\n",
              "      <td>0</td>\n",
              "      <td>0</td>\n",
              "      <td>0</td>\n",
              "    </tr>\n",
              "    <tr>\n",
              "      <th>4</th>\n",
              "      <td>4</td>\n",
              "      <td>0.078339</td>\n",
              "      <td>568</td>\n",
              "      <td>312</td>\n",
              "      <td>31</td>\n",
              "      <td>29</td>\n",
              "      <td>0</td>\n",
              "      <td>0</td>\n",
              "      <td>43503.23438</td>\n",
              "      <td>23896.14258</td>\n",
              "      <td>4</td>\n",
              "      <td>4</td>\n",
              "      <td>0</td>\n",
              "      <td>0</td>\n",
              "      <td>0</td>\n",
              "      <td>0</td>\n",
              "      <td>142</td>\n",
              "      <td>78</td>\n",
              "      <td>0</td>\n",
              "      <td>0</td>\n",
              "      <td>29.682221</td>\n",
              "      <td>34.370340</td>\n",
              "      <td>1421927414</td>\n",
              "      <td>1421927414</td>\n",
              "      <td>21.003</td>\n",
              "      <td>24.315000</td>\n",
              "      <td>0.0</td>\n",
              "      <td>0.0</td>\n",
              "      <td>0.0</td>\n",
              "      <td>0</td>\n",
              "      <td>0</td>\n",
              "      <td>0</td>\n",
              "      <td>0</td>\n",
              "      <td>0</td>\n",
              "      <td>2</td>\n",
              "      <td>4</td>\n",
              "      <td>2</td>\n",
              "      <td>3</td>\n",
              "      <td>1</td>\n",
              "      <td>1</td>\n",
              "      <td>2</td>\n",
              "      <td>0</td>\n",
              "      <td>0</td>\n",
              "      <td>0</td>\n",
              "      <td>0</td>\n",
              "      <td>0</td>\n",
              "      <td>0</td>\n",
              "      <td>1</td>\n",
              "      <td>0</td>\n",
              "      <td>0</td>\n",
              "      <td>0</td>\n",
              "    </tr>\n",
              "  </tbody>\n",
              "</table>\n",
              "</div>"
            ],
            "text/plain": [
              "   Unnamed: 0       dur  sbytes  ...  Reconnaissance  Shellcode  Worms\n",
              "0           0  0.036133     528  ...               0          0      0\n",
              "1           1  0.001119     146  ...               0          0      0\n",
              "2           2  0.001209     132  ...               0          0      0\n",
              "3           3  0.001169     146  ...               0          0      0\n",
              "4           4  0.078339     568  ...               0          0      0\n",
              "\n",
              "[5 rows x 51 columns]"
            ]
          },
          "metadata": {
            "tags": []
          },
          "execution_count": 834
        }
      ]
    },
    {
      "cell_type": "code",
      "metadata": {
        "id": "a08ad137"
      },
      "source": [
        "data=data.drop(['Unnamed: 0'],axis=1)"
      ],
      "id": "a08ad137",
      "execution_count": 835,
      "outputs": []
    },
    {
      "cell_type": "code",
      "metadata": {
        "colab": {
          "base_uri": "https://localhost:8080/",
          "height": 0
        },
        "id": "c86a59b0",
        "outputId": "63c15c8e-c674-40bc-8789-2a793bc54ef8"
      },
      "source": [
        "data.shape"
      ],
      "id": "c86a59b0",
      "execution_count": 836,
      "outputs": [
        {
          "output_type": "execute_result",
          "data": {
            "text/plain": [
              "(700000, 50)"
            ]
          },
          "metadata": {
            "tags": []
          },
          "execution_count": 836
        }
      ]
    },
    {
      "cell_type": "code",
      "metadata": {
        "id": "ccb7a459"
      },
      "source": [
        "# Balance Dataset into Normal and Abnormal"
      ],
      "id": "ccb7a459",
      "execution_count": 837,
      "outputs": []
    },
    {
      "cell_type": "code",
      "metadata": {
        "id": "6c4a2452"
      },
      "source": [
        "data_normal=data.loc[data['Normal']==1]"
      ],
      "id": "6c4a2452",
      "execution_count": 840,
      "outputs": []
    },
    {
      "cell_type": "code",
      "metadata": {
        "colab": {
          "base_uri": "https://localhost:8080/",
          "height": 0
        },
        "id": "e9b3a9ab",
        "outputId": "775ff35f-9d79-4a4b-f569-d44bf9aebc93"
      },
      "source": [
        "data_normal.shape"
      ],
      "id": "e9b3a9ab",
      "execution_count": 841,
      "outputs": [
        {
          "output_type": "execute_result",
          "data": {
            "text/plain": [
              "(677785, 50)"
            ]
          },
          "metadata": {
            "tags": []
          },
          "execution_count": 841
        }
      ]
    },
    {
      "cell_type": "code",
      "metadata": {
        "id": "973676b9"
      },
      "source": [
        "data_30=pd.read_csv('/content/gdrive/MyDrive/ConferenceGriffith/UNSW-NB15_1NN_30F_OneHot_targets.csv')"
      ],
      "id": "973676b9",
      "execution_count": 842,
      "outputs": []
    },
    {
      "cell_type": "code",
      "metadata": {
        "colab": {
          "base_uri": "https://localhost:8080/",
          "height": 0
        },
        "id": "OM-1qF1yIryn",
        "outputId": "2866b13b-7e35-4e9a-e442-33d5da0dbbfa"
      },
      "source": [
        "data_30.columns"
      ],
      "id": "OM-1qF1yIryn",
      "execution_count": 843,
      "outputs": [
        {
          "output_type": "execute_result",
          "data": {
            "text/plain": [
              "Index(['Unnamed: 0', 'sbytes', 'dbytes', 'sttl', 'sloss', 'dloss', 'Sload',\n",
              "       'Dload', 'Spkts', 'Dpkts', 'swin', 'dwin', 'smeansz', 'dmeansz',\n",
              "       'trans_depth', 'res_bdy_len', 'Sjit', 'Djit', 'Ltime', 'Dintpkt',\n",
              "       'tcprtt', 'synack', 'is_sm_ips_ports', 'ct_flw_http_mthd',\n",
              "       'is_ftp_login', 'ct_srv_src', 'ct_srv_dst', 'ct_dst_ltm', 'ct_src_ ltm',\n",
              "       'ct_src_dport_ltm', 'ct_dst_sport_ltm', 'Normal', ' Fuzzers',\n",
              "       'Analysis', 'Backdoors', 'DoS', 'Exploits', 'Generic', 'Reconnaissance',\n",
              "       'Shellcode', 'Worms', 'Label'],\n",
              "      dtype='object')"
            ]
          },
          "metadata": {
            "tags": []
          },
          "execution_count": 843
        }
      ]
    },
    {
      "cell_type": "code",
      "metadata": {
        "colab": {
          "base_uri": "https://localhost:8080/",
          "height": 0
        },
        "id": "1vG5s48T3a5r",
        "outputId": "ae7d1f32-0f9d-485d-86a6-758a494430e4"
      },
      "source": [
        "data_30.shape"
      ],
      "id": "1vG5s48T3a5r",
      "execution_count": 844,
      "outputs": [
        {
          "output_type": "execute_result",
          "data": {
            "text/plain": [
              "(700000, 42)"
            ]
          },
          "metadata": {
            "tags": []
          },
          "execution_count": 844
        }
      ]
    },
    {
      "cell_type": "code",
      "metadata": {
        "id": "TLIzrVAu2crE"
      },
      "source": [
        "data_normal_30=data_30.loc[data['Normal']==1]"
      ],
      "id": "TLIzrVAu2crE",
      "execution_count": 845,
      "outputs": []
    },
    {
      "cell_type": "code",
      "metadata": {
        "id": "74dde3f3"
      },
      "source": [
        "data_anormal_30=data_30.loc[data['Normal']==0]"
      ],
      "id": "74dde3f3",
      "execution_count": 846,
      "outputs": []
    },
    {
      "cell_type": "code",
      "metadata": {
        "id": "6c5bGZ-h4dnL"
      },
      "source": [
        "data_normal_30=data_normal_30.to_csv('/content/gdrive/MyDrive/ConferenceGriffith/UNSW-NB15_1NN_30F_Normalwith10targets_OneHot.csv')"
      ],
      "id": "6c5bGZ-h4dnL",
      "execution_count": 847,
      "outputs": []
    },
    {
      "cell_type": "code",
      "metadata": {
        "id": "-eYssIhe4sKD"
      },
      "source": [
        "data_normal_30=pd.read_csv('/content/gdrive/MyDrive/ConferenceGriffith/UNSW-NB15_1NN_30F_Normalwith10targets_OneHot.csv')"
      ],
      "id": "-eYssIhe4sKD",
      "execution_count": 848,
      "outputs": []
    },
    {
      "cell_type": "code",
      "metadata": {
        "colab": {
          "base_uri": "https://localhost:8080/",
          "height": 0
        },
        "id": "boQyR7Fr21P9",
        "outputId": "2a062885-1063-48be-90bd-3c0888ee86d4"
      },
      "source": [
        "data_normal_30.shape"
      ],
      "id": "boQyR7Fr21P9",
      "execution_count": 849,
      "outputs": [
        {
          "output_type": "execute_result",
          "data": {
            "text/plain": [
              "(677785, 43)"
            ]
          },
          "metadata": {
            "tags": []
          },
          "execution_count": 849
        }
      ]
    },
    {
      "cell_type": "code",
      "metadata": {
        "colab": {
          "base_uri": "https://localhost:8080/",
          "height": 0
        },
        "id": "664655c3",
        "outputId": "57ba9f1f-2c0b-4889-d627-c9e5daf586d6"
      },
      "source": [
        "data_anormal_30.shape"
      ],
      "id": "664655c3",
      "execution_count": 850,
      "outputs": [
        {
          "output_type": "execute_result",
          "data": {
            "text/plain": [
              "(22215, 42)"
            ]
          },
          "metadata": {
            "tags": []
          },
          "execution_count": 850
        }
      ]
    },
    {
      "cell_type": "code",
      "metadata": {
        "id": "a74a9497"
      },
      "source": [
        "data_anormal_30=data_anormal_30.to_csv('/content/gdrive/MyDrive/ConferenceGriffith/UNSW-NB15_1NN_30F_Anormalwith10targets_OneHot.csv')"
      ],
      "id": "a74a9497",
      "execution_count": 851,
      "outputs": []
    },
    {
      "cell_type": "code",
      "metadata": {
        "id": "_tDD2JI94_c2"
      },
      "source": [
        "data_anormal_30=pd.read_csv('/content/gdrive/MyDrive/ConferenceGriffith/UNSW-NB15_1NN_30F_Anormalwith10targets_OneHot.csv')"
      ],
      "id": "_tDD2JI94_c2",
      "execution_count": 852,
      "outputs": []
    },
    {
      "cell_type": "code",
      "metadata": {
        "colab": {
          "base_uri": "https://localhost:8080/",
          "height": 0
        },
        "id": "5ShV9V6u5GMT",
        "outputId": "df589b8c-1c7b-4d8b-a584-b4cb69a167be"
      },
      "source": [
        "data_anormal_30.shape"
      ],
      "id": "5ShV9V6u5GMT",
      "execution_count": 853,
      "outputs": [
        {
          "output_type": "execute_result",
          "data": {
            "text/plain": [
              "(22215, 43)"
            ]
          },
          "metadata": {
            "tags": []
          },
          "execution_count": 853
        }
      ]
    },
    {
      "cell_type": "code",
      "metadata": {
        "colab": {
          "base_uri": "https://localhost:8080/",
          "height": 0
        },
        "id": "RX9Onfif5jCi",
        "outputId": "95dc2d22-a632-409a-cbc0-1319072f13ac"
      },
      "source": [
        "data_anormal_30.shape"
      ],
      "id": "RX9Onfif5jCi",
      "execution_count": 854,
      "outputs": [
        {
          "output_type": "execute_result",
          "data": {
            "text/plain": [
              "(22215, 43)"
            ]
          },
          "metadata": {
            "tags": []
          },
          "execution_count": 854
        }
      ]
    },
    {
      "cell_type": "code",
      "metadata": {
        "id": "BwnmslXf5nsC"
      },
      "source": [
        "data_normal_30=data_normal_30.drop(['Unnamed: 0'],axis=1)"
      ],
      "id": "BwnmslXf5nsC",
      "execution_count": 855,
      "outputs": []
    },
    {
      "cell_type": "code",
      "metadata": {
        "colab": {
          "base_uri": "https://localhost:8080/",
          "height": 0
        },
        "id": "GVgd4prj5rXu",
        "outputId": "21f34712-f9cf-4737-8141-fec56b8d6d15"
      },
      "source": [
        "data_normal_30.shape"
      ],
      "id": "GVgd4prj5rXu",
      "execution_count": 856,
      "outputs": [
        {
          "output_type": "execute_result",
          "data": {
            "text/plain": [
              "(677785, 42)"
            ]
          },
          "metadata": {
            "tags": []
          },
          "execution_count": 856
        }
      ]
    },
    {
      "cell_type": "markdown",
      "metadata": {
        "id": "1c4836ac"
      },
      "source": [
        "# 30 Features Split X, y"
      ],
      "id": "1c4836ac"
    },
    {
      "cell_type": "code",
      "metadata": {
        "id": "COkQUeoWIjZE"
      },
      "source": [
        "data_normal_30=pd.read_csv('/content/gdrive/MyDrive/ConferenceGriffith/UNSW-NB15_1NN_30F_Normalwith10targets_OneHot.csv')"
      ],
      "id": "COkQUeoWIjZE",
      "execution_count": 857,
      "outputs": []
    },
    {
      "cell_type": "code",
      "metadata": {
        "colab": {
          "base_uri": "https://localhost:8080/",
          "height": 0
        },
        "id": "qhHncznQIr_h",
        "outputId": "ba619142-9e36-413c-e7ba-50d1fd6d2149"
      },
      "source": [
        "data_normal_30.shape"
      ],
      "id": "qhHncznQIr_h",
      "execution_count": 858,
      "outputs": [
        {
          "output_type": "execute_result",
          "data": {
            "text/plain": [
              "(677785, 43)"
            ]
          },
          "metadata": {
            "tags": []
          },
          "execution_count": 858
        }
      ]
    },
    {
      "cell_type": "code",
      "metadata": {
        "id": "jKDq8FRUIkUn"
      },
      "source": [
        "data_anormal_30=pd.read_csv('/content/gdrive/MyDrive/ConferenceGriffith/UNSW-NB15_1NN_30F_Anormalwith10targets_OneHot.csv')"
      ],
      "id": "jKDq8FRUIkUn",
      "execution_count": 859,
      "outputs": []
    },
    {
      "cell_type": "code",
      "metadata": {
        "colab": {
          "base_uri": "https://localhost:8080/",
          "height": 0
        },
        "id": "6rlIz0f4IvaA",
        "outputId": "eb902f9d-82d3-40ab-cfb6-0369220659e2"
      },
      "source": [
        "data_anormal_30.shape"
      ],
      "id": "6rlIz0f4IvaA",
      "execution_count": 860,
      "outputs": [
        {
          "output_type": "execute_result",
          "data": {
            "text/plain": [
              "(22215, 43)"
            ]
          },
          "metadata": {
            "tags": []
          },
          "execution_count": 860
        }
      ]
    },
    {
      "cell_type": "code",
      "metadata": {
        "colab": {
          "base_uri": "https://localhost:8080/",
          "height": 0
        },
        "id": "hpLmjuEiJI29",
        "outputId": "f5095e90-6d89-4ed2-ba5b-e909790265ac"
      },
      "source": [
        "data_anormal_30.columns"
      ],
      "id": "hpLmjuEiJI29",
      "execution_count": 861,
      "outputs": [
        {
          "output_type": "execute_result",
          "data": {
            "text/plain": [
              "Index(['Unnamed: 0', 'Unnamed: 0.1', 'sbytes', 'dbytes', 'sttl', 'sloss',\n",
              "       'dloss', 'Sload', 'Dload', 'Spkts', 'Dpkts', 'swin', 'dwin', 'smeansz',\n",
              "       'dmeansz', 'trans_depth', 'res_bdy_len', 'Sjit', 'Djit', 'Ltime',\n",
              "       'Dintpkt', 'tcprtt', 'synack', 'is_sm_ips_ports', 'ct_flw_http_mthd',\n",
              "       'is_ftp_login', 'ct_srv_src', 'ct_srv_dst', 'ct_dst_ltm', 'ct_src_ ltm',\n",
              "       'ct_src_dport_ltm', 'ct_dst_sport_ltm', 'Normal', ' Fuzzers',\n",
              "       'Analysis', 'Backdoors', 'DoS', 'Exploits', 'Generic', 'Reconnaissance',\n",
              "       'Shellcode', 'Worms', 'Label'],\n",
              "      dtype='object')"
            ]
          },
          "metadata": {
            "tags": []
          },
          "execution_count": 861
        }
      ]
    },
    {
      "cell_type": "code",
      "metadata": {
        "colab": {
          "base_uri": "https://localhost:8080/",
          "height": 0
        },
        "id": "Pt-SpjM0I5BH",
        "outputId": "b1b63fbb-d9d0-4dd8-8cac-1f032dd31e33"
      },
      "source": [
        "data_normal_30.columns"
      ],
      "id": "Pt-SpjM0I5BH",
      "execution_count": 862,
      "outputs": [
        {
          "output_type": "execute_result",
          "data": {
            "text/plain": [
              "Index(['Unnamed: 0', 'Unnamed: 0.1', 'sbytes', 'dbytes', 'sttl', 'sloss',\n",
              "       'dloss', 'Sload', 'Dload', 'Spkts', 'Dpkts', 'swin', 'dwin', 'smeansz',\n",
              "       'dmeansz', 'trans_depth', 'res_bdy_len', 'Sjit', 'Djit', 'Ltime',\n",
              "       'Dintpkt', 'tcprtt', 'synack', 'is_sm_ips_ports', 'ct_flw_http_mthd',\n",
              "       'is_ftp_login', 'ct_srv_src', 'ct_srv_dst', 'ct_dst_ltm', 'ct_src_ ltm',\n",
              "       'ct_src_dport_ltm', 'ct_dst_sport_ltm', 'Normal', ' Fuzzers',\n",
              "       'Analysis', 'Backdoors', 'DoS', 'Exploits', 'Generic', 'Reconnaissance',\n",
              "       'Shellcode', 'Worms', 'Label'],\n",
              "      dtype='object')"
            ]
          },
          "metadata": {
            "tags": []
          },
          "execution_count": 862
        }
      ]
    },
    {
      "cell_type": "code",
      "metadata": {
        "id": "nsPwEHrWI5O2"
      },
      "source": [
        "data_normal_30=data_normal_30.drop(['Unnamed: 0.1'],axis=1)"
      ],
      "id": "nsPwEHrWI5O2",
      "execution_count": 863,
      "outputs": []
    },
    {
      "cell_type": "code",
      "metadata": {
        "id": "cbTaPLShJHaJ"
      },
      "source": [
        "data_anormal_30=data_anormal_30.drop(['Unnamed: 0.1'],axis=1)"
      ],
      "id": "cbTaPLShJHaJ",
      "execution_count": 864,
      "outputs": []
    },
    {
      "cell_type": "code",
      "metadata": {
        "id": "X7e3bgUJ5NK8"
      },
      "source": [
        "#700000 Lines Data Set \n",
        "#Select the first 30 columns as features \n",
        "X=data_30.iloc[:,1:31]\n",
        "#Slecte the 41-50 columns as targets \n",
        "y=data_30.iloc[:,31:41]"
      ],
      "id": "X7e3bgUJ5NK8",
      "execution_count": 865,
      "outputs": []
    },
    {
      "cell_type": "code",
      "metadata": {
        "colab": {
          "base_uri": "https://localhost:8080/",
          "height": 0
        },
        "id": "hU_jplIIR_we",
        "outputId": "341bd676-6d1b-4511-aa54-2b413bece377"
      },
      "source": [
        "X.shape"
      ],
      "id": "hU_jplIIR_we",
      "execution_count": 866,
      "outputs": [
        {
          "output_type": "execute_result",
          "data": {
            "text/plain": [
              "(700000, 30)"
            ]
          },
          "metadata": {
            "tags": []
          },
          "execution_count": 866
        }
      ]
    },
    {
      "cell_type": "code",
      "metadata": {
        "colab": {
          "base_uri": "https://localhost:8080/",
          "height": 0
        },
        "id": "_VL0-hthSCks",
        "outputId": "2226aca5-40e5-4c13-bb61-b1cdd14e75ae"
      },
      "source": [
        "y.shape"
      ],
      "id": "_VL0-hthSCks",
      "execution_count": 867,
      "outputs": [
        {
          "output_type": "execute_result",
          "data": {
            "text/plain": [
              "(700000, 10)"
            ]
          },
          "metadata": {
            "tags": []
          },
          "execution_count": 867
        }
      ]
    },
    {
      "cell_type": "code",
      "metadata": {
        "id": "c82c2b0f"
      },
      "source": [
        "#677785 Line Dataset normal only\n",
        "#Select the first 30 columns as features \n",
        "X_1=data_normal_30.iloc[:,1:31]\n",
        "#Slecte the 41-50 columns as targets \n",
        "y_1=data_normal_30.iloc[:,31:41]"
      ],
      "id": "c82c2b0f",
      "execution_count": 868,
      "outputs": []
    },
    {
      "cell_type": "code",
      "metadata": {
        "colab": {
          "base_uri": "https://localhost:8080/",
          "height": 0
        },
        "id": "gCuuPE-J7KYu",
        "outputId": "0ca595fb-7cb4-40f7-9392-078279580217"
      },
      "source": [
        "y_1.shape"
      ],
      "id": "gCuuPE-J7KYu",
      "execution_count": 869,
      "outputs": [
        {
          "output_type": "execute_result",
          "data": {
            "text/plain": [
              "(677785, 10)"
            ]
          },
          "metadata": {
            "tags": []
          },
          "execution_count": 869
        }
      ]
    },
    {
      "cell_type": "code",
      "metadata": {
        "id": "GLj995ZR6JYv"
      },
      "source": [
        "#22215 line anomaly Dataset \n",
        "#Select the first 30 columns as features \n",
        "X_2=data_anormal_30.iloc[:,1:31]\n",
        "#Slecte the 41-50 columns as targets \n",
        "y_2=data_anormal_30.iloc[:,31:41]"
      ],
      "id": "GLj995ZR6JYv",
      "execution_count": 870,
      "outputs": []
    },
    {
      "cell_type": "code",
      "metadata": {
        "colab": {
          "base_uri": "https://localhost:8080/",
          "height": 0
        },
        "id": "RPeHBRjI6JxN",
        "outputId": "4f7667b8-0ece-4c05-fa58-29b2adf19da4"
      },
      "source": [
        "X_2.shape"
      ],
      "id": "RPeHBRjI6JxN",
      "execution_count": 871,
      "outputs": [
        {
          "output_type": "execute_result",
          "data": {
            "text/plain": [
              "(22215, 30)"
            ]
          },
          "metadata": {
            "tags": []
          },
          "execution_count": 871
        }
      ]
    },
    {
      "cell_type": "code",
      "metadata": {
        "colab": {
          "base_uri": "https://localhost:8080/"
        },
        "id": "R3wrE4VeFxpe",
        "outputId": "e4750c42-d937-455b-a52f-7674541aabb2"
      },
      "source": [
        "y_2.shape"
      ],
      "id": "R3wrE4VeFxpe",
      "execution_count": null,
      "outputs": [
        {
          "output_type": "execute_result",
          "data": {
            "text/plain": [
              "(22215, 10)"
            ]
          },
          "metadata": {
            "tags": []
          },
          "execution_count": 716
        }
      ]
    },
    {
      "cell_type": "code",
      "metadata": {
        "id": "870a4dca"
      },
      "source": [
        "#Select the first 40 columns as features \n",
        "X_3=data_anormal.iloc[:,1:31]\n",
        "#Slecte the 41-50 columns as targets \n",
        "y_3=data_anormal.iloc[:,31:41]"
      ],
      "id": "870a4dca",
      "execution_count": 875,
      "outputs": []
    },
    {
      "cell_type": "code",
      "metadata": {
        "colab": {
          "base_uri": "https://localhost:8080/",
          "height": 0
        },
        "id": "OGlc6BSJKHeN",
        "outputId": "706f8fa6-b458-4d13-df8d-55c4bd0c2f1a"
      },
      "source": [
        "y_3.shape"
      ],
      "id": "OGlc6BSJKHeN",
      "execution_count": 876,
      "outputs": [
        {
          "output_type": "execute_result",
          "data": {
            "text/plain": [
              "(22215, 10)"
            ]
          },
          "metadata": {
            "tags": []
          },
          "execution_count": 876
        }
      ]
    },
    {
      "cell_type": "markdown",
      "metadata": {
        "id": "ZP4F9uTaNN0F"
      },
      "source": [
        "#Anomral Activity Data Split "
      ],
      "id": "ZP4F9uTaNN0F"
    },
    {
      "cell_type": "markdown",
      "metadata": {
        "id": "3eeb5503"
      },
      "source": [
        "# PCA Dimensionality Reduciton Based on # 30 Feaures\n",
        "# Complete Activity\n",
        "#Normal Activity \n",
        "#Normal Activity\n",
        "#Anomaly activity"
      ],
      "id": "3eeb5503"
    },
    {
      "cell_type": "code",
      "metadata": {
        "id": "cd55977e"
      },
      "source": [
        "# Data stadanrdisation \n",
        "import pandas as pd\n",
        "import numpy as np\n",
        "import matplotlib.pyplot as plt\n",
        "from sklearn.decomposition import PCA\n",
        "from sklearn.preprocessing import StandardScaler"
      ],
      "id": "cd55977e",
      "execution_count": 878,
      "outputs": []
    },
    {
      "cell_type": "code",
      "metadata": {
        "colab": {
          "base_uri": "https://localhost:8080/",
          "height": 0
        },
        "id": "xCIkt90J8Doj",
        "outputId": "ae61c835-fe40-4b1c-e3d8-fd35c8922f8e"
      },
      "source": [
        "X=np.array(X)\n",
        "X.shape"
      ],
      "id": "xCIkt90J8Doj",
      "execution_count": 879,
      "outputs": [
        {
          "output_type": "execute_result",
          "data": {
            "text/plain": [
              "(700000, 30)"
            ]
          },
          "metadata": {
            "tags": []
          },
          "execution_count": 879
        }
      ]
    },
    {
      "cell_type": "code",
      "metadata": {
        "id": "iHMKItEH8DFz"
      },
      "source": [
        "y=np.array(y)"
      ],
      "id": "iHMKItEH8DFz",
      "execution_count": 882,
      "outputs": []
    },
    {
      "cell_type": "code",
      "metadata": {
        "id": "16d73c1a",
        "colab": {
          "base_uri": "https://localhost:8080/",
          "height": 0
        },
        "outputId": "6b7f178e-2594-401d-b62f-c82099bcf0ec"
      },
      "source": [
        "X_1=np.array(X_1)\n",
        "X_1.shape"
      ],
      "id": "16d73c1a",
      "execution_count": 880,
      "outputs": [
        {
          "output_type": "execute_result",
          "data": {
            "text/plain": [
              "(677785, 30)"
            ]
          },
          "metadata": {
            "tags": []
          },
          "execution_count": 880
        }
      ]
    },
    {
      "cell_type": "code",
      "metadata": {
        "id": "b1dd44ec"
      },
      "source": [
        "y_1=np.array(y_1)"
      ],
      "id": "b1dd44ec",
      "execution_count": 881,
      "outputs": []
    },
    {
      "cell_type": "code",
      "metadata": {
        "id": "7f083bea",
        "colab": {
          "base_uri": "https://localhost:8080/"
        },
        "outputId": "33aaece4-4b42-4546-d4d8-60aeda5be5e1"
      },
      "source": [
        "X_2=np.array(X_2)\n",
        "X_2.shape"
      ],
      "id": "7f083bea",
      "execution_count": null,
      "outputs": [
        {
          "output_type": "execute_result",
          "data": {
            "text/plain": [
              "(22215, 30)"
            ]
          },
          "metadata": {
            "tags": []
          },
          "execution_count": 724
        }
      ]
    },
    {
      "cell_type": "code",
      "metadata": {
        "id": "4806416e"
      },
      "source": [
        "y_2=np.array(y_2)"
      ],
      "id": "4806416e",
      "execution_count": null,
      "outputs": []
    },
    {
      "cell_type": "code",
      "metadata": {
        "id": "HlviHYNpNyZl",
        "colab": {
          "base_uri": "https://localhost:8080/",
          "height": 0
        },
        "outputId": "4fd76fa4-8741-457f-a313-68627ab54f26"
      },
      "source": [
        "X_3=np.array(X_3)\n",
        "X_3.shape"
      ],
      "id": "HlviHYNpNyZl",
      "execution_count": 883,
      "outputs": [
        {
          "output_type": "execute_result",
          "data": {
            "text/plain": [
              "(22215, 30)"
            ]
          },
          "metadata": {
            "tags": []
          },
          "execution_count": 883
        }
      ]
    },
    {
      "cell_type": "code",
      "metadata": {
        "id": "HIR9LAKlNzKP"
      },
      "source": [
        "y_3=np.array(y_3)"
      ],
      "id": "HIR9LAKlNzKP",
      "execution_count": null,
      "outputs": []
    },
    {
      "cell_type": "code",
      "metadata": {
        "id": "PUarUtH_8XCg"
      },
      "source": [
        "#Standardizing the features\n",
        "X=StandardScaler().fit_transform(X)\n"
      ],
      "id": "PUarUtH_8XCg",
      "execution_count": 885,
      "outputs": []
    },
    {
      "cell_type": "code",
      "metadata": {
        "id": "7c7a4d47"
      },
      "source": [
        "#Standardizing the features\n",
        "X_1=StandardScaler().fit_transform(X_1)\n"
      ],
      "id": "7c7a4d47",
      "execution_count": 886,
      "outputs": []
    },
    {
      "cell_type": "code",
      "metadata": {
        "id": "f3e31ee1"
      },
      "source": [
        "X_2=StandardScaler().fit_transform(X_2)\n"
      ],
      "id": "f3e31ee1",
      "execution_count": 887,
      "outputs": []
    },
    {
      "cell_type": "code",
      "metadata": {
        "colab": {
          "base_uri": "https://localhost:8080/",
          "height": 0
        },
        "id": "05ZczKQ0KeDm",
        "outputId": "75ccd899-be92-40d9-b080-a7e83facd509"
      },
      "source": [
        "y_1.shape"
      ],
      "id": "05ZczKQ0KeDm",
      "execution_count": 888,
      "outputs": [
        {
          "output_type": "execute_result",
          "data": {
            "text/plain": [
              "(677785, 10)"
            ]
          },
          "metadata": {
            "tags": []
          },
          "execution_count": 888
        }
      ]
    },
    {
      "cell_type": "code",
      "metadata": {
        "id": "ZdfbZzghFIs5"
      },
      "source": [
        "y_2=StandardScaler().fit_transform(y_2)"
      ],
      "id": "ZdfbZzghFIs5",
      "execution_count": null,
      "outputs": []
    },
    {
      "cell_type": "code",
      "metadata": {
        "colab": {
          "base_uri": "https://localhost:8080/"
        },
        "id": "1K5zzvhuFJBY",
        "outputId": "6ba0b7e5-e5d4-45e9-d731-24e4e4304d0f"
      },
      "source": [
        "y_2.shape"
      ],
      "id": "1K5zzvhuFJBY",
      "execution_count": null,
      "outputs": [
        {
          "output_type": "execute_result",
          "data": {
            "text/plain": [
              "(22215, 10)"
            ]
          },
          "metadata": {
            "tags": []
          },
          "execution_count": 735
        }
      ]
    },
    {
      "cell_type": "markdown",
      "metadata": {
        "id": "SJeCQXYU8z2k"
      },
      "source": [
        "#Complete Activity PCA data"
      ],
      "id": "SJeCQXYU8z2k"
    },
    {
      "cell_type": "code",
      "metadata": {
        "colab": {
          "base_uri": "https://localhost:8080/",
          "height": 0
        },
        "id": "FiVdkZkh8fi2",
        "outputId": "27c0819f-0a39-40ac-ab51-548a80412ce3"
      },
      "source": [
        "#29 Features \n",
        "pca = PCA(n_components=29)\n",
        "principalComponents_29 = pca.fit_transform(X)\n",
        "pca.explained_variance_ratio_"
      ],
      "id": "FiVdkZkh8fi2",
      "execution_count": 889,
      "outputs": [
        {
          "output_type": "execute_result",
          "data": {
            "text/plain": [
              "array([1.81616171e-01, 1.11659162e-01, 8.05736049e-02, 7.94319263e-02,\n",
              "       7.40044653e-02, 6.76953770e-02, 4.43425538e-02, 4.18501853e-02,\n",
              "       3.77008630e-02, 3.42369905e-02, 3.29365484e-02, 3.11463362e-02,\n",
              "       2.86867014e-02, 2.27292645e-02, 2.22981214e-02, 1.86652851e-02,\n",
              "       1.82146606e-02, 1.49169536e-02, 1.37414790e-02, 1.27611207e-02,\n",
              "       8.30822308e-03, 6.53104150e-03, 5.75992469e-03, 5.40703839e-03,\n",
              "       2.62217766e-03, 1.79000802e-03, 2.23638226e-04, 8.34456540e-05,\n",
              "       5.30869504e-05])"
            ]
          },
          "metadata": {
            "tags": []
          },
          "execution_count": 889
        }
      ]
    },
    {
      "cell_type": "code",
      "metadata": {
        "colab": {
          "base_uri": "https://localhost:8080/",
          "height": 295
        },
        "id": "jo3yirE29D6E",
        "outputId": "01d12434-e5a8-407d-f2a4-61af578bd8a1"
      },
      "source": [
        "importance = pca.explained_variance_ratio_\n",
        "plt.scatter(range(1,30),importance)\n",
        "plt.plot(range(1,30),importance)\n",
        "plt.title('Scree Plot')\n",
        "plt.xlabel('Factors')\n",
        "plt.ylabel('Eigenvalue')\n",
        "plt.grid()\n",
        "plt.show()"
      ],
      "id": "jo3yirE29D6E",
      "execution_count": 890,
      "outputs": [
        {
          "output_type": "display_data",
          "data": {
            "image/png": "[encoded data removed]",
            "text/plain": [
              "<Figure size 432x288 with 1 Axes>"
            ]
          },
          "metadata": {
            "tags": [],
            "needs_background": "light"
          }
        }
      ]
    },
    {
      "cell_type": "code",
      "metadata": {
        "colab": {
          "base_uri": "https://localhost:8080/",
          "height": 296
        },
        "id": "9DIiE1yM9EER",
        "outputId": "6936de4c-c565-4bf8-94c3-9f6e793e58d4"
      },
      "source": [
        "plt.plot(np.cumsum(pca.explained_variance_ratio_))\n",
        "plt.xlabel('number of components')\n",
        "plt.ylabel('cumlative explained variance')"
      ],
      "id": "9DIiE1yM9EER",
      "execution_count": 891,
      "outputs": [
        {
          "output_type": "execute_result",
          "data": {
            "text/plain": [
              "Text(0, 0.5, 'cumlative explained variance')"
            ]
          },
          "metadata": {
            "tags": []
          },
          "execution_count": 891
        },
        {
          "output_type": "display_data",
          "data": {
            "image/png": "[encoded data removed]",
            "text/plain": [
              "<Figure size 432x288 with 1 Axes>"
            ]
          },
          "metadata": {
            "tags": [],
            "needs_background": "light"
          }
        }
      ]
    },
    {
      "cell_type": "code",
      "metadata": {
        "colab": {
          "base_uri": "https://localhost:8080/",
          "height": 0
        },
        "id": "574YOWfc9ERQ",
        "outputId": "fad115a0-46ff-4d6e-fd9e-61b121b45dea"
      },
      "source": [
        "A=np.cumsum(pca.explained_variance_ratio_)\n",
        "a"
      ],
      "id": "574YOWfc9ERQ",
      "execution_count": 892,
      "outputs": [
        {
          "output_type": "execute_result",
          "data": {
            "text/plain": [
              "array([0.19361082, 0.30243354, 0.385165  , 0.4650019 , 0.53919764,\n",
              "       0.60694434, 0.65032815, 0.69127602, 0.72780273, 0.76116474,\n",
              "       0.79346295, 0.82363465, 0.84867347, 0.8718197 , 0.89149664,\n",
              "       0.91020815, 0.92657829, 0.94115445, 0.95462843, 0.96549962,\n",
              "       0.97505464, 0.98173563, 0.98816029, 0.99362292, 0.99753855,\n",
              "       0.99969817, 0.9998885 , 0.99997117, 0.99999215])"
            ]
          },
          "metadata": {
            "tags": []
          },
          "execution_count": 892
        }
      ]
    },
    {
      "cell_type": "code",
      "metadata": {
        "colab": {
          "base_uri": "https://localhost:8080/",
          "height": 0
        },
        "id": "dGSYQ7uv8fsx",
        "outputId": "2e59383b-b6d1-4414-e5bd-f0a1db5ae43d"
      },
      "source": [
        "#19 Feature\n",
        "pca = PCA(n_components=19)\n",
        "principalComponents_19 = pca.fit_transform(X)\n",
        "pca.explained_variance_ratio_"
      ],
      "id": "dGSYQ7uv8fsx",
      "execution_count": 894,
      "outputs": [
        {
          "output_type": "execute_result",
          "data": {
            "text/plain": [
              "array([0.18161617, 0.11165916, 0.0805736 , 0.07943193, 0.07400447,\n",
              "       0.06769538, 0.04434255, 0.04185019, 0.03770086, 0.03423699,\n",
              "       0.03293655, 0.03114634, 0.0286867 , 0.02272926, 0.02229812,\n",
              "       0.01866529, 0.01821466, 0.01491695, 0.01374148])"
            ]
          },
          "metadata": {
            "tags": []
          },
          "execution_count": 894
        }
      ]
    },
    {
      "cell_type": "code",
      "metadata": {
        "colab": {
          "base_uri": "https://localhost:8080/",
          "height": 295
        },
        "id": "Exc1sNin9FQn",
        "outputId": "9bf18263-e2f0-4e98-90a8-839c3cf29e35"
      },
      "source": [
        "importance = pca.explained_variance_ratio_\n",
        "plt.scatter(range(1,20),importance)\n",
        "plt.plot(range(1,20),importance)\n",
        "plt.title('Scree Plot')\n",
        "plt.xlabel('Factors')\n",
        "plt.ylabel('Eigenvalue')\n",
        "plt.grid()\n",
        "plt.show()"
      ],
      "id": "Exc1sNin9FQn",
      "execution_count": 895,
      "outputs": [
        {
          "output_type": "display_data",
          "data": {
            "image/png": "[encoded data removed]",
            "text/plain": [
              "<Figure size 432x288 with 1 Axes>"
            ]
          },
          "metadata": {
            "tags": [],
            "needs_background": "light"
          }
        }
      ]
    },
    {
      "cell_type": "code",
      "metadata": {
        "colab": {
          "base_uri": "https://localhost:8080/",
          "height": 296
        },
        "id": "q8odYtZk9FcR",
        "outputId": "19f5fa2b-d893-47cf-9df3-d8fad914603c"
      },
      "source": [
        "plt.plot(np.cumsum(pca.explained_variance_ratio_))\n",
        "plt.xlabel('number of components')\n",
        "plt.ylabel('cumlative explained variance')"
      ],
      "id": "q8odYtZk9FcR",
      "execution_count": 896,
      "outputs": [
        {
          "output_type": "execute_result",
          "data": {
            "text/plain": [
              "Text(0, 0.5, 'cumlative explained variance')"
            ]
          },
          "metadata": {
            "tags": []
          },
          "execution_count": 896
        },
        {
          "output_type": "display_data",
          "data": {
            "image/png": "[encoded data removed]",
            "text/plain": [
              "<Figure size 432x288 with 1 Axes>"
            ]
          },
          "metadata": {
            "tags": [],
            "needs_background": "light"
          }
        }
      ]
    },
    {
      "cell_type": "code",
      "metadata": {
        "colab": {
          "base_uri": "https://localhost:8080/",
          "height": 0
        },
        "id": "3xm0AK0s9Fso",
        "outputId": "0d9e4268-6517-4617-e5f7-cc475d2d4f73"
      },
      "source": [
        "b=np.cumsum(pca.explained_variance_ratio_)\n",
        "b"
      ],
      "id": "3xm0AK0s9Fso",
      "execution_count": 897,
      "outputs": [
        {
          "output_type": "execute_result",
          "data": {
            "text/plain": [
              "array([0.18161617, 0.29327533, 0.37384894, 0.45328087, 0.52728533,\n",
              "       0.59498071, 0.63932326, 0.68117345, 0.71887431, 0.7531113 ,\n",
              "       0.78604785, 0.81719418, 0.84588089, 0.86861015, 0.89090827,\n",
              "       0.90957356, 0.92778822, 0.94270517, 0.95644665])"
            ]
          },
          "metadata": {
            "tags": []
          },
          "execution_count": 897
        }
      ]
    },
    {
      "cell_type": "code",
      "metadata": {
        "colab": {
          "base_uri": "https://localhost:8080/",
          "height": 0
        },
        "id": "gorIIoc48fxL",
        "outputId": "d8b92345-5027-4683-a618-18f08bc365ca"
      },
      "source": [
        "#15 Feature\n",
        "pca = PCA(n_components=15)\n",
        "principalComponents_15 = pca.fit_transform(X)\n",
        "pca.explained_variance_ratio_"
      ],
      "id": "gorIIoc48fxL",
      "execution_count": 898,
      "outputs": [
        {
          "output_type": "execute_result",
          "data": {
            "text/plain": [
              "array([0.18161617, 0.11165916, 0.0805736 , 0.07943193, 0.07400447,\n",
              "       0.06769538, 0.04434255, 0.04185019, 0.03770086, 0.03423699,\n",
              "       0.03293655, 0.03114634, 0.0286867 , 0.02272926, 0.02229812])"
            ]
          },
          "metadata": {
            "tags": []
          },
          "execution_count": 898
        }
      ]
    },
    {
      "cell_type": "code",
      "metadata": {
        "colab": {
          "base_uri": "https://localhost:8080/",
          "height": 295
        },
        "id": "t2iBfDdV9Gv2",
        "outputId": "2d004bef-5267-48a4-e522-ffe34ed508b3"
      },
      "source": [
        "importance = pca.explained_variance_ratio_\n",
        "plt.scatter(range(1,16),importance)\n",
        "plt.plot(range(1,16),importance)\n",
        "plt.title('Scree Plot')\n",
        "plt.xlabel('Factors')\n",
        "plt.ylabel('Eigenvalue')\n",
        "plt.grid()\n",
        "plt.show()"
      ],
      "id": "t2iBfDdV9Gv2",
      "execution_count": 899,
      "outputs": [
        {
          "output_type": "display_data",
          "data": {
            "image/png": "[encoded data removed]",
            "text/plain": [
              "<Figure size 432x288 with 1 Axes>"
            ]
          },
          "metadata": {
            "tags": [],
            "needs_background": "light"
          }
        }
      ]
    },
    {
      "cell_type": "code",
      "metadata": {
        "colab": {
          "base_uri": "https://localhost:8080/",
          "height": 296
        },
        "id": "1DVS8SZN9G57",
        "outputId": "a3fd440d-8245-48b9-fcb5-099661f16226"
      },
      "source": [
        "plt.plot(np.cumsum(pca.explained_variance_ratio_))\n",
        "plt.xlabel('number of components')\n",
        "plt.ylabel('cumlative explained variance')"
      ],
      "id": "1DVS8SZN9G57",
      "execution_count": 900,
      "outputs": [
        {
          "output_type": "execute_result",
          "data": {
            "text/plain": [
              "Text(0, 0.5, 'cumlative explained variance')"
            ]
          },
          "metadata": {
            "tags": []
          },
          "execution_count": 900
        },
        {
          "output_type": "display_data",
          "data": {
            "image/png": "[encoded data removed]",
            "text/plain": [
              "<Figure size 432x288 with 1 Axes>"
            ]
          },
          "metadata": {
            "tags": [],
            "needs_background": "light"
          }
        }
      ]
    },
    {
      "cell_type": "code",
      "metadata": {
        "colab": {
          "base_uri": "https://localhost:8080/",
          "height": 0
        },
        "id": "kk9ejUiP9HEZ",
        "outputId": "28f392b0-3c36-487a-caa7-350881025221"
      },
      "source": [
        "C=np.cumsum(pca.explained_variance_ratio_)\n",
        "C"
      ],
      "id": "kk9ejUiP9HEZ",
      "execution_count": 901,
      "outputs": [
        {
          "output_type": "execute_result",
          "data": {
            "text/plain": [
              "array([0.18161617, 0.29327533, 0.37384894, 0.45328087, 0.52728533,\n",
              "       0.59498071, 0.63932326, 0.68117345, 0.71887431, 0.7531113 ,\n",
              "       0.78604785, 0.81719418, 0.84588089, 0.86861015, 0.89090827])"
            ]
          },
          "metadata": {
            "tags": []
          },
          "execution_count": 901
        }
      ]
    },
    {
      "cell_type": "code",
      "metadata": {
        "colab": {
          "base_uri": "https://localhost:8080/",
          "height": 0
        },
        "id": "XHqtOs3T8f1X",
        "outputId": "b41a8239-bdab-445d-f1c3-8d9688fab049"
      },
      "source": [
        "#12 Feature\n",
        "pca = PCA(n_components=12)\n",
        "principalComponents_12 = pca.fit_transform(X)\n",
        "pca.explained_variance_ratio_"
      ],
      "id": "XHqtOs3T8f1X",
      "execution_count": 902,
      "outputs": [
        {
          "output_type": "execute_result",
          "data": {
            "text/plain": [
              "array([0.18161617, 0.11165916, 0.0805736 , 0.07943193, 0.07400447,\n",
              "       0.06769538, 0.04434255, 0.04185018, 0.03770085, 0.03423699,\n",
              "       0.03293654, 0.03114632])"
            ]
          },
          "metadata": {
            "tags": []
          },
          "execution_count": 902
        }
      ]
    },
    {
      "cell_type": "code",
      "metadata": {
        "colab": {
          "base_uri": "https://localhost:8080/",
          "height": 295
        },
        "id": "zgd7wRMf9IC6",
        "outputId": "0cbe7f70-ca8b-4399-fb93-d3a8f7dc560f"
      },
      "source": [
        "importance = pca.explained_variance_ratio_\n",
        "plt.scatter(range(1,13),importance)\n",
        "plt.plot(range(1,13),importance)\n",
        "plt.title('Scree Plot')\n",
        "plt.xlabel('Factors')\n",
        "plt.ylabel('Eigenvalue')\n",
        "plt.grid()\n",
        "plt.show()"
      ],
      "id": "zgd7wRMf9IC6",
      "execution_count": 903,
      "outputs": [
        {
          "output_type": "display_data",
          "data": {
            "image/png": "[encoded data removed]",
            "text/plain": [
              "<Figure size 432x288 with 1 Axes>"
            ]
          },
          "metadata": {
            "tags": [],
            "needs_background": "light"
          }
        }
      ]
    },
    {
      "cell_type": "code",
      "metadata": {
        "colab": {
          "base_uri": "https://localhost:8080/",
          "height": 296
        },
        "id": "KJhhjlG09IL1",
        "outputId": "a63d7b28-1371-4f90-f519-952dd7d62ddd"
      },
      "source": [
        "plt.plot(np.cumsum(pca.explained_variance_ratio_))\n",
        "plt.xlabel('number of components')\n",
        "plt.ylabel('cumlative explained variance')"
      ],
      "id": "KJhhjlG09IL1",
      "execution_count": 904,
      "outputs": [
        {
          "output_type": "execute_result",
          "data": {
            "text/plain": [
              "Text(0, 0.5, 'cumlative explained variance')"
            ]
          },
          "metadata": {
            "tags": []
          },
          "execution_count": 904
        },
        {
          "output_type": "display_data",
          "data": {
            "image/png": "[encoded data removed]",
            "text/plain": [
              "<Figure size 432x288 with 1 Axes>"
            ]
          },
          "metadata": {
            "tags": [],
            "needs_background": "light"
          }
        }
      ]
    },
    {
      "cell_type": "code",
      "metadata": {
        "colab": {
          "base_uri": "https://localhost:8080/",
          "height": 0
        },
        "id": "dRcIZxbj9IVX",
        "outputId": "b42e13a2-a443-4ca8-a109-802d15a58c87"
      },
      "source": [
        "d=np.cumsum(pca.explained_variance_ratio_)\n",
        "d"
      ],
      "id": "dRcIZxbj9IVX",
      "execution_count": 905,
      "outputs": [
        {
          "output_type": "execute_result",
          "data": {
            "text/plain": [
              "array([0.18161617, 0.29327533, 0.37384894, 0.45328087, 0.52728533,\n",
              "       0.59498071, 0.63932326, 0.68117344, 0.71887429, 0.75311128,\n",
              "       0.78604782, 0.81719414])"
            ]
          },
          "metadata": {
            "tags": []
          },
          "execution_count": 905
        }
      ]
    },
    {
      "cell_type": "code",
      "metadata": {
        "colab": {
          "base_uri": "https://localhost:8080/",
          "height": 0
        },
        "id": "EkYOt6-I8f5R",
        "outputId": "8df535ea-5e8a-4869-b3cc-1b033abb2b6b"
      },
      "source": [
        "#9 Feature\n",
        "pca = PCA(n_components=9)\n",
        "principalComponents_9 = pca.fit_transform(X)\n",
        "pca.explained_variance_ratio_"
      ],
      "id": "EkYOt6-I8f5R",
      "execution_count": 906,
      "outputs": [
        {
          "output_type": "execute_result",
          "data": {
            "text/plain": [
              "array([0.18161617, 0.11165916, 0.0805736 , 0.07943193, 0.07400446,\n",
              "       0.06769536, 0.04434221, 0.04185013, 0.03770018])"
            ]
          },
          "metadata": {
            "tags": []
          },
          "execution_count": 906
        }
      ]
    },
    {
      "cell_type": "code",
      "metadata": {
        "colab": {
          "base_uri": "https://localhost:8080/",
          "height": 295
        },
        "id": "tzC9IF-r9I3k",
        "outputId": "a3eaf073-8e6f-4f2e-971d-ecfb6d631d8c"
      },
      "source": [
        "importance = pca.explained_variance_ratio_\n",
        "plt.scatter(range(1,10),importance)\n",
        "plt.plot(range(1,10),importance)\n",
        "plt.title('Scree Plot')\n",
        "plt.xlabel('Factors')\n",
        "plt.ylabel('Eigenvalue')\n",
        "plt.grid()\n",
        "plt.show()"
      ],
      "id": "tzC9IF-r9I3k",
      "execution_count": null,
      "outputs": [
        {
          "output_type": "display_data",
          "data": {
            "image/png": "[encoded data removed]",
            "text/plain": [
              "<Figure size 432x288 with 1 Axes>"
            ]
          },
          "metadata": {
            "tags": [],
            "needs_background": "light"
          }
        }
      ]
    },
    {
      "cell_type": "code",
      "metadata": {
        "colab": {
          "base_uri": "https://localhost:8080/",
          "height": 296
        },
        "id": "HinnEoTL9JBf",
        "outputId": "928c76d5-a25f-4e0f-9317-f4cbd2221c22"
      },
      "source": [
        "plt.plot(np.cumsum(pca.explained_variance_ratio_))\n",
        "plt.xlabel('number of components')\n",
        "plt.ylabel('cumlative explained variance')"
      ],
      "id": "HinnEoTL9JBf",
      "execution_count": 907,
      "outputs": [
        {
          "output_type": "execute_result",
          "data": {
            "text/plain": [
              "Text(0, 0.5, 'cumlative explained variance')"
            ]
          },
          "metadata": {
            "tags": []
          },
          "execution_count": 907
        },
        {
          "output_type": "display_data",
          "data": {
            "image/png": "[encoded data removed]",
            "text/plain": [
              "<Figure size 432x288 with 1 Axes>"
            ]
          },
          "metadata": {
            "tags": [],
            "needs_background": "light"
          }
        }
      ]
    },
    {
      "cell_type": "code",
      "metadata": {
        "colab": {
          "base_uri": "https://localhost:8080/"
        },
        "id": "9FrUtJJp8f9U",
        "outputId": "4a6ed26f-e282-41fc-e976-0fe33faede21"
      },
      "source": [
        "e=np.cumsum(pca.explained_variance_ratio_)\n",
        "e"
      ],
      "id": "9FrUtJJp8f9U",
      "execution_count": null,
      "outputs": [
        {
          "output_type": "execute_result",
          "data": {
            "text/plain": [
              "array([0.18161617, 0.29327533, 0.37384894, 0.45328086, 0.52728532,\n",
              "       0.59498065, 0.63932155, 0.68117112, 0.71887176])"
            ]
          },
          "metadata": {
            "tags": []
          },
          "execution_count": 755
        }
      ]
    },
    {
      "cell_type": "markdown",
      "metadata": {
        "id": "79TFiNx0-Vv7"
      },
      "source": [
        "# Normal Activity PCA Data"
      ],
      "id": "79TFiNx0-Vv7"
    },
    {
      "cell_type": "code",
      "metadata": {
        "colab": {
          "base_uri": "https://localhost:8080/",
          "height": 0
        },
        "id": "6c37caaf",
        "outputId": "1e2e4b10-f659-4715-8b98-cbf514a80a53"
      },
      "source": [
        "#29 Features \n",
        "pca = PCA(n_components=29)\n",
        "principalComponents_normal_29 = pca.fit_transform(X_1)\n",
        "pca.explained_variance_ratio_"
      ],
      "id": "6c37caaf",
      "execution_count": 908,
      "outputs": [
        {
          "output_type": "execute_result",
          "data": {
            "text/plain": [
              "array([1.93610818e-01, 1.08822721e-01, 8.27314603e-02, 7.98369061e-02,\n",
              "       7.41957388e-02, 6.77466949e-02, 4.33838122e-02, 4.09478678e-02,\n",
              "       3.65267075e-02, 3.33620182e-02, 3.22982062e-02, 3.01716973e-02,\n",
              "       2.50388250e-02, 2.31462304e-02, 1.96769328e-02, 1.87115158e-02,\n",
              "       1.63701414e-02, 1.45761531e-02, 1.34739789e-02, 1.08711988e-02,\n",
              "       9.55501293e-03, 6.68099182e-03, 6.42466002e-03, 5.46263529e-03,\n",
              "       3.91562978e-03, 2.15961438e-03, 1.90330823e-04, 8.26741057e-05,\n",
              "       2.09809036e-05])"
            ]
          },
          "metadata": {
            "tags": []
          },
          "execution_count": 908
        }
      ]
    },
    {
      "cell_type": "code",
      "metadata": {
        "colab": {
          "base_uri": "https://localhost:8080/",
          "height": 295
        },
        "id": "b90ce15f",
        "outputId": "19d57b5c-56fa-4949-e71f-2ea0443b8251"
      },
      "source": [
        "importance = pca.explained_variance_ratio_\n",
        "plt.scatter(range(1,30),importance)\n",
        "plt.plot(range(1,30),importance)\n",
        "plt.title('Scree Plot')\n",
        "plt.xlabel('Factors')\n",
        "plt.ylabel('Eigenvalue')\n",
        "plt.grid()\n",
        "plt.show()"
      ],
      "id": "b90ce15f",
      "execution_count": 909,
      "outputs": [
        {
          "output_type": "display_data",
          "data": {
            "image/png": "[encoded data removed]",
            "text/plain": [
              "<Figure size 432x288 with 1 Axes>"
            ]
          },
          "metadata": {
            "tags": [],
            "needs_background": "light"
          }
        }
      ]
    },
    {
      "cell_type": "code",
      "metadata": {
        "colab": {
          "base_uri": "https://localhost:8080/",
          "height": 296
        },
        "id": "d2f67d76",
        "outputId": "46b6a14d-6791-45c8-d7fd-4c66a5bfa87f"
      },
      "source": [
        "plt.plot(np.cumsum(pca.explained_variance_ratio_))\n",
        "plt.xlabel('number of components')\n",
        "plt.ylabel('cumlative explained variance')"
      ],
      "id": "d2f67d76",
      "execution_count": 910,
      "outputs": [
        {
          "output_type": "execute_result",
          "data": {
            "text/plain": [
              "Text(0, 0.5, 'cumlative explained variance')"
            ]
          },
          "metadata": {
            "tags": []
          },
          "execution_count": 910
        },
        {
          "output_type": "display_data",
          "data": {
            "image/png": "[encoded data removed]",
            "text/plain": [
              "<Figure size 432x288 with 1 Axes>"
            ]
          },
          "metadata": {
            "tags": [],
            "needs_background": "light"
          }
        }
      ]
    },
    {
      "cell_type": "code",
      "metadata": {
        "colab": {
          "base_uri": "https://localhost:8080/",
          "height": 0
        },
        "id": "80d35dd2",
        "outputId": "d371946d-8e1b-4f45-a213-8e6968cd3521"
      },
      "source": [
        "a=np.cumsum(pca.explained_variance_ratio_)\n",
        "a"
      ],
      "id": "80d35dd2",
      "execution_count": 911,
      "outputs": [
        {
          "output_type": "execute_result",
          "data": {
            "text/plain": [
              "array([0.19361082, 0.30243354, 0.385165  , 0.4650019 , 0.53919764,\n",
              "       0.60694434, 0.65032815, 0.69127602, 0.72780273, 0.76116474,\n",
              "       0.79346295, 0.82363465, 0.84867347, 0.8718197 , 0.89149664,\n",
              "       0.91020815, 0.92657829, 0.94115445, 0.95462843, 0.96549962,\n",
              "       0.97505464, 0.98173563, 0.98816029, 0.99362292, 0.99753855,\n",
              "       0.99969817, 0.9998885 , 0.99997117, 0.99999215])"
            ]
          },
          "metadata": {
            "tags": []
          },
          "execution_count": 911
        }
      ]
    },
    {
      "cell_type": "code",
      "metadata": {
        "id": "e537857b"
      },
      "source": [
        "# Feature 19"
      ],
      "id": "e537857b",
      "execution_count": null,
      "outputs": []
    },
    {
      "cell_type": "code",
      "metadata": {
        "colab": {
          "base_uri": "https://localhost:8080/",
          "height": 0
        },
        "id": "1be14787",
        "outputId": "2907c7a3-774a-47a2-f56f-7f0bff6cf1b4"
      },
      "source": [
        "pca = PCA(n_components=19)\n",
        "principalComponents_normal_19 = pca.fit_transform(X_1)\n",
        "pca.explained_variance_ratio_"
      ],
      "id": "1be14787",
      "execution_count": 912,
      "outputs": [
        {
          "output_type": "execute_result",
          "data": {
            "text/plain": [
              "array([0.19361082, 0.10882272, 0.08273146, 0.07983691, 0.07419574,\n",
              "       0.06774669, 0.04338381, 0.04094787, 0.03652671, 0.03336202,\n",
              "       0.03229821, 0.0301717 , 0.02503883, 0.02314623, 0.01967693,\n",
              "       0.01871152, 0.01637014, 0.01457615, 0.01347398])"
            ]
          },
          "metadata": {
            "tags": []
          },
          "execution_count": 912
        }
      ]
    },
    {
      "cell_type": "code",
      "metadata": {
        "colab": {
          "base_uri": "https://localhost:8080/",
          "height": 0
        },
        "id": "fjr_q8rM1wI1",
        "outputId": "831b1ce4-24e6-4ed7-cb6a-c8ae56868e6d"
      },
      "source": [
        "principalComponents_normal_19.shape"
      ],
      "id": "fjr_q8rM1wI1",
      "execution_count": 913,
      "outputs": [
        {
          "output_type": "execute_result",
          "data": {
            "text/plain": [
              "(677785, 19)"
            ]
          },
          "metadata": {
            "tags": []
          },
          "execution_count": 913
        }
      ]
    },
    {
      "cell_type": "code",
      "metadata": {
        "colab": {
          "base_uri": "https://localhost:8080/",
          "height": 295
        },
        "id": "d9fd22dc",
        "outputId": "176b8299-2699-4c43-98a5-54daac9197be"
      },
      "source": [
        "importance = pca.explained_variance_ratio_\n",
        "plt.scatter(range(1,20),importance)\n",
        "plt.plot(range(1,20),importance)\n",
        "plt.title('Scree Plot')\n",
        "plt.xlabel('Factors')\n",
        "plt.ylabel('Eigenvalue')\n",
        "plt.grid()\n",
        "plt.show()"
      ],
      "id": "d9fd22dc",
      "execution_count": 914,
      "outputs": [
        {
          "output_type": "display_data",
          "data": {
            "image/png": "[encoded data removed]",
            "text/plain": [
              "<Figure size 432x288 with 1 Axes>"
            ]
          },
          "metadata": {
            "tags": [],
            "needs_background": "light"
          }
        }
      ]
    },
    {
      "cell_type": "code",
      "metadata": {
        "colab": {
          "base_uri": "https://localhost:8080/",
          "height": 296
        },
        "id": "5f21a8d4",
        "outputId": "a883cd9a-2596-44c9-dbe5-8d90a1e1ddfc"
      },
      "source": [
        "plt.plot(np.cumsum(pca.explained_variance_ratio_))\n",
        "plt.xlabel('number of components')\n",
        "plt.ylabel('cumlative explained variance')"
      ],
      "id": "5f21a8d4",
      "execution_count": 915,
      "outputs": [
        {
          "output_type": "execute_result",
          "data": {
            "text/plain": [
              "Text(0, 0.5, 'cumlative explained variance')"
            ]
          },
          "metadata": {
            "tags": []
          },
          "execution_count": 915
        },
        {
          "output_type": "display_data",
          "data": {
            "image/png": "[encoded data removed]",
            "text/plain": [
              "<Figure size 432x288 with 1 Axes>"
            ]
          },
          "metadata": {
            "tags": [],
            "needs_background": "light"
          }
        }
      ]
    },
    {
      "cell_type": "code",
      "metadata": {
        "colab": {
          "base_uri": "https://localhost:8080/",
          "height": 0
        },
        "id": "9bf417bc",
        "outputId": "144db672-d826-4513-c579-c4a58071e823"
      },
      "source": [
        "b=np.cumsum(pca.explained_variance_ratio_)\n",
        "b"
      ],
      "id": "9bf417bc",
      "execution_count": 917,
      "outputs": [
        {
          "output_type": "execute_result",
          "data": {
            "text/plain": [
              "array([0.19361082, 0.30243354, 0.385165  , 0.4650019 , 0.53919764,\n",
              "       0.60694434, 0.65032815, 0.69127602, 0.72780273, 0.76116474,\n",
              "       0.79346295, 0.82363465, 0.84867347, 0.8718197 , 0.89149664,\n",
              "       0.91020815, 0.92657829, 0.94115445, 0.95462843])"
            ]
          },
          "metadata": {
            "tags": []
          },
          "execution_count": 917
        }
      ]
    },
    {
      "cell_type": "code",
      "metadata": {
        "id": "3c39b69b"
      },
      "source": [
        "# Normal Feature 15"
      ],
      "id": "3c39b69b",
      "execution_count": null,
      "outputs": []
    },
    {
      "cell_type": "code",
      "metadata": {
        "colab": {
          "base_uri": "https://localhost:8080/",
          "height": 0
        },
        "id": "7595dd64",
        "outputId": "a2349b24-1c94-44c1-f50b-7dc031dd3960"
      },
      "source": [
        "pca = PCA(n_components=15)\n",
        "principalComponents_normal_15 = pca.fit_transform(X_1)\n",
        "pca.explained_variance_ratio_"
      ],
      "id": "7595dd64",
      "execution_count": 918,
      "outputs": [
        {
          "output_type": "execute_result",
          "data": {
            "text/plain": [
              "array([0.19361082, 0.10882272, 0.08273146, 0.07983691, 0.07419574,\n",
              "       0.06774669, 0.04338381, 0.04094787, 0.03652671, 0.03336202,\n",
              "       0.03229821, 0.0301717 , 0.02503883, 0.02314623, 0.01967693])"
            ]
          },
          "metadata": {
            "tags": []
          },
          "execution_count": 918
        }
      ]
    },
    {
      "cell_type": "code",
      "metadata": {
        "colab": {
          "base_uri": "https://localhost:8080/",
          "height": 295
        },
        "id": "03293558",
        "outputId": "7976d4f4-c15b-4dfb-f388-20312e842d8e"
      },
      "source": [
        "importance = pca.explained_variance_ratio_\n",
        "plt.scatter(range(1,16),importance)\n",
        "plt.plot(range(1,16),importance)\n",
        "plt.title('Scree Plot')\n",
        "plt.xlabel('Factors')\n",
        "plt.ylabel('Eigenvalue')\n",
        "plt.grid()\n",
        "plt.show()"
      ],
      "id": "03293558",
      "execution_count": 919,
      "outputs": [
        {
          "output_type": "display_data",
          "data": {
            "image/png": "[encoded data removed]",
            "text/plain": [
              "<Figure size 432x288 with 1 Axes>"
            ]
          },
          "metadata": {
            "tags": [],
            "needs_background": "light"
          }
        }
      ]
    },
    {
      "cell_type": "code",
      "metadata": {
        "colab": {
          "base_uri": "https://localhost:8080/",
          "height": 296
        },
        "id": "10575ab0",
        "outputId": "17273540-b3df-4fee-d012-d6d077c30164"
      },
      "source": [
        "plt.plot(np.cumsum(pca.explained_variance_ratio_))\n",
        "plt.xlabel('number of components')\n",
        "plt.ylabel('cumlative explained variance')"
      ],
      "id": "10575ab0",
      "execution_count": 920,
      "outputs": [
        {
          "output_type": "execute_result",
          "data": {
            "text/plain": [
              "Text(0, 0.5, 'cumlative explained variance')"
            ]
          },
          "metadata": {
            "tags": []
          },
          "execution_count": 920
        },
        {
          "output_type": "display_data",
          "data": {
            "image/png": "[encoded data removed]",
            "text/plain": [
              "<Figure size 432x288 with 1 Axes>"
            ]
          },
          "metadata": {
            "tags": [],
            "needs_background": "light"
          }
        }
      ]
    },
    {
      "cell_type": "code",
      "metadata": {
        "colab": {
          "base_uri": "https://localhost:8080/",
          "height": 0
        },
        "id": "8b75b78d",
        "outputId": "91124112-5120-4fe8-b938-e46bd866158f"
      },
      "source": [
        "c=np.cumsum(pca.explained_variance_ratio_)\n",
        "c"
      ],
      "id": "8b75b78d",
      "execution_count": 921,
      "outputs": [
        {
          "output_type": "execute_result",
          "data": {
            "text/plain": [
              "array([0.19361082, 0.30243354, 0.385165  , 0.4650019 , 0.53919764,\n",
              "       0.60694434, 0.65032815, 0.69127602, 0.72780273, 0.76116474,\n",
              "       0.79346295, 0.82363465, 0.84867347, 0.8718197 , 0.89149664])"
            ]
          },
          "metadata": {
            "tags": []
          },
          "execution_count": 921
        }
      ]
    },
    {
      "cell_type": "code",
      "metadata": {
        "id": "_HrJ2jvXOf0l"
      },
      "source": [
        "# Feature 12 "
      ],
      "id": "_HrJ2jvXOf0l",
      "execution_count": null,
      "outputs": []
    },
    {
      "cell_type": "code",
      "metadata": {
        "colab": {
          "base_uri": "https://localhost:8080/",
          "height": 0
        },
        "id": "ONuCaOfmOgB0",
        "outputId": "179cddb0-8967-4410-cf5d-dd5bece07324"
      },
      "source": [
        "pca = PCA(n_components=12)\n",
        "principalComponents_normal_12 = pca.fit_transform(X_1)\n",
        "pca.explained_variance_ratio_"
      ],
      "id": "ONuCaOfmOgB0",
      "execution_count": 922,
      "outputs": [
        {
          "output_type": "execute_result",
          "data": {
            "text/plain": [
              "array([0.19361082, 0.10882272, 0.08273146, 0.07983691, 0.07419574,\n",
              "       0.06774669, 0.0433838 , 0.04094787, 0.03652671, 0.03336197,\n",
              "       0.03229819, 0.03017164])"
            ]
          },
          "metadata": {
            "tags": []
          },
          "execution_count": 922
        }
      ]
    },
    {
      "cell_type": "code",
      "metadata": {
        "colab": {
          "base_uri": "https://localhost:8080/",
          "height": 295
        },
        "id": "KuNcntaPOgNU",
        "outputId": "f72e8005-9601-417b-a567-7aac433d3fdd"
      },
      "source": [
        "importance = pca.explained_variance_ratio_\n",
        "plt.scatter(range(1,13),importance)\n",
        "plt.plot(range(1,13),importance)\n",
        "plt.title('Scree Plot')\n",
        "plt.xlabel('Factors')\n",
        "plt.ylabel('Eigenvalue')\n",
        "plt.grid()\n",
        "plt.show()"
      ],
      "id": "KuNcntaPOgNU",
      "execution_count": 923,
      "outputs": [
        {
          "output_type": "display_data",
          "data": {
            "image/png": "[encoded data removed]",
            "text/plain": [
              "<Figure size 432x288 with 1 Axes>"
            ]
          },
          "metadata": {
            "tags": [],
            "needs_background": "light"
          }
        }
      ]
    },
    {
      "cell_type": "code",
      "metadata": {
        "colab": {
          "base_uri": "https://localhost:8080/",
          "height": 296
        },
        "id": "WBEqFHJSOgYk",
        "outputId": "4e02eb67-9ff5-495d-d7bc-a9f0a916da17"
      },
      "source": [
        "plt.plot(np.cumsum(pca.explained_variance_ratio_))\n",
        "plt.xlabel('number of components')\n",
        "plt.ylabel('cumlative explained variance')"
      ],
      "id": "WBEqFHJSOgYk",
      "execution_count": 924,
      "outputs": [
        {
          "output_type": "execute_result",
          "data": {
            "text/plain": [
              "Text(0, 0.5, 'cumlative explained variance')"
            ]
          },
          "metadata": {
            "tags": []
          },
          "execution_count": 924
        },
        {
          "output_type": "display_data",
          "data": {
            "image/png": "[encoded data removed]",
            "text/plain": [
              "<Figure size 432x288 with 1 Axes>"
            ]
          },
          "metadata": {
            "tags": [],
            "needs_background": "light"
          }
        }
      ]
    },
    {
      "cell_type": "code",
      "metadata": {
        "colab": {
          "base_uri": "https://localhost:8080/",
          "height": 0
        },
        "id": "U_hg906hOgw8",
        "outputId": "359613dc-249d-4617-a49b-835d9a74f49e"
      },
      "source": [
        "d=np.cumsum(pca.explained_variance_ratio_)\n",
        "d"
      ],
      "id": "U_hg906hOgw8",
      "execution_count": 925,
      "outputs": [
        {
          "output_type": "execute_result",
          "data": {
            "text/plain": [
              "array([0.19361082, 0.30243354, 0.385165  , 0.4650019 , 0.53919764,\n",
              "       0.60694434, 0.65032814, 0.69127601, 0.72780271, 0.76116469,\n",
              "       0.79346288, 0.82363452])"
            ]
          },
          "metadata": {
            "tags": []
          },
          "execution_count": 925
        }
      ]
    },
    {
      "cell_type": "code",
      "metadata": {
        "id": "10d93f93"
      },
      "source": [
        "#Normal Feature 9"
      ],
      "id": "10d93f93",
      "execution_count": null,
      "outputs": []
    },
    {
      "cell_type": "code",
      "metadata": {
        "colab": {
          "base_uri": "https://localhost:8080/",
          "height": 0
        },
        "id": "02818828",
        "outputId": "2b982577-0a24-481e-ccbb-6c79d21080da"
      },
      "source": [
        "pca = PCA(n_components=9)\n",
        "principalComponents_normal_9 = pca.fit_transform(X_1)\n",
        "pca.explained_variance_ratio_"
      ],
      "id": "02818828",
      "execution_count": 926,
      "outputs": [
        {
          "output_type": "execute_result",
          "data": {
            "text/plain": [
              "array([0.19361082, 0.10882272, 0.08273146, 0.0798369 , 0.07419574,\n",
              "       0.06774669, 0.04338374, 0.04094777, 0.03652661])"
            ]
          },
          "metadata": {
            "tags": []
          },
          "execution_count": 926
        }
      ]
    },
    {
      "cell_type": "code",
      "metadata": {
        "colab": {
          "base_uri": "https://localhost:8080/",
          "height": 0
        },
        "id": "23fb8eb4",
        "outputId": "98cb1521-a3c4-40b7-a1cf-85379ae131c4"
      },
      "source": [
        "print(principalComponents_normal_9.shape)"
      ],
      "id": "23fb8eb4",
      "execution_count": 927,
      "outputs": [
        {
          "output_type": "stream",
          "text": [
            "(677785, 9)\n"
          ],
          "name": "stdout"
        }
      ]
    },
    {
      "cell_type": "code",
      "metadata": {
        "colab": {
          "base_uri": "https://localhost:8080/",
          "height": 295
        },
        "id": "82828eab",
        "outputId": "1daaece4-5e15-4fc8-9ca5-ae5f09750329"
      },
      "source": [
        "importance = pca.explained_variance_ratio_\n",
        "plt.scatter(range(1,10),importance)\n",
        "plt.plot(range(1,10),importance)\n",
        "plt.title('Scree Plot')\n",
        "plt.xlabel('Factors')\n",
        "plt.ylabel('Eigenvalue')\n",
        "plt.grid()\n",
        "plt.show()"
      ],
      "id": "82828eab",
      "execution_count": 928,
      "outputs": [
        {
          "output_type": "display_data",
          "data": {
            "image/png": "[encoded data removed]",
            "text/plain": [
              "<Figure size 432x288 with 1 Axes>"
            ]
          },
          "metadata": {
            "tags": [],
            "needs_background": "light"
          }
        }
      ]
    },
    {
      "cell_type": "code",
      "metadata": {
        "colab": {
          "base_uri": "https://localhost:8080/",
          "height": 296
        },
        "id": "3353ccb6",
        "outputId": "25d08a26-753d-4922-af27-32d2e0367a62"
      },
      "source": [
        "plt.plot(np.cumsum(pca.explained_variance_ratio_))\n",
        "plt.xlabel('number of components')\n",
        "plt.ylabel('cumlative explained variance')"
      ],
      "id": "3353ccb6",
      "execution_count": 929,
      "outputs": [
        {
          "output_type": "execute_result",
          "data": {
            "text/plain": [
              "Text(0, 0.5, 'cumlative explained variance')"
            ]
          },
          "metadata": {
            "tags": []
          },
          "execution_count": 929
        },
        {
          "output_type": "display_data",
          "data": {
            "image/png": "[encoded data removed]",
            "text/plain": [
              "<Figure size 432x288 with 1 Axes>"
            ]
          },
          "metadata": {
            "tags": [],
            "needs_background": "light"
          }
        }
      ]
    },
    {
      "cell_type": "code",
      "metadata": {
        "colab": {
          "base_uri": "https://localhost:8080/",
          "height": 0
        },
        "id": "bfd685f9",
        "outputId": "c5e4dc7a-2446-4a58-9e9f-c6a938e3ac0e"
      },
      "source": [
        "e=np.cumsum(pca.explained_variance_ratio_)\n",
        "e"
      ],
      "id": "bfd685f9",
      "execution_count": 930,
      "outputs": [
        {
          "output_type": "execute_result",
          "data": {
            "text/plain": [
              "array([0.19361082, 0.30243354, 0.385165  , 0.4650019 , 0.53919764,\n",
              "       0.60694433, 0.65032807, 0.69127584, 0.72780245])"
            ]
          },
          "metadata": {
            "tags": []
          },
          "execution_count": 930
        }
      ]
    },
    {
      "cell_type": "markdown",
      "metadata": {
        "id": "a5aebb28"
      },
      "source": [
        "# PCA Dimensionality Reduciton Based on # 30 Feaures\n",
        "# Anormal Activity "
      ],
      "id": "a5aebb28"
    },
    {
      "cell_type": "code",
      "metadata": {
        "id": "cb5a457e"
      },
      "source": [
        "# 29 Feature "
      ],
      "id": "cb5a457e",
      "execution_count": 931,
      "outputs": []
    },
    {
      "cell_type": "code",
      "metadata": {
        "colab": {
          "base_uri": "https://localhost:8080/",
          "height": 0
        },
        "id": "514379c3",
        "outputId": "e0d27507-a657-45e3-dc37-0a2455f36150"
      },
      "source": [
        "pca = PCA(n_components=29)\n",
        "principalComponents_anormal_29 = pca.fit_transform(X_2)\n",
        "pca.explained_variance_ratio_"
      ],
      "id": "514379c3",
      "execution_count": 932,
      "outputs": [
        {
          "output_type": "execute_result",
          "data": {
            "text/plain": [
              "array([2.69497353e-01, 1.21216362e-01, 1.03523697e-01, 8.72875661e-02,\n",
              "       6.83058827e-02, 5.46527794e-02, 4.67508561e-02, 3.98425472e-02,\n",
              "       3.51690985e-02, 3.15703487e-02, 2.88007208e-02, 2.33493010e-02,\n",
              "       1.98924034e-02, 1.75415440e-02, 1.39344418e-02, 1.05315230e-02,\n",
              "       8.39173191e-03, 6.65301020e-03, 4.66428250e-03, 2.50477417e-03,\n",
              "       1.75490242e-03, 1.38528304e-03, 1.33261519e-03, 1.17323837e-03,\n",
              "       1.67682973e-04, 4.73943591e-05, 3.65181406e-05, 1.58146345e-05,\n",
              "       6.32719214e-06])"
            ]
          },
          "metadata": {
            "tags": []
          },
          "execution_count": 932
        }
      ]
    },
    {
      "cell_type": "code",
      "metadata": {
        "colab": {
          "base_uri": "https://localhost:8080/",
          "height": 0
        },
        "id": "fd4tYrln_rQA",
        "outputId": "abf16d89-895d-4e6f-b5f2-bcbd1437155f"
      },
      "source": [
        "principalComponents_anormal_29.shape"
      ],
      "id": "fd4tYrln_rQA",
      "execution_count": 933,
      "outputs": [
        {
          "output_type": "execute_result",
          "data": {
            "text/plain": [
              "(22215, 29)"
            ]
          },
          "metadata": {
            "tags": []
          },
          "execution_count": 933
        }
      ]
    },
    {
      "cell_type": "code",
      "metadata": {
        "colab": {
          "base_uri": "https://localhost:8080/",
          "height": 295
        },
        "id": "0e67a2ba",
        "outputId": "e7fda760-e1e1-44f0-c7bf-69567e997699"
      },
      "source": [
        "importance = pca.explained_variance_ratio_\n",
        "plt.scatter(range(1,30),importance)\n",
        "plt.plot(range(1,30),importance)\n",
        "plt.title('Scree Plot')\n",
        "plt.xlabel('Factors')\n",
        "plt.ylabel('Eigenvalue')\n",
        "plt.grid()\n",
        "plt.show()"
      ],
      "id": "0e67a2ba",
      "execution_count": 934,
      "outputs": [
        {
          "output_type": "display_data",
          "data": {
            "image/png": "[encoded data removed]",
            "text/plain": [
              "<Figure size 432x288 with 1 Axes>"
            ]
          },
          "metadata": {
            "tags": [],
            "needs_background": "light"
          }
        }
      ]
    },
    {
      "cell_type": "code",
      "metadata": {
        "colab": {
          "base_uri": "https://localhost:8080/",
          "height": 296
        },
        "id": "1d42dc70",
        "outputId": "289c5226-ed5c-445b-cf2d-eeb167717253"
      },
      "source": [
        "plt.plot(np.cumsum(pca.explained_variance_ratio_))\n",
        "plt.xlabel('number of components')\n",
        "plt.ylabel('cumlative explained variance')"
      ],
      "id": "1d42dc70",
      "execution_count": 935,
      "outputs": [
        {
          "output_type": "execute_result",
          "data": {
            "text/plain": [
              "Text(0, 0.5, 'cumlative explained variance')"
            ]
          },
          "metadata": {
            "tags": []
          },
          "execution_count": 935
        },
        {
          "output_type": "display_data",
          "data": {
            "image/png": "[encoded data removed]",
            "text/plain": [
              "<Figure size 432x288 with 1 Axes>"
            ]
          },
          "metadata": {
            "tags": [],
            "needs_background": "light"
          }
        }
      ]
    },
    {
      "cell_type": "code",
      "metadata": {
        "colab": {
          "base_uri": "https://localhost:8080/",
          "height": 0
        },
        "id": "0c3c702b",
        "outputId": "a61cc62c-5ff7-4f6e-f721-39cd7669f75b"
      },
      "source": [
        "a_1=np.cumsum(pca.explained_variance_ratio_)\n",
        "a_1"
      ],
      "id": "0c3c702b",
      "execution_count": 936,
      "outputs": [
        {
          "output_type": "execute_result",
          "data": {
            "text/plain": [
              "array([0.26949735, 0.39071372, 0.49423741, 0.58152498, 0.64983086,\n",
              "       0.70448364, 0.7512345 , 0.79107704, 0.82624614, 0.85781649,\n",
              "       0.88661721, 0.90996651, 0.92985892, 0.94740046, 0.9613349 ,\n",
              "       0.97186642, 0.98025816, 0.98691117, 0.99157545, 0.99408022,\n",
              "       0.99583513, 0.99722041, 0.99855302, 0.99972626, 0.99989395,\n",
              "       0.99994134, 0.99997786, 0.99999367, 1.        ])"
            ]
          },
          "metadata": {
            "tags": []
          },
          "execution_count": 936
        }
      ]
    },
    {
      "cell_type": "code",
      "metadata": {
        "colab": {
          "base_uri": "https://localhost:8080/",
          "height": 0
        },
        "id": "a7b8ea89",
        "outputId": "c2fe9cd9-702b-438c-c681-f4089d890cc1"
      },
      "source": [
        "#Feature 19\n",
        "pca = PCA(n_components=19)\n",
        "principalComponents_anormal_19 = pca.fit_transform(X_2)\n",
        "pca.explained_variance_ratio_"
      ],
      "id": "a7b8ea89",
      "execution_count": 937,
      "outputs": [
        {
          "output_type": "execute_result",
          "data": {
            "text/plain": [
              "array([0.26949735, 0.12121636, 0.1035237 , 0.08728757, 0.06830588,\n",
              "       0.05465278, 0.04675086, 0.03984255, 0.0351691 , 0.03157035,\n",
              "       0.02880072, 0.0233493 , 0.0198924 , 0.01754154, 0.01393444,\n",
              "       0.01053152, 0.00839173, 0.00665301, 0.00466428])"
            ]
          },
          "metadata": {
            "tags": []
          },
          "execution_count": 937
        }
      ]
    },
    {
      "cell_type": "code",
      "metadata": {
        "colab": {
          "base_uri": "https://localhost:8080/",
          "height": 295
        },
        "id": "0d268a8d",
        "outputId": "f0c2585c-d5d8-4356-b418-3c5f46fbc4ab"
      },
      "source": [
        "importance = pca.explained_variance_ratio_\n",
        "plt.scatter(range(1,20),importance)\n",
        "plt.plot(range(1,20),importance)\n",
        "plt.title('Scree Plot')\n",
        "plt.xlabel('Factors')\n",
        "plt.ylabel('Eigenvalue')\n",
        "plt.grid()\n",
        "plt.show()"
      ],
      "id": "0d268a8d",
      "execution_count": 938,
      "outputs": [
        {
          "output_type": "display_data",
          "data": {
            "image/png": "[encoded data removed]",
            "text/plain": [
              "<Figure size 432x288 with 1 Axes>"
            ]
          },
          "metadata": {
            "tags": [],
            "needs_background": "light"
          }
        }
      ]
    },
    {
      "cell_type": "code",
      "metadata": {
        "colab": {
          "base_uri": "https://localhost:8080/",
          "height": 296
        },
        "id": "23198fe8",
        "outputId": "0b4d2609-c102-41f5-8263-3f336325ee6d"
      },
      "source": [
        "plt.plot(np.cumsum(pca.explained_variance_ratio_))\n",
        "plt.xlabel('number of components')\n",
        "plt.ylabel('cumlative explained variance')"
      ],
      "id": "23198fe8",
      "execution_count": 939,
      "outputs": [
        {
          "output_type": "execute_result",
          "data": {
            "text/plain": [
              "Text(0, 0.5, 'cumlative explained variance')"
            ]
          },
          "metadata": {
            "tags": []
          },
          "execution_count": 939
        },
        {
          "output_type": "display_data",
          "data": {
            "image/png": "[encoded data removed]",
            "text/plain": [
              "<Figure size 432x288 with 1 Axes>"
            ]
          },
          "metadata": {
            "tags": [],
            "needs_background": "light"
          }
        }
      ]
    },
    {
      "cell_type": "code",
      "metadata": {
        "colab": {
          "base_uri": "https://localhost:8080/",
          "height": 0
        },
        "id": "636e1b99",
        "outputId": "b3a70c7e-7182-487a-8750-5245f95c15e3"
      },
      "source": [
        "b_1=np.cumsum(pca.explained_variance_ratio_)\n",
        "b_1"
      ],
      "id": "636e1b99",
      "execution_count": 940,
      "outputs": [
        {
          "output_type": "execute_result",
          "data": {
            "text/plain": [
              "array([0.26949735, 0.39071372, 0.49423741, 0.58152498, 0.64983086,\n",
              "       0.70448364, 0.7512345 , 0.79107704, 0.82624614, 0.85781649,\n",
              "       0.88661721, 0.90996651, 0.92985892, 0.94740046, 0.9613349 ,\n",
              "       0.97186642, 0.98025816, 0.98691117, 0.99157545])"
            ]
          },
          "metadata": {
            "tags": []
          },
          "execution_count": 940
        }
      ]
    },
    {
      "cell_type": "code",
      "metadata": {
        "colab": {
          "base_uri": "https://localhost:8080/",
          "height": 0
        },
        "id": "80752f61",
        "outputId": "d55da6cb-8c16-42ae-9b10-572dd70ea519"
      },
      "source": [
        "#Feature 15\n",
        "pca = PCA(n_components=15)\n",
        "principalComponents_anormal_15 = pca.fit_transform(X_2)\n",
        "pca.explained_variance_ratio_"
      ],
      "id": "80752f61",
      "execution_count": 943,
      "outputs": [
        {
          "output_type": "execute_result",
          "data": {
            "text/plain": [
              "array([0.26949735, 0.12121636, 0.1035237 , 0.08728757, 0.06830588,\n",
              "       0.05465278, 0.04675086, 0.03984255, 0.0351691 , 0.03157035,\n",
              "       0.02880072, 0.0233493 , 0.0198924 , 0.01754154, 0.01393444])"
            ]
          },
          "metadata": {
            "tags": []
          },
          "execution_count": 943
        }
      ]
    },
    {
      "cell_type": "code",
      "metadata": {
        "colab": {
          "base_uri": "https://localhost:8080/",
          "height": 295
        },
        "id": "ca9b5035",
        "outputId": "9c24ebe6-5c0b-45b4-abaa-4c58e619c4e7"
      },
      "source": [
        "importance = pca.explained_variance_ratio_\n",
        "plt.scatter(range(1,16),importance)\n",
        "plt.plot(range(1,16),importance)\n",
        "plt.title('Scree Plot')\n",
        "plt.xlabel('Factors')\n",
        "plt.ylabel('Eigenvalue')\n",
        "plt.grid()\n",
        "plt.show()"
      ],
      "id": "ca9b5035",
      "execution_count": 942,
      "outputs": [
        {
          "output_type": "display_data",
          "data": {
            "image/png": "[encoded data removed]",
            "text/plain": [
              "<Figure size 432x288 with 1 Axes>"
            ]
          },
          "metadata": {
            "tags": [],
            "needs_background": "light"
          }
        }
      ]
    },
    {
      "cell_type": "code",
      "metadata": {
        "colab": {
          "base_uri": "https://localhost:8080/",
          "height": 296
        },
        "id": "8fd24fc3",
        "outputId": "71ec99fd-1e6f-45f7-c917-afe671cdc3b6"
      },
      "source": [
        "plt.plot(np.cumsum(pca.explained_variance_ratio_))\n",
        "plt.xlabel('number of components')\n",
        "plt.ylabel('cumlative explained variance')"
      ],
      "id": "8fd24fc3",
      "execution_count": 944,
      "outputs": [
        {
          "output_type": "execute_result",
          "data": {
            "text/plain": [
              "Text(0, 0.5, 'cumlative explained variance')"
            ]
          },
          "metadata": {
            "tags": []
          },
          "execution_count": 944
        },
        {
          "output_type": "display_data",
          "data": {
            "image/png": "[encoded data removed]",
            "text/plain": [
              "<Figure size 432x288 with 1 Axes>"
            ]
          },
          "metadata": {
            "tags": [],
            "needs_background": "light"
          }
        }
      ]
    },
    {
      "cell_type": "code",
      "metadata": {
        "colab": {
          "base_uri": "https://localhost:8080/",
          "height": 0
        },
        "id": "cb43087d",
        "outputId": "aefc4043-7e6a-4eec-c6e7-dc2355cee2cc"
      },
      "source": [
        "c_1=np.cumsum(pca.explained_variance_ratio_)\n",
        "c_1"
      ],
      "id": "cb43087d",
      "execution_count": 945,
      "outputs": [
        {
          "output_type": "execute_result",
          "data": {
            "text/plain": [
              "array([0.26949735, 0.39071372, 0.49423741, 0.58152498, 0.64983086,\n",
              "       0.70448364, 0.7512345 , 0.79107704, 0.82624614, 0.85781649,\n",
              "       0.88661721, 0.90996651, 0.92985892, 0.94740046, 0.9613349 ])"
            ]
          },
          "metadata": {
            "tags": []
          },
          "execution_count": 945
        }
      ]
    },
    {
      "cell_type": "code",
      "metadata": {
        "colab": {
          "base_uri": "https://localhost:8080/",
          "height": 0
        },
        "id": "-iJ1F8DZP21V",
        "outputId": "c9de89eb-c022-459e-c397-8127c495d912"
      },
      "source": [
        "#Feature 12\n",
        "pca = PCA(n_components=12)\n",
        "principalComponents_anormal_12 = pca.fit_transform(X_2)\n",
        "pca.explained_variance_ratio_"
      ],
      "id": "-iJ1F8DZP21V",
      "execution_count": 946,
      "outputs": [
        {
          "output_type": "execute_result",
          "data": {
            "text/plain": [
              "array([0.26949735, 0.12121636, 0.1035237 , 0.08728757, 0.06830588,\n",
              "       0.05465278, 0.04675086, 0.03984255, 0.0351691 , 0.03157035,\n",
              "       0.02880072, 0.0233493 ])"
            ]
          },
          "metadata": {
            "tags": []
          },
          "execution_count": 946
        }
      ]
    },
    {
      "cell_type": "code",
      "metadata": {
        "colab": {
          "base_uri": "https://localhost:8080/",
          "height": 295
        },
        "id": "CiqfGWUjPyFf",
        "outputId": "56453f4a-b9ee-451b-b4a0-c402d8ef2b1d"
      },
      "source": [
        "importance = pca.explained_variance_ratio_\n",
        "plt.scatter(range(1,13),importance)\n",
        "plt.plot(range(1,13),importance)\n",
        "plt.title('Scree Plot')\n",
        "plt.xlabel('Factors')\n",
        "plt.ylabel('Eigenvalue')\n",
        "plt.grid()\n",
        "plt.show()"
      ],
      "id": "CiqfGWUjPyFf",
      "execution_count": 947,
      "outputs": [
        {
          "output_type": "display_data",
          "data": {
            "image/png": "[encoded data removed]",
            "text/plain": [
              "<Figure size 432x288 with 1 Axes>"
            ]
          },
          "metadata": {
            "tags": [],
            "needs_background": "light"
          }
        }
      ]
    },
    {
      "cell_type": "code",
      "metadata": {
        "colab": {
          "base_uri": "https://localhost:8080/",
          "height": 296
        },
        "id": "jGVVXK-jPyL6",
        "outputId": "cba14468-2482-49ab-fe77-b157e0d17226"
      },
      "source": [
        "plt.plot(np.cumsum(pca.explained_variance_ratio_))\n",
        "plt.xlabel('number of components')\n",
        "plt.ylabel('cumlative explained variance')"
      ],
      "id": "jGVVXK-jPyL6",
      "execution_count": 948,
      "outputs": [
        {
          "output_type": "execute_result",
          "data": {
            "text/plain": [
              "Text(0, 0.5, 'cumlative explained variance')"
            ]
          },
          "metadata": {
            "tags": []
          },
          "execution_count": 948
        },
        {
          "output_type": "display_data",
          "data": {
            "image/png": "[encoded data removed]",
            "text/plain": [
              "<Figure size 432x288 with 1 Axes>"
            ]
          },
          "metadata": {
            "tags": [],
            "needs_background": "light"
          }
        }
      ]
    },
    {
      "cell_type": "code",
      "metadata": {
        "colab": {
          "base_uri": "https://localhost:8080/",
          "height": 0
        },
        "id": "0KY7QKPTPyQP",
        "outputId": "77450de9-b8b1-4131-abf0-0852444a03d1"
      },
      "source": [
        "d_1=np.cumsum(pca.explained_variance_ratio_)\n",
        "d_1"
      ],
      "id": "0KY7QKPTPyQP",
      "execution_count": 949,
      "outputs": [
        {
          "output_type": "execute_result",
          "data": {
            "text/plain": [
              "array([0.26949735, 0.39071372, 0.49423741, 0.58152498, 0.64983086,\n",
              "       0.70448364, 0.7512345 , 0.79107704, 0.82624614, 0.85781649,\n",
              "       0.88661721, 0.90996651])"
            ]
          },
          "metadata": {
            "tags": []
          },
          "execution_count": 949
        }
      ]
    },
    {
      "cell_type": "code",
      "metadata": {
        "id": "e3e254c0"
      },
      "source": [
        "# 9 Feature "
      ],
      "id": "e3e254c0",
      "execution_count": null,
      "outputs": []
    },
    {
      "cell_type": "code",
      "metadata": {
        "colab": {
          "base_uri": "https://localhost:8080/",
          "height": 0
        },
        "id": "50bf1199",
        "outputId": "9e959eab-734d-4ccb-ff6c-f316cb5a05d3"
      },
      "source": [
        "pca = PCA(n_components=9)\n",
        "principalComponents_anormal_9 = pca.fit_transform(X_2)\n",
        "pca.explained_variance_ratio_"
      ],
      "id": "50bf1199",
      "execution_count": 950,
      "outputs": [
        {
          "output_type": "execute_result",
          "data": {
            "text/plain": [
              "array([0.26949735, 0.12121636, 0.1035237 , 0.08728757, 0.06830588,\n",
              "       0.05465278, 0.04675086, 0.03984255, 0.0351691 ])"
            ]
          },
          "metadata": {
            "tags": []
          },
          "execution_count": 950
        }
      ]
    },
    {
      "cell_type": "code",
      "metadata": {
        "colab": {
          "base_uri": "https://localhost:8080/",
          "height": 0
        },
        "id": "f659cc82",
        "outputId": "3e2b42ab-ae9a-43ae-c155-3308003d8d07"
      },
      "source": [
        "print(principalComponents_anormal_9.shape)"
      ],
      "id": "f659cc82",
      "execution_count": 951,
      "outputs": [
        {
          "output_type": "stream",
          "text": [
            "(22215, 9)\n"
          ],
          "name": "stdout"
        }
      ]
    },
    {
      "cell_type": "code",
      "metadata": {
        "colab": {
          "base_uri": "https://localhost:8080/",
          "height": 295
        },
        "id": "e4aa6cc5",
        "outputId": "4c7e845c-6ff2-4aaa-8682-1e0d0ba1366d"
      },
      "source": [
        "importance = pca.explained_variance_ratio_\n",
        "plt.scatter(range(1,10),importance)\n",
        "plt.plot(range(1,10),importance)\n",
        "plt.title('Scree Plot')\n",
        "plt.xlabel('Factors')\n",
        "plt.ylabel('Eigenvalue')\n",
        "plt.grid()\n",
        "plt.show()"
      ],
      "id": "e4aa6cc5",
      "execution_count": 952,
      "outputs": [
        {
          "output_type": "display_data",
          "data": {
            "image/png": "[encoded data removed]",
            "text/plain": [
              "<Figure size 432x288 with 1 Axes>"
            ]
          },
          "metadata": {
            "tags": [],
            "needs_background": "light"
          }
        }
      ]
    },
    {
      "cell_type": "code",
      "metadata": {
        "colab": {
          "base_uri": "https://localhost:8080/",
          "height": 296
        },
        "id": "dfab76fc",
        "outputId": "185334e4-ae37-4510-e9ae-e8cbc62db52d"
      },
      "source": [
        "plt.plot(np.cumsum(pca.explained_variance_ratio_))\n",
        "plt.xlabel('number of components')\n",
        "plt.ylabel('cumlative explained variance')"
      ],
      "id": "dfab76fc",
      "execution_count": 953,
      "outputs": [
        {
          "output_type": "execute_result",
          "data": {
            "text/plain": [
              "Text(0, 0.5, 'cumlative explained variance')"
            ]
          },
          "metadata": {
            "tags": []
          },
          "execution_count": 953
        },
        {
          "output_type": "display_data",
          "data": {
            "image/png": "[encoded data removed]",
            "text/plain": [
              "<Figure size 432x288 with 1 Axes>"
            ]
          },
          "metadata": {
            "tags": [],
            "needs_background": "light"
          }
        }
      ]
    },
    {
      "cell_type": "code",
      "metadata": {
        "colab": {
          "base_uri": "https://localhost:8080/",
          "height": 0
        },
        "id": "858a38ae",
        "outputId": "5522475b-d011-4740-b7a1-e014b811df24"
      },
      "source": [
        "e_1=np.cumsum(pca.explained_variance_ratio_)\n",
        "e_1"
      ],
      "id": "858a38ae",
      "execution_count": 954,
      "outputs": [
        {
          "output_type": "execute_result",
          "data": {
            "text/plain": [
              "array([0.26949735, 0.39071372, 0.49423741, 0.58152498, 0.64983086,\n",
              "       0.70448364, 0.7512345 , 0.79107704, 0.82624614])"
            ]
          },
          "metadata": {
            "tags": []
          },
          "execution_count": 954
        }
      ]
    },
    {
      "cell_type": "markdown",
      "metadata": {
        "id": "2a020fc8"
      },
      "source": [
        "# PCA Dimensionality Reduciton _Anormal Data and KNN test "
      ],
      "id": "2a020fc8"
    },
    {
      "cell_type": "markdown",
      "metadata": {
        "id": "15aa8919"
      },
      "source": [
        "# 1. PCA-29 Feature Dimensionality _Anoral Dataset "
      ],
      "id": "15aa8919"
    },
    {
      "cell_type": "code",
      "metadata": {
        "id": "TEycctXyQyuj"
      },
      "source": [
        "from mlxtend.feature_selection import SequentialFeatureSelector as SFS\n",
        "from sklearn.linear_model import LinearRegression\n",
        "import pandas as pd\n",
        "import numpy as np\n",
        "import matplotlib.pyplot as plt\n",
        "import tensorflow as tf \n",
        "import sklearn\n",
        "from sklearn.decomposition import PCA\n",
        "from sklearn.preprocessing import StandardScaler\n",
        "from sklearn.neighbors import KNeighborsClassifier\n",
        "knn = KNeighborsClassifier(n_neighbors=10)"
      ],
      "id": "TEycctXyQyuj",
      "execution_count": 955,
      "outputs": []
    },
    {
      "cell_type": "code",
      "metadata": {
        "id": "pGWZHocyR-6S"
      },
      "source": [
        "from sklearn.metrics import accuracy_score\n",
        "from sklearn.metrics import classification_report\n",
        "from sklearn.metrics import confusion_matrix\n",
        "import sklearn.metrics as metrics\n"
      ],
      "id": "pGWZHocyR-6S",
      "execution_count": 956,
      "outputs": []
    },
    {
      "cell_type": "code",
      "metadata": {
        "id": "f24b2098"
      },
      "source": [
        "from sklearn.neighbors import KNeighborsClassifier\n",
        "knn=KNeighborsClassifier(n_neighbors=10)\n",
        "PCA_29a=principalComponents_anormal_29"
      ],
      "id": "f24b2098",
      "execution_count": 957,
      "outputs": []
    },
    {
      "cell_type": "code",
      "metadata": {
        "id": "efd94f97"
      },
      "source": [
        "# Split the anoraml dataset into training_test \n",
        "from sklearn.model_selection import train_test_split\n",
        "X_29a_train, X_29a_test, y_2_train, y_2_test=train_test_split(PCA_29a, y_2, random_state=0)"
      ],
      "id": "efd94f97",
      "execution_count": 958,
      "outputs": []
    },
    {
      "cell_type": "code",
      "metadata": {
        "colab": {
          "base_uri": "https://localhost:8080/",
          "height": 0
        },
        "id": "fee9eaee",
        "outputId": "dc9e275e-a818-4f7d-bcc1-bd7323f056a5"
      },
      "source": [
        "knn.fit(X_29a_train, y_2_train)"
      ],
      "id": "fee9eaee",
      "execution_count": 959,
      "outputs": [
        {
          "output_type": "execute_result",
          "data": {
            "text/plain": [
              "KNeighborsClassifier(algorithm='auto', leaf_size=30, metric='minkowski',\n",
              "                     metric_params=None, n_jobs=None, n_neighbors=10, p=2,\n",
              "                     weights='uniform')"
            ]
          },
          "metadata": {
            "tags": []
          },
          "execution_count": 959
        }
      ]
    },
    {
      "cell_type": "code",
      "metadata": {
        "colab": {
          "base_uri": "https://localhost:8080/",
          "height": 0
        },
        "id": "8256d78a",
        "outputId": "1b325284-2b11-4102-db77-deeebb9d208f"
      },
      "source": [
        "print(\"X_29a_train shape\",X_29a_train.shape )\n",
        "print(\"y_2_train shape\",y_2_train.shape )\n",
        "print(\"X_29a_test shape\",X_29a_test.shape )\n",
        "print(\"y_2_test shape\",y_2_test.shape )"
      ],
      "id": "8256d78a",
      "execution_count": 960,
      "outputs": [
        {
          "output_type": "stream",
          "text": [
            "X_29a_train shape (16661, 29)\n",
            "y_2_train shape (16661, 10)\n",
            "X_29a_test shape (5554, 29)\n",
            "y_2_test shape (5554, 10)\n"
          ],
          "name": "stdout"
        }
      ]
    },
    {
      "cell_type": "code",
      "metadata": {
        "colab": {
          "base_uri": "https://localhost:8080/",
          "height": 0
        },
        "id": "e528f255",
        "outputId": "58ab0518-6078-4158-ab76-a26ea68129a9"
      },
      "source": [
        "y_pred=knn.predict(X_29a_test)\n",
        "print(\"Test set predictions:\\n\", y_pred)\n",
        "print(\"Test score:{:.4f}\".format(np.mean([y_pred==y_2_test])))"
      ],
      "id": "e528f255",
      "execution_count": 962,
      "outputs": [
        {
          "output_type": "stream",
          "text": [
            "Test set predictions:\n",
            " [[0 0 0 ... 0 0 0]\n",
            " [0 0 0 ... 0 0 0]\n",
            " [0 0 0 ... 0 0 0]\n",
            " ...\n",
            " [0 0 0 ... 0 0 0]\n",
            " [0 0 0 ... 0 0 0]\n",
            " [0 0 0 ... 0 0 0]]\n",
            "Test score:0.9577\n"
          ],
          "name": "stdout"
        }
      ]
    },
    {
      "cell_type": "code",
      "metadata": {
        "id": "3n9-nyV7RJ7N",
        "colab": {
          "base_uri": "https://localhost:8080/",
          "height": 0
        },
        "outputId": "8f3b942b-2bea-4eb4-c293-be2f4a3d0590"
      },
      "source": [
        "print(classification_report(y_2_test, y_pred))"
      ],
      "id": "3n9-nyV7RJ7N",
      "execution_count": 963,
      "outputs": [
        {
          "output_type": "stream",
          "text": [
            "              precision    recall  f1-score   support\n",
            "\n",
            "           0       0.00      0.00      0.00         0\n",
            "           1       0.86      0.69      0.77      1292\n",
            "           2       0.77      0.08      0.14       129\n",
            "           3       0.00      0.00      0.00       136\n",
            "           4       0.45      0.03      0.06       279\n",
            "           5       0.84      0.61      0.71      1377\n",
            "           6       0.99      0.89      0.94      1832\n",
            "           7       0.71      0.56      0.62       452\n",
            "           8       0.00      0.00      0.00        50\n",
            "           9       0.00      0.00      0.00         7\n",
            "\n",
            "   micro avg       0.89      0.66      0.76      5554\n",
            "   macro avg       0.46      0.29      0.32      5554\n",
            "weighted avg       0.83      0.66      0.72      5554\n",
            " samples avg       0.66      0.66      0.66      5554\n",
            "\n"
          ],
          "name": "stdout"
        },
        {
          "output_type": "stream",
          "text": [
            "/usr/local/lib/python3.7/dist-packages/sklearn/metrics/_classification.py:1272: UndefinedMetricWarning: Precision and F-score are ill-defined and being set to 0.0 in labels with no predicted samples. Use `zero_division` parameter to control this behavior.\n",
            "  _warn_prf(average, modifier, msg_start, len(result))\n",
            "/usr/local/lib/python3.7/dist-packages/sklearn/metrics/_classification.py:1272: UndefinedMetricWarning: Recall and F-score are ill-defined and being set to 0.0 in labels with no true samples. Use `zero_division` parameter to control this behavior.\n",
            "  _warn_prf(average, modifier, msg_start, len(result))\n",
            "/usr/local/lib/python3.7/dist-packages/sklearn/metrics/_classification.py:1272: UndefinedMetricWarning: Precision and F-score are ill-defined and being set to 0.0 in samples with no predicted labels. Use `zero_division` parameter to control this behavior.\n",
            "  _warn_prf(average, modifier, msg_start, len(result))\n"
          ],
          "name": "stderr"
        }
      ]
    },
    {
      "cell_type": "markdown",
      "metadata": {
        "id": "611ed63a"
      },
      "source": [
        "# 2 PCA-19 Anormal Feature Dataset KNN test"
      ],
      "id": "611ed63a"
    },
    {
      "cell_type": "code",
      "metadata": {
        "id": "cc0ed185"
      },
      "source": [
        "PCA_19a=principalComponents_anormal_19"
      ],
      "id": "cc0ed185",
      "execution_count": 964,
      "outputs": []
    },
    {
      "cell_type": "code",
      "metadata": {
        "id": "c8d66944"
      },
      "source": [
        "# Split the anoraml dataset into training_test \n",
        "from sklearn.model_selection import train_test_split\n",
        "X_19a_train, X_19a_test, y_2_train, y_2_test=train_test_split(PCA_19a, y_2, random_state=0)"
      ],
      "id": "c8d66944",
      "execution_count": 966,
      "outputs": []
    },
    {
      "cell_type": "code",
      "metadata": {
        "colab": {
          "base_uri": "https://localhost:8080/",
          "height": 0
        },
        "id": "e53c20e4",
        "outputId": "3b2ae306-6dcd-4db9-e643-77a95286c09a"
      },
      "source": [
        "print(\"X_19a_train shape\",X_19a_train.shape )\n",
        "print(\"y_2_train shape\",y_2_train.shape )"
      ],
      "id": "e53c20e4",
      "execution_count": 967,
      "outputs": [
        {
          "output_type": "stream",
          "text": [
            "X_19a_train shape (16661, 19)\n",
            "y_2_train shape (16661, 10)\n"
          ],
          "name": "stdout"
        }
      ]
    },
    {
      "cell_type": "code",
      "metadata": {
        "colab": {
          "base_uri": "https://localhost:8080/",
          "height": 0
        },
        "id": "7585eaa6",
        "outputId": "8bed2f88-8320-43cf-8c5e-f1d7838587f8"
      },
      "source": [
        "print(\"X_19a_test shape\",X_19a_test.shape )\n",
        "print(\"y_2_test shape\",y_2_test.shape )"
      ],
      "id": "7585eaa6",
      "execution_count": 968,
      "outputs": [
        {
          "output_type": "stream",
          "text": [
            "X_19a_test shape (5554, 19)\n",
            "y_2_test shape (5554, 10)\n"
          ],
          "name": "stdout"
        }
      ]
    },
    {
      "cell_type": "code",
      "metadata": {
        "id": "8f7f4f5b"
      },
      "source": [
        "from sklearn.neighbors import KNeighborsClassifier\n",
        "knn=KNeighborsClassifier(n_neighbors=9)"
      ],
      "id": "8f7f4f5b",
      "execution_count": 969,
      "outputs": []
    },
    {
      "cell_type": "code",
      "metadata": {
        "colab": {
          "base_uri": "https://localhost:8080/",
          "height": 0
        },
        "id": "1ec398d5",
        "outputId": "920dc3d4-f72d-4bb6-c314-3dc732a87667"
      },
      "source": [
        "knn.fit(X_19a_train, y_2_train)"
      ],
      "id": "1ec398d5",
      "execution_count": 970,
      "outputs": [
        {
          "output_type": "execute_result",
          "data": {
            "text/plain": [
              "KNeighborsClassifier(algorithm='auto', leaf_size=30, metric='minkowski',\n",
              "                     metric_params=None, n_jobs=None, n_neighbors=9, p=2,\n",
              "                     weights='uniform')"
            ]
          },
          "metadata": {
            "tags": []
          },
          "execution_count": 970
        }
      ]
    },
    {
      "cell_type": "code",
      "metadata": {
        "colab": {
          "base_uri": "https://localhost:8080/",
          "height": 0
        },
        "id": "a5fb0368",
        "outputId": "98b5cf1f-d200-4b58-d90e-b3b22bad4422"
      },
      "source": [
        "y_pred=knn.predict(X_19a_test)\n",
        "print(\"Test set predictions:\\n\", y_pred)"
      ],
      "id": "a5fb0368",
      "execution_count": 971,
      "outputs": [
        {
          "output_type": "stream",
          "text": [
            "Test set predictions:\n",
            " [[0 0 0 ... 0 0 0]\n",
            " [0 0 0 ... 0 0 0]\n",
            " [0 0 0 ... 0 0 0]\n",
            " ...\n",
            " [0 0 0 ... 0 0 0]\n",
            " [0 0 0 ... 0 0 0]\n",
            " [0 0 0 ... 0 0 0]]\n"
          ],
          "name": "stdout"
        }
      ]
    },
    {
      "cell_type": "code",
      "metadata": {
        "colab": {
          "base_uri": "https://localhost:8080/",
          "height": 0
        },
        "id": "5d23ccd5",
        "outputId": "0bd28952-12df-4918-fafc-c9cdb09b9b1d"
      },
      "source": [
        "print(\"Test score:{:.4f}\".format(np.mean([y_pred==y_2_test])))"
      ],
      "id": "5d23ccd5",
      "execution_count": 972,
      "outputs": [
        {
          "output_type": "stream",
          "text": [
            "Test score:0.9571\n"
          ],
          "name": "stdout"
        }
      ]
    },
    {
      "cell_type": "code",
      "metadata": {
        "id": "4NSOoFiFSaiW"
      },
      "source": [
        "print(classification_report(y_2_test, y_pred))"
      ],
      "id": "4NSOoFiFSaiW",
      "execution_count": null,
      "outputs": []
    },
    {
      "cell_type": "markdown",
      "metadata": {
        "id": "4cd39a3c"
      },
      "source": [
        "# 3 PCA -15 FEATURE Anormal Dataset KNn test"
      ],
      "id": "4cd39a3c"
    },
    {
      "cell_type": "code",
      "metadata": {
        "id": "04fb1456"
      },
      "source": [
        "PCA_15a=principalComponents_anormal_15"
      ],
      "id": "04fb1456",
      "execution_count": 973,
      "outputs": []
    },
    {
      "cell_type": "code",
      "metadata": {
        "id": "bd9bfd1e"
      },
      "source": [
        "# Split the anoraml dataset into training_test \n",
        "from sklearn.model_selection import train_test_split\n",
        "X_15a_train, X_15a_test, y_2_train, y_2_test=train_test_split(PCA_15a, y_2, random_state=0)"
      ],
      "id": "bd9bfd1e",
      "execution_count": 974,
      "outputs": []
    },
    {
      "cell_type": "code",
      "metadata": {
        "id": "2ce191b0",
        "colab": {
          "base_uri": "https://localhost:8080/",
          "height": 0
        },
        "outputId": "515650cb-5902-421a-8651-192f1772af7c"
      },
      "source": [
        "print(\"X_15a_train shape\",X_15a_train.shape )\n",
        "print(\"y_2_train shape\",y_2_train.shape )\n",
        "print(\"X_15a_test shape\",X_15a_test.shape )\n",
        "print(\"y_2_test shape\",y_2_test.shape )"
      ],
      "id": "2ce191b0",
      "execution_count": 975,
      "outputs": [
        {
          "output_type": "stream",
          "text": [
            "X_15a_train shape (16661, 15)\n",
            "y_2_train shape (16661, 10)\n",
            "X_15a_test shape (5554, 15)\n",
            "y_2_test shape (5554, 10)\n"
          ],
          "name": "stdout"
        }
      ]
    },
    {
      "cell_type": "code",
      "metadata": {
        "id": "972aa42d",
        "colab": {
          "base_uri": "https://localhost:8080/",
          "height": 0
        },
        "outputId": "380a4671-112e-4b13-e442-134400b91c75"
      },
      "source": [
        "knn.fit(X_15a_train, y_2_train)"
      ],
      "id": "972aa42d",
      "execution_count": 977,
      "outputs": [
        {
          "output_type": "execute_result",
          "data": {
            "text/plain": [
              "KNeighborsClassifier(algorithm='auto', leaf_size=30, metric='minkowski',\n",
              "                     metric_params=None, n_jobs=None, n_neighbors=9, p=2,\n",
              "                     weights='uniform')"
            ]
          },
          "metadata": {
            "tags": []
          },
          "execution_count": 977
        }
      ]
    },
    {
      "cell_type": "code",
      "metadata": {
        "id": "0dcb5185",
        "colab": {
          "base_uri": "https://localhost:8080/",
          "height": 0
        },
        "outputId": "5c3a9c94-3a9e-406d-d8ea-9e406a7a9f50"
      },
      "source": [
        "y_pred=knn.predict(X_15a_test)\n",
        "print(\"Test set predictions:\\n\", y_pred)\n",
        "print(\"Test score:{:.4f}\".format(np.mean([y_pred==y_2_test])))"
      ],
      "id": "0dcb5185",
      "execution_count": 978,
      "outputs": [
        {
          "output_type": "stream",
          "text": [
            "Test set predictions:\n",
            " [[0 0 0 ... 0 0 0]\n",
            " [0 0 0 ... 0 0 0]\n",
            " [0 0 0 ... 0 0 0]\n",
            " ...\n",
            " [0 0 0 ... 0 0 0]\n",
            " [0 0 0 ... 0 0 0]\n",
            " [0 0 0 ... 0 0 0]]\n",
            "Test score:0.9570\n"
          ],
          "name": "stdout"
        }
      ]
    },
    {
      "cell_type": "code",
      "metadata": {
        "id": "OjL0At3eUHrl",
        "colab": {
          "base_uri": "https://localhost:8080/",
          "height": 0
        },
        "outputId": "7a6e1630-ce8f-4c21-ccea-b2b2417e74fa"
      },
      "source": [
        "print(classification_report(y_2_test, y_pred))"
      ],
      "id": "OjL0At3eUHrl",
      "execution_count": 979,
      "outputs": [
        {
          "output_type": "stream",
          "text": [
            "              precision    recall  f1-score   support\n",
            "\n",
            "           0       0.00      0.00      0.00         0\n",
            "           1       0.83      0.69      0.75      1292\n",
            "           2       0.92      0.09      0.17       129\n",
            "           3       0.00      0.00      0.00       136\n",
            "           4       0.41      0.05      0.09       279\n",
            "           5       0.82      0.65      0.72      1377\n",
            "           6       0.98      0.90      0.94      1832\n",
            "           7       0.69      0.62      0.65       452\n",
            "           8       0.00      0.00      0.00        50\n",
            "           9       0.00      0.00      0.00         7\n",
            "\n",
            "   micro avg       0.87      0.67      0.76      5554\n",
            "   macro avg       0.47      0.30      0.33      5554\n",
            "weighted avg       0.82      0.67      0.72      5554\n",
            " samples avg       0.67      0.67      0.67      5554\n",
            "\n"
          ],
          "name": "stdout"
        },
        {
          "output_type": "stream",
          "text": [
            "/usr/local/lib/python3.7/dist-packages/sklearn/metrics/_classification.py:1272: UndefinedMetricWarning: Precision and F-score are ill-defined and being set to 0.0 in labels with no predicted samples. Use `zero_division` parameter to control this behavior.\n",
            "  _warn_prf(average, modifier, msg_start, len(result))\n",
            "/usr/local/lib/python3.7/dist-packages/sklearn/metrics/_classification.py:1272: UndefinedMetricWarning: Recall and F-score are ill-defined and being set to 0.0 in labels with no true samples. Use `zero_division` parameter to control this behavior.\n",
            "  _warn_prf(average, modifier, msg_start, len(result))\n",
            "/usr/local/lib/python3.7/dist-packages/sklearn/metrics/_classification.py:1272: UndefinedMetricWarning: Precision and F-score are ill-defined and being set to 0.0 in samples with no predicted labels. Use `zero_division` parameter to control this behavior.\n",
            "  _warn_prf(average, modifier, msg_start, len(result))\n"
          ],
          "name": "stderr"
        }
      ]
    },
    {
      "cell_type": "markdown",
      "metadata": {
        "id": "2oMn5EbsU3zj"
      },
      "source": [
        "#PCA 12 Features ANormal Dataset"
      ],
      "id": "2oMn5EbsU3zj"
    },
    {
      "cell_type": "code",
      "metadata": {
        "id": "a33c2097"
      },
      "source": [
        "from sklearn.neighbors import KNeighborsClassifier\n",
        "knn=KNeighborsClassifier(n_neighbors=9)\n",
        "PCA_12a=principalComponents_anormal_12"
      ],
      "id": "a33c2097",
      "execution_count": 980,
      "outputs": []
    },
    {
      "cell_type": "code",
      "metadata": {
        "id": "6c0ddbbb"
      },
      "source": [
        "# Split the anoraml dataset into training_test \n",
        "from sklearn.model_selection import train_test_split\n",
        "X_12a_train, X_12a_test, y_2_train, y_2_test=train_test_split(PCA_12a, y_2, random_state=0)"
      ],
      "id": "6c0ddbbb",
      "execution_count": 981,
      "outputs": []
    },
    {
      "cell_type": "code",
      "metadata": {
        "id": "d273e827",
        "colab": {
          "base_uri": "https://localhost:8080/",
          "height": 0
        },
        "outputId": "97440c46-4d30-49a2-9de1-bf6825235bd7"
      },
      "source": [
        "knn.fit(X_12a_train, y_2_train)"
      ],
      "id": "d273e827",
      "execution_count": 984,
      "outputs": [
        {
          "output_type": "execute_result",
          "data": {
            "text/plain": [
              "KNeighborsClassifier(algorithm='auto', leaf_size=30, metric='minkowski',\n",
              "                     metric_params=None, n_jobs=None, n_neighbors=9, p=2,\n",
              "                     weights='uniform')"
            ]
          },
          "metadata": {
            "tags": []
          },
          "execution_count": 984
        }
      ]
    },
    {
      "cell_type": "code",
      "metadata": {
        "id": "cd0831b0",
        "colab": {
          "base_uri": "https://localhost:8080/",
          "height": 0
        },
        "outputId": "e5c921e6-1a44-43d8-8878-e34217a34bda"
      },
      "source": [
        "y_pred=knn.predict(X_12a_test)\n",
        "print(\"Test set predictions:\\n\", y_pred)\n",
        "print(\"Test score:{:.4f}\".format(np.mean([y_pred==y_2_test])))"
      ],
      "id": "cd0831b0",
      "execution_count": 985,
      "outputs": [
        {
          "output_type": "stream",
          "text": [
            "Test set predictions:\n",
            " [[0 0 0 ... 0 0 0]\n",
            " [0 0 0 ... 0 0 0]\n",
            " [0 0 0 ... 0 0 0]\n",
            " ...\n",
            " [0 0 0 ... 0 0 0]\n",
            " [0 0 0 ... 0 0 0]\n",
            " [0 0 0 ... 0 0 0]]\n",
            "Test score:0.9562\n"
          ],
          "name": "stdout"
        }
      ]
    },
    {
      "cell_type": "code",
      "metadata": {
        "id": "CpcsWGIMVZ0u",
        "colab": {
          "base_uri": "https://localhost:8080/",
          "height": 0
        },
        "outputId": "bfc6df18-f53d-491d-9bd2-7ba94623571b"
      },
      "source": [
        "print(classification_report(y_2_test, y_pred))"
      ],
      "id": "CpcsWGIMVZ0u",
      "execution_count": 986,
      "outputs": [
        {
          "output_type": "stream",
          "text": [
            "              precision    recall  f1-score   support\n",
            "\n",
            "           0       0.00      0.00      0.00         0\n",
            "           1       0.81      0.69      0.74      1292\n",
            "           2       0.77      0.08      0.14       129\n",
            "           3       0.00      0.00      0.00       136\n",
            "           4       0.38      0.05      0.09       279\n",
            "           5       0.82      0.64      0.72      1377\n",
            "           6       0.98      0.89      0.94      1832\n",
            "           7       0.69      0.59      0.63       452\n",
            "           8       0.00      0.00      0.00        50\n",
            "           9       0.00      0.00      0.00         7\n",
            "\n",
            "   micro avg       0.87      0.67      0.75      5554\n",
            "   macro avg       0.45      0.29      0.33      5554\n",
            "weighted avg       0.81      0.67      0.72      5554\n",
            " samples avg       0.67      0.67      0.67      5554\n",
            "\n"
          ],
          "name": "stdout"
        },
        {
          "output_type": "stream",
          "text": [
            "/usr/local/lib/python3.7/dist-packages/sklearn/metrics/_classification.py:1272: UndefinedMetricWarning: Precision and F-score are ill-defined and being set to 0.0 in labels with no predicted samples. Use `zero_division` parameter to control this behavior.\n",
            "  _warn_prf(average, modifier, msg_start, len(result))\n",
            "/usr/local/lib/python3.7/dist-packages/sklearn/metrics/_classification.py:1272: UndefinedMetricWarning: Recall and F-score are ill-defined and being set to 0.0 in labels with no true samples. Use `zero_division` parameter to control this behavior.\n",
            "  _warn_prf(average, modifier, msg_start, len(result))\n",
            "/usr/local/lib/python3.7/dist-packages/sklearn/metrics/_classification.py:1272: UndefinedMetricWarning: Precision and F-score are ill-defined and being set to 0.0 in samples with no predicted labels. Use `zero_division` parameter to control this behavior.\n",
            "  _warn_prf(average, modifier, msg_start, len(result))\n"
          ],
          "name": "stderr"
        }
      ]
    },
    {
      "cell_type": "markdown",
      "metadata": {
        "id": "3b6b570d"
      },
      "source": [
        "# 4. PCA 9 Feature Anormal dataset "
      ],
      "id": "3b6b570d"
    },
    {
      "cell_type": "code",
      "metadata": {
        "id": "69b363b5"
      },
      "source": [
        "\n",
        "PCA_9a=principalComponents_anormal_9"
      ],
      "id": "69b363b5",
      "execution_count": 987,
      "outputs": []
    },
    {
      "cell_type": "code",
      "metadata": {
        "id": "k4ocsVZ3ETvp"
      },
      "source": [
        ""
      ],
      "id": "k4ocsVZ3ETvp",
      "execution_count": null,
      "outputs": []
    },
    {
      "cell_type": "code",
      "metadata": {
        "id": "8d0b2afd"
      },
      "source": [
        "# Split the anoraml dataset into training_test \n",
        "from sklearn.model_selection import train_test_split\n",
        "X_9a_train, X_9a_test, y_2_train, y_2_test=train_test_split(PCA_9a, y_2, random_state=0)"
      ],
      "id": "8d0b2afd",
      "execution_count": 988,
      "outputs": []
    },
    {
      "cell_type": "code",
      "metadata": {
        "id": "de3a9e18",
        "colab": {
          "base_uri": "https://localhost:8080/",
          "height": 0
        },
        "outputId": "134f0900-9e47-41fb-e8dc-3a24f7ce3f7b"
      },
      "source": [
        "knn.fit(X_9a_train, y_2_train)"
      ],
      "id": "de3a9e18",
      "execution_count": 989,
      "outputs": [
        {
          "output_type": "execute_result",
          "data": {
            "text/plain": [
              "KNeighborsClassifier(algorithm='auto', leaf_size=30, metric='minkowski',\n",
              "                     metric_params=None, n_jobs=None, n_neighbors=9, p=2,\n",
              "                     weights='uniform')"
            ]
          },
          "metadata": {
            "tags": []
          },
          "execution_count": 989
        }
      ]
    },
    {
      "cell_type": "code",
      "metadata": {
        "id": "2bc252d2",
        "colab": {
          "base_uri": "https://localhost:8080/",
          "height": 0
        },
        "outputId": "a1840333-9b48-49a2-b36c-8517d9b9c6b9"
      },
      "source": [
        "y_pred=knn.predict(X_9a_test)\n",
        "print(\"Test set predictions:\\n\", y_pred)\n",
        "print(\"Test score:{:.4f}\".format(np.mean([y_pred==y_2_test])))"
      ],
      "id": "2bc252d2",
      "execution_count": 991,
      "outputs": [
        {
          "output_type": "stream",
          "text": [
            "Test set predictions:\n",
            " [[0 0 0 ... 0 0 0]\n",
            " [0 0 0 ... 0 0 0]\n",
            " [0 0 0 ... 0 0 0]\n",
            " ...\n",
            " [0 0 0 ... 0 0 0]\n",
            " [0 0 0 ... 0 0 0]\n",
            " [0 0 0 ... 0 0 0]]\n",
            "Test score:0.9553\n"
          ],
          "name": "stdout"
        }
      ]
    },
    {
      "cell_type": "code",
      "metadata": {
        "id": "_lCgzNwIVh8O",
        "colab": {
          "base_uri": "https://localhost:8080/",
          "height": 0
        },
        "outputId": "5a52dd8e-db6c-4b01-e02b-39a8db8c8ad2"
      },
      "source": [
        "print(classification_report(y_2_test, y_pred))"
      ],
      "id": "_lCgzNwIVh8O",
      "execution_count": 992,
      "outputs": [
        {
          "output_type": "stream",
          "text": [
            "              precision    recall  f1-score   support\n",
            "\n",
            "           0       0.00      0.00      0.00         0\n",
            "           1       0.79      0.67      0.73      1292\n",
            "           2       0.50      0.05      0.09       129\n",
            "           3       0.00      0.00      0.00       136\n",
            "           4       0.40      0.05      0.09       279\n",
            "           5       0.81      0.64      0.71      1377\n",
            "           6       0.98      0.90      0.94      1832\n",
            "           7       0.69      0.58      0.63       452\n",
            "           8       0.00      0.00      0.00        50\n",
            "           9       0.00      0.00      0.00         7\n",
            "\n",
            "   micro avg       0.86      0.66      0.75      5554\n",
            "   macro avg       0.42      0.29      0.32      5554\n",
            "weighted avg       0.80      0.66      0.71      5554\n",
            " samples avg       0.66      0.66      0.66      5554\n",
            "\n"
          ],
          "name": "stdout"
        },
        {
          "output_type": "stream",
          "text": [
            "/usr/local/lib/python3.7/dist-packages/sklearn/metrics/_classification.py:1272: UndefinedMetricWarning: Precision and F-score are ill-defined and being set to 0.0 in labels with no predicted samples. Use `zero_division` parameter to control this behavior.\n",
            "  _warn_prf(average, modifier, msg_start, len(result))\n",
            "/usr/local/lib/python3.7/dist-packages/sklearn/metrics/_classification.py:1272: UndefinedMetricWarning: Recall and F-score are ill-defined and being set to 0.0 in labels with no true samples. Use `zero_division` parameter to control this behavior.\n",
            "  _warn_prf(average, modifier, msg_start, len(result))\n",
            "/usr/local/lib/python3.7/dist-packages/sklearn/metrics/_classification.py:1272: UndefinedMetricWarning: Precision and F-score are ill-defined and being set to 0.0 in samples with no predicted labels. Use `zero_division` parameter to control this behavior.\n",
            "  _warn_prf(average, modifier, msg_start, len(result))\n"
          ],
          "name": "stderr"
        }
      ]
    },
    {
      "cell_type": "markdown",
      "metadata": {
        "id": "750d966b"
      },
      "source": [
        "# PCA Dimensionality Reduction Stack ( axis=0) Normal+Anormal"
      ],
      "id": "750d966b"
    },
    {
      "cell_type": "code",
      "metadata": {
        "id": "c8f2a1d4"
      },
      "source": [
        "# 29 Feature Stack "
      ],
      "id": "c8f2a1d4",
      "execution_count": 993,
      "outputs": []
    },
    {
      "cell_type": "code",
      "metadata": {
        "id": "38faf36a"
      },
      "source": [
        "PCA_29=np.concatenate((principalComponents_normal_29, principalComponents_anormal_29 ),axis=0)"
      ],
      "id": "38faf36a",
      "execution_count": 994,
      "outputs": []
    },
    {
      "cell_type": "code",
      "metadata": {
        "id": "nxad8Lbn1TP5",
        "colab": {
          "base_uri": "https://localhost:8080/",
          "height": 0
        },
        "outputId": "8f5e898b-8003-4c73-cdd4-7995afb57dca"
      },
      "source": [
        "PCA_29.shape"
      ],
      "id": "nxad8Lbn1TP5",
      "execution_count": 995,
      "outputs": [
        {
          "output_type": "execute_result",
          "data": {
            "text/plain": [
              "(700000, 29)"
            ]
          },
          "metadata": {
            "tags": []
          },
          "execution_count": 995
        }
      ]
    },
    {
      "cell_type": "code",
      "metadata": {
        "id": "fda67314"
      },
      "source": [
        "# 19 Feature Stack "
      ],
      "id": "fda67314",
      "execution_count": 996,
      "outputs": []
    },
    {
      "cell_type": "code",
      "metadata": {
        "id": "f2715af5"
      },
      "source": [
        "PCA_19=np.concatenate((principalComponents_normal_19, principalComponents_anormal_19 ),axis=0)"
      ],
      "id": "f2715af5",
      "execution_count": 997,
      "outputs": []
    },
    {
      "cell_type": "code",
      "metadata": {
        "id": "940e39c6",
        "colab": {
          "base_uri": "https://localhost:8080/",
          "height": 0
        },
        "outputId": "0ed40b85-b266-4f14-8a9f-e2645f57bfdf"
      },
      "source": [
        "PCA_19.shape"
      ],
      "id": "940e39c6",
      "execution_count": 998,
      "outputs": [
        {
          "output_type": "execute_result",
          "data": {
            "text/plain": [
              "(700000, 19)"
            ]
          },
          "metadata": {
            "tags": []
          },
          "execution_count": 998
        }
      ]
    },
    {
      "cell_type": "code",
      "metadata": {
        "id": "cd3876cd"
      },
      "source": [
        "## 15 Feature Stack "
      ],
      "id": "cd3876cd",
      "execution_count": null,
      "outputs": []
    },
    {
      "cell_type": "code",
      "metadata": {
        "id": "cd72c76c"
      },
      "source": [
        "PCA_15=np.concatenate((principalComponents_normal_15, principalComponents_anormal_15 ),axis=0)"
      ],
      "id": "cd72c76c",
      "execution_count": 999,
      "outputs": []
    },
    {
      "cell_type": "code",
      "metadata": {
        "id": "5a5dde1b"
      },
      "source": [
        "# 12 Feature Stack "
      ],
      "id": "5a5dde1b",
      "execution_count": null,
      "outputs": []
    },
    {
      "cell_type": "code",
      "metadata": {
        "id": "2cf81ee6"
      },
      "source": [
        "PCA_12=np.concatenate((principalComponents_normal_12, principalComponents_anormal_12 ),axis=0)"
      ],
      "id": "2cf81ee6",
      "execution_count": 1000,
      "outputs": []
    },
    {
      "cell_type": "code",
      "metadata": {
        "id": "8ea03c5b"
      },
      "source": [
        "## 9 Feature Stack "
      ],
      "id": "8ea03c5b",
      "execution_count": null,
      "outputs": []
    },
    {
      "cell_type": "code",
      "metadata": {
        "id": "77da6b58"
      },
      "source": [
        "PCA_9=np.concatenate((principalComponents_normal_9, principalComponents_anormal_9 ),axis=0)"
      ],
      "id": "77da6b58",
      "execution_count": 1001,
      "outputs": []
    },
    {
      "cell_type": "code",
      "metadata": {
        "id": "6bf6b824"
      },
      "source": [
        "# Target stack"
      ],
      "id": "6bf6b824",
      "execution_count": null,
      "outputs": []
    },
    {
      "cell_type": "code",
      "metadata": {
        "id": "ecb23f7b",
        "colab": {
          "base_uri": "https://localhost:8080/",
          "height": 0
        },
        "outputId": "2b466506-4b88-4bbb-91ad-b285138b2676"
      },
      "source": [
        "y=np.concatenate((y_1, y_2),axis=0)\n",
        "y.shape"
      ],
      "id": "ecb23f7b",
      "execution_count": 1002,
      "outputs": [
        {
          "output_type": "execute_result",
          "data": {
            "text/plain": [
              "(700000, 10)"
            ]
          },
          "metadata": {
            "tags": []
          },
          "execution_count": 1002
        }
      ]
    },
    {
      "cell_type": "markdown",
      "metadata": {
        "id": "4f075b66"
      },
      "source": [
        "# Split the reduction data into training, test"
      ],
      "id": "4f075b66"
    },
    {
      "cell_type": "code",
      "metadata": {
        "id": "d092f985"
      },
      "source": [
        "# 29 PCA Dataset split "
      ],
      "id": "d092f985",
      "execution_count": null,
      "outputs": []
    },
    {
      "cell_type": "code",
      "metadata": {
        "id": "64821553"
      },
      "source": [
        "from sklearn.model_selection import train_test_split"
      ],
      "id": "64821553",
      "execution_count": 1017,
      "outputs": []
    },
    {
      "cell_type": "code",
      "metadata": {
        "id": "18284b87"
      },
      "source": [
        "X_29F_train, X_29F_test, y_train, y_test=train_test_split(PCA_29,y, random_state=0)"
      ],
      "id": "18284b87",
      "execution_count": 1016,
      "outputs": []
    },
    {
      "cell_type": "code",
      "metadata": {
        "id": "T7CO4s-11FXE",
        "colab": {
          "base_uri": "https://localhost:8080/",
          "height": 0
        },
        "outputId": "0c660459-f8bd-4b80-a889-aecf3cab33b5"
      },
      "source": [
        "PCA_29.shape"
      ],
      "id": "T7CO4s-11FXE",
      "execution_count": 1005,
      "outputs": [
        {
          "output_type": "execute_result",
          "data": {
            "text/plain": [
              "(700000, 29)"
            ]
          },
          "metadata": {
            "tags": []
          },
          "execution_count": 1005
        }
      ]
    },
    {
      "cell_type": "code",
      "metadata": {
        "id": "fa6df362",
        "colab": {
          "base_uri": "https://localhost:8080/",
          "height": 0
        },
        "outputId": "0ba79f49-ca7a-43a2-d3ad-fd8aed84adff"
      },
      "source": [
        "print(\"X_29F_train shape\",X_29F_train.shape )\n",
        "print(\"y_train shape\",y_train.shape )"
      ],
      "id": "fa6df362",
      "execution_count": 1015,
      "outputs": [
        {
          "output_type": "stream",
          "text": [
            "X_29F_train shape (525000, 29)\n",
            "y_train shape (525000, 10)\n"
          ],
          "name": "stdout"
        }
      ]
    },
    {
      "cell_type": "code",
      "metadata": {
        "id": "e79102be",
        "colab": {
          "base_uri": "https://localhost:8080/",
          "height": 0
        },
        "outputId": "3cb9e495-f02b-41ce-af44-8b13dd37df29"
      },
      "source": [
        "print(\"X_29F_test shape\",X_29F_test.shape )\n",
        "print(\"y_test shape\",y_test.shape )"
      ],
      "id": "e79102be",
      "execution_count": 1018,
      "outputs": [
        {
          "output_type": "stream",
          "text": [
            "X_29F_test shape (175000, 29)\n",
            "y_test shape (175000, 10)\n"
          ],
          "name": "stdout"
        }
      ]
    },
    {
      "cell_type": "code",
      "metadata": {
        "id": "9354ca59",
        "colab": {
          "base_uri": "https://localhost:8080/",
          "height": 0
        },
        "outputId": "c62b963f-a691-420d-b7bc-547553941f23"
      },
      "source": [
        "# 19 PCA Dataset split \n",
        "X_19F_train, X_19F_test, y_train, y_test=train_test_split(PCA_19,y, random_state=0)\n",
        "print(\"X_19F_train shape\",X_19F_train.shape )\n",
        "print(\"y_train shape\",y_train.shape )\n",
        "print(\"X_19F_test shape\",X_19F_test.shape )\n",
        "print(\"y_test shape\",y_test.shape )"
      ],
      "id": "9354ca59",
      "execution_count": 1019,
      "outputs": [
        {
          "output_type": "stream",
          "text": [
            "X_19F_train shape (525000, 19)\n",
            "y_train shape (525000, 10)\n",
            "X_19F_test shape (175000, 19)\n",
            "y_test shape (175000, 10)\n"
          ],
          "name": "stdout"
        }
      ]
    },
    {
      "cell_type": "code",
      "metadata": {
        "id": "ced38660",
        "colab": {
          "base_uri": "https://localhost:8080/",
          "height": 0
        },
        "outputId": "3bcce052-a768-434e-866a-e0a2edd7df8c"
      },
      "source": [
        "# 15 PCA Dataset split \n",
        "X_15F_train, X_15F_test, y_train, y_test=train_test_split(PCA_15,y, random_state=0)\n",
        "print(\"X_15F_train shape\",X_15F_train.shape )\n",
        "print(\"y_train shape\",y_train.shape )\n",
        "print(\"X_15F_test shape\",X_15F_test.shape )\n",
        "print(\"y_test shape\",y_test.shape )"
      ],
      "id": "ced38660",
      "execution_count": 1020,
      "outputs": [
        {
          "output_type": "stream",
          "text": [
            "X_15F_train shape (525000, 15)\n",
            "y_train shape (525000, 10)\n",
            "X_15F_test shape (175000, 15)\n",
            "y_test shape (175000, 10)\n"
          ],
          "name": "stdout"
        }
      ]
    },
    {
      "cell_type": "code",
      "metadata": {
        "id": "g2PfTIJPaFu1",
        "colab": {
          "base_uri": "https://localhost:8080/",
          "height": 0
        },
        "outputId": "e2efafb0-e14f-409e-c100-e5fa4440039b"
      },
      "source": [
        "# 12 PCA Dataset split \n",
        "X_12F_train, X_12F_test, y_train, y_test=train_test_split(PCA_12,y, random_state=42)\n",
        "print(\"X_12F_train shape\",X_12F_train.shape )\n",
        "print(\"y_train shape\",y_train.shape )\n",
        "print(\"X_12F_test shape\",X_12F_test.shape )\n",
        "print(\"y_test shape\",y_test.shape )"
      ],
      "id": "g2PfTIJPaFu1",
      "execution_count": 1022,
      "outputs": [
        {
          "output_type": "stream",
          "text": [
            "X_12F_train shape (525000, 12)\n",
            "y_train shape (525000, 10)\n",
            "X_12F_test shape (175000, 12)\n",
            "y_test shape (175000, 10)\n"
          ],
          "name": "stdout"
        }
      ]
    },
    {
      "cell_type": "code",
      "metadata": {
        "id": "65665b98",
        "colab": {
          "base_uri": "https://localhost:8080/",
          "height": 0
        },
        "outputId": "cdf9ed88-3718-4c2d-e379-7f5e8afd79cd"
      },
      "source": [
        "# 9 PCA Dataset split \n",
        "X_9F_train, X_9F_test, y_train, y_test=train_test_split(PCA_9,y, random_state=0)\n",
        "print(\"X_9F_train shape\",X_9F_train.shape )\n",
        "print(\"y_train shape\",y_train.shape )\n",
        "print(\"X_9F_test shape\",X_9F_test.shape )\n",
        "print(\"y_test shape\",y_test.shape )"
      ],
      "id": "65665b98",
      "execution_count": 1024,
      "outputs": [
        {
          "output_type": "stream",
          "text": [
            "X_9F_train shape (525000, 9)\n",
            "y_train shape (525000, 10)\n",
            "X_9F_test shape (175000, 9)\n",
            "y_test shape (175000, 10)\n"
          ],
          "name": "stdout"
        }
      ]
    },
    {
      "cell_type": "markdown",
      "metadata": {
        "id": "535d81a7"
      },
      "source": [
        "# Traing Model KNN"
      ],
      "id": "535d81a7"
    },
    {
      "cell_type": "code",
      "metadata": {
        "id": "d89e6a22"
      },
      "source": [
        "from sklearn.neighbors import KNeighborsClassifier\n",
        "knn=KNeighborsClassifier(n_neighbors=10)"
      ],
      "id": "d89e6a22",
      "execution_count": 1026,
      "outputs": []
    },
    {
      "cell_type": "markdown",
      "metadata": {
        "id": "c608fd88"
      },
      "source": [
        "# 29  Feature Concated Dataset test "
      ],
      "id": "c608fd88"
    },
    {
      "cell_type": "code",
      "metadata": {
        "id": "5b82e9ef",
        "colab": {
          "base_uri": "https://localhost:8080/",
          "height": 0
        },
        "outputId": "98fdb246-8960-48b0-941c-ecaab39f0ccf"
      },
      "source": [
        "knn.fit(X_29F_train, y_train)"
      ],
      "id": "5b82e9ef",
      "execution_count": 1027,
      "outputs": [
        {
          "output_type": "execute_result",
          "data": {
            "text/plain": [
              "KNeighborsClassifier(algorithm='auto', leaf_size=30, metric='minkowski',\n",
              "                     metric_params=None, n_jobs=None, n_neighbors=10, p=2,\n",
              "                     weights='uniform')"
            ]
          },
          "metadata": {
            "tags": []
          },
          "execution_count": 1027
        }
      ]
    },
    {
      "cell_type": "markdown",
      "metadata": {
        "id": "526d154e"
      },
      "source": [
        "# Evaluating the model "
      ],
      "id": "526d154e"
    },
    {
      "cell_type": "code",
      "metadata": {
        "id": "e47bccbd",
        "colab": {
          "base_uri": "https://localhost:8080/",
          "height": 0
        },
        "outputId": "961ceafc-68a6-4126-ef0d-056630ba6961"
      },
      "source": [
        "y_pred=knn.predict(X_29F_test)\n",
        "print(\"Test set predictions:\\n\", y_pred)"
      ],
      "id": "e47bccbd",
      "execution_count": 1028,
      "outputs": [
        {
          "output_type": "stream",
          "text": [
            "Test set predictions:\n",
            " [[1 0 0 ... 0 0 0]\n",
            " [1 0 0 ... 0 0 0]\n",
            " [1 0 0 ... 0 0 0]\n",
            " ...\n",
            " [1 0 0 ... 0 0 0]\n",
            " [1 0 0 ... 0 0 0]\n",
            " [1 0 0 ... 0 0 0]]\n"
          ],
          "name": "stdout"
        }
      ]
    },
    {
      "cell_type": "code",
      "metadata": {
        "id": "cca3c49c",
        "colab": {
          "base_uri": "https://localhost:8080/",
          "height": 0
        },
        "outputId": "5d275666-e433-447c-a064-bcaa1fe81c4a"
      },
      "source": [
        "print(\"Test score:{:.4f}\".format(np.mean([y_pred==y_test])))"
      ],
      "id": "cca3c49c",
      "execution_count": 1029,
      "outputs": [
        {
          "output_type": "stream",
          "text": [
            "Test score:0.9986\n"
          ],
          "name": "stdout"
        }
      ]
    },
    {
      "cell_type": "code",
      "metadata": {
        "id": "7U5srauCYnMP",
        "colab": {
          "base_uri": "https://localhost:8080/",
          "height": 0
        },
        "outputId": "4f1b3619-981a-4887-d15d-853082a2924a"
      },
      "source": [
        "print(classification_report(y_test, y_pred))"
      ],
      "id": "7U5srauCYnMP",
      "execution_count": 1030,
      "outputs": [
        {
          "output_type": "stream",
          "text": [
            "              precision    recall  f1-score   support\n",
            "\n",
            "           0       1.00      1.00      1.00    169574\n",
            "           1       0.85      0.69      0.76      1280\n",
            "           2       1.00      0.06      0.12       139\n",
            "           3       0.00      0.00      0.00       149\n",
            "           4       0.55      0.06      0.10       299\n",
            "           5       0.81      0.60      0.69      1286\n",
            "           6       0.98      0.90      0.94      1813\n",
            "           7       0.67      0.56      0.61       397\n",
            "           8       1.00      0.02      0.03        59\n",
            "           9       0.00      0.00      0.00         4\n",
            "\n",
            "   micro avg       1.00      0.99      0.99    175000\n",
            "   macro avg       0.69      0.39      0.43    175000\n",
            "weighted avg       0.99      0.99      0.99    175000\n",
            " samples avg       0.99      0.99      0.99    175000\n",
            "\n"
          ],
          "name": "stdout"
        },
        {
          "output_type": "stream",
          "text": [
            "/usr/local/lib/python3.7/dist-packages/sklearn/metrics/_classification.py:1272: UndefinedMetricWarning: Precision and F-score are ill-defined and being set to 0.0 in labels with no predicted samples. Use `zero_division` parameter to control this behavior.\n",
            "  _warn_prf(average, modifier, msg_start, len(result))\n",
            "/usr/local/lib/python3.7/dist-packages/sklearn/metrics/_classification.py:1272: UndefinedMetricWarning: Precision and F-score are ill-defined and being set to 0.0 in samples with no predicted labels. Use `zero_division` parameter to control this behavior.\n",
            "  _warn_prf(average, modifier, msg_start, len(result))\n"
          ],
          "name": "stderr"
        }
      ]
    },
    {
      "cell_type": "markdown",
      "metadata": {
        "id": "526f7481"
      },
      "source": [
        "# 19 Feature  Concated Complete dataset"
      ],
      "id": "526f7481"
    },
    {
      "cell_type": "code",
      "metadata": {
        "id": "fcfaf020",
        "colab": {
          "base_uri": "https://localhost:8080/",
          "height": 0
        },
        "outputId": "3a2c0299-1dec-4a3e-8870-bf6cd8a9a183"
      },
      "source": [
        "knn.fit(X_19F_train, y_train)"
      ],
      "id": "fcfaf020",
      "execution_count": 1031,
      "outputs": [
        {
          "output_type": "execute_result",
          "data": {
            "text/plain": [
              "KNeighborsClassifier(algorithm='auto', leaf_size=30, metric='minkowski',\n",
              "                     metric_params=None, n_jobs=None, n_neighbors=10, p=2,\n",
              "                     weights='uniform')"
            ]
          },
          "metadata": {
            "tags": []
          },
          "execution_count": 1031
        }
      ]
    },
    {
      "cell_type": "code",
      "metadata": {
        "id": "2771d015",
        "colab": {
          "base_uri": "https://localhost:8080/",
          "height": 0
        },
        "outputId": "cd95e4d7-2225-4a57-c010-39106e1ef698"
      },
      "source": [
        "y_pred=knn.predict(X_19F_test)\n",
        "print(\"Test set predictions:\\n\", y_pred)"
      ],
      "id": "2771d015",
      "execution_count": 1032,
      "outputs": [
        {
          "output_type": "stream",
          "text": [
            "Test set predictions:\n",
            " [[1 0 0 ... 0 0 0]\n",
            " [1 0 0 ... 0 0 0]\n",
            " [1 0 0 ... 0 0 0]\n",
            " ...\n",
            " [1 0 0 ... 0 0 0]\n",
            " [1 0 0 ... 0 0 0]\n",
            " [1 0 0 ... 0 0 0]]\n"
          ],
          "name": "stdout"
        }
      ]
    },
    {
      "cell_type": "code",
      "metadata": {
        "id": "c95887aa",
        "colab": {
          "base_uri": "https://localhost:8080/",
          "height": 0
        },
        "outputId": "4adf4c00-1c96-4767-ce27-3321a6adde10"
      },
      "source": [
        "print(\"Test score:{:.4f}\".format(np.mean([y_pred==y_test])))"
      ],
      "id": "c95887aa",
      "execution_count": 1033,
      "outputs": [
        {
          "output_type": "stream",
          "text": [
            "Test score:0.9986\n"
          ],
          "name": "stdout"
        }
      ]
    },
    {
      "cell_type": "code",
      "metadata": {
        "id": "q7RVFc1XYr4K",
        "colab": {
          "base_uri": "https://localhost:8080/",
          "height": 0
        },
        "outputId": "13b026b6-c428-45f4-c5bb-5e23011e578d"
      },
      "source": [
        "print(classification_report(y_test, y_pred))"
      ],
      "id": "q7RVFc1XYr4K",
      "execution_count": 1034,
      "outputs": [
        {
          "output_type": "stream",
          "text": [
            "              precision    recall  f1-score   support\n",
            "\n",
            "           0       1.00      1.00      1.00    169574\n",
            "           1       0.84      0.68      0.75      1280\n",
            "           2       0.90      0.06      0.12       139\n",
            "           3       0.00      0.00      0.00       149\n",
            "           4       0.46      0.06      0.10       299\n",
            "           5       0.81      0.60      0.69      1286\n",
            "           6       0.98      0.90      0.94      1813\n",
            "           7       0.67      0.59      0.62       397\n",
            "           8       1.00      0.02      0.03        59\n",
            "           9       0.00      0.00      0.00         4\n",
            "\n",
            "   micro avg       1.00      0.99      0.99    175000\n",
            "   macro avg       0.67      0.39      0.43    175000\n",
            "weighted avg       0.99      0.99      0.99    175000\n",
            " samples avg       0.99      0.99      0.99    175000\n",
            "\n"
          ],
          "name": "stdout"
        },
        {
          "output_type": "stream",
          "text": [
            "/usr/local/lib/python3.7/dist-packages/sklearn/metrics/_classification.py:1272: UndefinedMetricWarning: Precision and F-score are ill-defined and being set to 0.0 in labels with no predicted samples. Use `zero_division` parameter to control this behavior.\n",
            "  _warn_prf(average, modifier, msg_start, len(result))\n",
            "/usr/local/lib/python3.7/dist-packages/sklearn/metrics/_classification.py:1272: UndefinedMetricWarning: Precision and F-score are ill-defined and being set to 0.0 in samples with no predicted labels. Use `zero_division` parameter to control this behavior.\n",
            "  _warn_prf(average, modifier, msg_start, len(result))\n"
          ],
          "name": "stderr"
        }
      ]
    },
    {
      "cell_type": "markdown",
      "metadata": {
        "id": "6dad7eed"
      },
      "source": [
        "# 15 Feature Complete dataset"
      ],
      "id": "6dad7eed"
    },
    {
      "cell_type": "code",
      "metadata": {
        "id": "5355dc4f",
        "colab": {
          "base_uri": "https://localhost:8080/",
          "height": 0
        },
        "outputId": "e2536e77-6b43-4299-db16-29b482dc7709"
      },
      "source": [
        "knn.fit(X_15F_train, y_train)"
      ],
      "id": "5355dc4f",
      "execution_count": 1035,
      "outputs": [
        {
          "output_type": "execute_result",
          "data": {
            "text/plain": [
              "KNeighborsClassifier(algorithm='auto', leaf_size=30, metric='minkowski',\n",
              "                     metric_params=None, n_jobs=None, n_neighbors=10, p=2,\n",
              "                     weights='uniform')"
            ]
          },
          "metadata": {
            "tags": []
          },
          "execution_count": 1035
        }
      ]
    },
    {
      "cell_type": "code",
      "metadata": {
        "id": "4585c045",
        "colab": {
          "base_uri": "https://localhost:8080/",
          "height": 0
        },
        "outputId": "ad03afb2-531b-4bca-96c5-7bc8c83c85cf"
      },
      "source": [
        "y_pred=knn.predict(X_15F_test)\n",
        "print(\"Test set predictions:\\n\", y_pred)"
      ],
      "id": "4585c045",
      "execution_count": 1036,
      "outputs": [
        {
          "output_type": "stream",
          "text": [
            "Test set predictions:\n",
            " [[1 0 0 ... 0 0 0]\n",
            " [1 0 0 ... 0 0 0]\n",
            " [1 0 0 ... 0 0 0]\n",
            " ...\n",
            " [1 0 0 ... 0 0 0]\n",
            " [1 0 0 ... 0 0 0]\n",
            " [1 0 0 ... 0 0 0]]\n"
          ],
          "name": "stdout"
        }
      ]
    },
    {
      "cell_type": "code",
      "metadata": {
        "id": "e40397cf",
        "colab": {
          "base_uri": "https://localhost:8080/",
          "height": 0
        },
        "outputId": "81972fb0-f8a0-4eff-c803-bd4ca53d5a75"
      },
      "source": [
        "print(\"Test score:{:.4f}\".format(np.mean([y_pred==y_test])))"
      ],
      "id": "e40397cf",
      "execution_count": 1037,
      "outputs": [
        {
          "output_type": "stream",
          "text": [
            "Test score:0.9986\n"
          ],
          "name": "stdout"
        }
      ]
    },
    {
      "cell_type": "code",
      "metadata": {
        "id": "XxbBqJR6X0qV",
        "colab": {
          "base_uri": "https://localhost:8080/",
          "height": 0
        },
        "outputId": "3b548da7-8307-49fc-a843-35239ffff5c7"
      },
      "source": [
        "print(classification_report(y_test, y_pred))"
      ],
      "id": "XxbBqJR6X0qV",
      "execution_count": 1038,
      "outputs": [
        {
          "output_type": "stream",
          "text": [
            "              precision    recall  f1-score   support\n",
            "\n",
            "           0       1.00      1.00      1.00    169574\n",
            "           1       0.84      0.66      0.74      1280\n",
            "           2       0.83      0.07      0.13       139\n",
            "           3       0.00      0.00      0.00       149\n",
            "           4       0.50      0.06      0.10       299\n",
            "           5       0.81      0.62      0.70      1286\n",
            "           6       0.97      0.90      0.93      1813\n",
            "           7       0.68      0.59      0.63       397\n",
            "           8       1.00      0.03      0.07        59\n",
            "           9       0.00      0.00      0.00         4\n",
            "\n",
            "   micro avg       1.00      0.99      0.99    175000\n",
            "   macro avg       0.66      0.39      0.43    175000\n",
            "weighted avg       0.99      0.99      0.99    175000\n",
            " samples avg       0.99      0.99      0.99    175000\n",
            "\n"
          ],
          "name": "stdout"
        },
        {
          "output_type": "stream",
          "text": [
            "/usr/local/lib/python3.7/dist-packages/sklearn/metrics/_classification.py:1272: UndefinedMetricWarning: Precision and F-score are ill-defined and being set to 0.0 in labels with no predicted samples. Use `zero_division` parameter to control this behavior.\n",
            "  _warn_prf(average, modifier, msg_start, len(result))\n",
            "/usr/local/lib/python3.7/dist-packages/sklearn/metrics/_classification.py:1272: UndefinedMetricWarning: Precision and F-score are ill-defined and being set to 0.0 in samples with no predicted labels. Use `zero_division` parameter to control this behavior.\n",
            "  _warn_prf(average, modifier, msg_start, len(result))\n"
          ],
          "name": "stderr"
        }
      ]
    },
    {
      "cell_type": "markdown",
      "metadata": {
        "id": "r92sqP0tX2Nc"
      },
      "source": [
        "# 12 Features Concated Features"
      ],
      "id": "r92sqP0tX2Nc"
    },
    {
      "cell_type": "code",
      "metadata": {
        "id": "YeZt2axwX1O0",
        "colab": {
          "base_uri": "https://localhost:8080/",
          "height": 0
        },
        "outputId": "2200c7d8-ebfe-4c30-961b-4dc4513d495b"
      },
      "source": [
        "knn.fit(X_12F_train, y_train)"
      ],
      "id": "YeZt2axwX1O0",
      "execution_count": 1039,
      "outputs": [
        {
          "output_type": "execute_result",
          "data": {
            "text/plain": [
              "KNeighborsClassifier(algorithm='auto', leaf_size=30, metric='minkowski',\n",
              "                     metric_params=None, n_jobs=None, n_neighbors=10, p=2,\n",
              "                     weights='uniform')"
            ]
          },
          "metadata": {
            "tags": []
          },
          "execution_count": 1039
        }
      ]
    },
    {
      "cell_type": "code",
      "metadata": {
        "id": "EbUSMnEcX1kp"
      },
      "source": [
        "y_pred=knn.predict(X_12F_test)"
      ],
      "id": "EbUSMnEcX1kp",
      "execution_count": 1040,
      "outputs": []
    },
    {
      "cell_type": "code",
      "metadata": {
        "id": "9sdQjiT4YXk0",
        "colab": {
          "base_uri": "https://localhost:8080/",
          "height": 0
        },
        "outputId": "dac1441c-a448-4609-e74c-2bcd346deb2e"
      },
      "source": [
        "print(\"Test score:{:.4f}\".format(np.mean([y_pred==y_test])))"
      ],
      "id": "9sdQjiT4YXk0",
      "execution_count": 1041,
      "outputs": [
        {
          "output_type": "stream",
          "text": [
            "Test score:0.9938\n"
          ],
          "name": "stdout"
        }
      ]
    },
    {
      "cell_type": "code",
      "metadata": {
        "id": "3ZEmhDwjYZts",
        "colab": {
          "base_uri": "https://localhost:8080/",
          "height": 0
        },
        "outputId": "8abab33d-85fd-4be6-cab1-6fdd0f96bbc3"
      },
      "source": [
        "print(classification_report(y_test, y_pred))"
      ],
      "id": "3ZEmhDwjYZts",
      "execution_count": 1042,
      "outputs": [
        {
          "output_type": "stream",
          "text": [
            "              precision    recall  f1-score   support\n",
            "\n",
            "           0       0.97      1.00      0.98    169574\n",
            "           1       0.00      0.00      0.00      1280\n",
            "           2       0.00      0.00      0.00       139\n",
            "           3       0.00      0.00      0.00       149\n",
            "           4       0.00      0.00      0.00       299\n",
            "           5       0.00      0.00      0.00      1286\n",
            "           6       0.00      0.00      0.00      1813\n",
            "           7       0.00      0.00      0.00       397\n",
            "           8       0.00      0.00      0.00        59\n",
            "           9       0.00      0.00      0.00         4\n",
            "\n",
            "   micro avg       0.97      0.97      0.97    175000\n",
            "   macro avg       0.10      0.10      0.10    175000\n",
            "weighted avg       0.94      0.97      0.95    175000\n",
            " samples avg       0.97      0.97      0.97    175000\n",
            "\n"
          ],
          "name": "stdout"
        },
        {
          "output_type": "stream",
          "text": [
            "/usr/local/lib/python3.7/dist-packages/sklearn/metrics/_classification.py:1272: UndefinedMetricWarning: Precision and F-score are ill-defined and being set to 0.0 in labels with no predicted samples. Use `zero_division` parameter to control this behavior.\n",
            "  _warn_prf(average, modifier, msg_start, len(result))\n"
          ],
          "name": "stderr"
        }
      ]
    },
    {
      "cell_type": "markdown",
      "metadata": {
        "id": "ee7a862d"
      },
      "source": [
        "# 9 Features Complete dataset"
      ],
      "id": "ee7a862d"
    },
    {
      "cell_type": "code",
      "metadata": {
        "id": "8b4fe595",
        "colab": {
          "base_uri": "https://localhost:8080/",
          "height": 0
        },
        "outputId": "7f823cbe-5152-4f5e-8ef9-7f4afc4104d7"
      },
      "source": [
        "knn.fit(X_9F_train, y_train)"
      ],
      "id": "8b4fe595",
      "execution_count": 1043,
      "outputs": [
        {
          "output_type": "execute_result",
          "data": {
            "text/plain": [
              "KNeighborsClassifier(algorithm='auto', leaf_size=30, metric='minkowski',\n",
              "                     metric_params=None, n_jobs=None, n_neighbors=10, p=2,\n",
              "                     weights='uniform')"
            ]
          },
          "metadata": {
            "tags": []
          },
          "execution_count": 1043
        }
      ]
    },
    {
      "cell_type": "code",
      "metadata": {
        "id": "6e19ce30",
        "colab": {
          "base_uri": "https://localhost:8080/",
          "height": 0
        },
        "outputId": "1a58ff13-7374-46f2-d168-d878b5ec1214"
      },
      "source": [
        "y_pred=knn.predict(X_9F_test)\n",
        "print(\"Test set predictions:\\n\", y_pred)"
      ],
      "id": "6e19ce30",
      "execution_count": 1044,
      "outputs": [
        {
          "output_type": "stream",
          "text": [
            "Test set predictions:\n",
            " [[1 0 0 ... 0 0 0]\n",
            " [1 0 0 ... 0 0 0]\n",
            " [1 0 0 ... 0 0 0]\n",
            " ...\n",
            " [1 0 0 ... 0 0 0]\n",
            " [1 0 0 ... 0 0 0]\n",
            " [1 0 0 ... 0 0 0]]\n"
          ],
          "name": "stdout"
        }
      ]
    },
    {
      "cell_type": "code",
      "metadata": {
        "id": "ee5e6acc",
        "colab": {
          "base_uri": "https://localhost:8080/",
          "height": 0
        },
        "outputId": "e7660e07-c5c9-4aa1-aa39-b6e35d7937a3"
      },
      "source": [
        "print(\"Test score:{:.4f}\".format(np.mean([y_pred==y_test])))"
      ],
      "id": "ee5e6acc",
      "execution_count": 1045,
      "outputs": [
        {
          "output_type": "stream",
          "text": [
            "Test score:0.9986\n"
          ],
          "name": "stdout"
        }
      ]
    },
    {
      "cell_type": "code",
      "metadata": {
        "id": "6b82a757",
        "colab": {
          "base_uri": "https://localhost:8080/",
          "height": 0
        },
        "outputId": "c0d74352-cafc-4a1b-9b3e-ecb14ebc6bd6"
      },
      "source": [
        "print(classification_report(y_test, y_pred))"
      ],
      "id": "6b82a757",
      "execution_count": 1046,
      "outputs": [
        {
          "output_type": "stream",
          "text": [
            "              precision    recall  f1-score   support\n",
            "\n",
            "           0       1.00      1.00      1.00    169574\n",
            "           1       0.80      0.62      0.70      1280\n",
            "           2       0.38      0.02      0.04       139\n",
            "           3       0.00      0.00      0.00       149\n",
            "           4       0.55      0.06      0.10       299\n",
            "           5       0.82      0.60      0.69      1286\n",
            "           6       0.97      0.89      0.93      1813\n",
            "           7       0.71      0.54      0.61       397\n",
            "           8       0.00      0.00      0.00        59\n",
            "           9       0.00      0.00      0.00         4\n",
            "\n",
            "   micro avg       1.00      0.99      0.99    175000\n",
            "   macro avg       0.52      0.37      0.41    175000\n",
            "weighted avg       0.99      0.99      0.99    175000\n",
            " samples avg       0.99      0.99      0.99    175000\n",
            "\n"
          ],
          "name": "stdout"
        },
        {
          "output_type": "stream",
          "text": [
            "/usr/local/lib/python3.7/dist-packages/sklearn/metrics/_classification.py:1272: UndefinedMetricWarning: Precision and F-score are ill-defined and being set to 0.0 in labels with no predicted samples. Use `zero_division` parameter to control this behavior.\n",
            "  _warn_prf(average, modifier, msg_start, len(result))\n",
            "/usr/local/lib/python3.7/dist-packages/sklearn/metrics/_classification.py:1272: UndefinedMetricWarning: Precision and F-score are ill-defined and being set to 0.0 in samples with no predicted labels. Use `zero_division` parameter to control this behavior.\n",
            "  _warn_prf(average, modifier, msg_start, len(result))\n"
          ],
          "name": "stderr"
        }
      ]
    },
    {
      "cell_type": "markdown",
      "metadata": {
        "id": "9JRSbG8QTYMH"
      },
      "source": [
        "# Complete Activity PCA data KNn Assessment "
      ],
      "id": "9JRSbG8QTYMH"
    },
    {
      "cell_type": "code",
      "metadata": {
        "id": "3W_Mc10OTXeN",
        "colab": {
          "base_uri": "https://localhost:8080/",
          "height": 0
        },
        "outputId": "90d64781-953e-4c18-f36e-3a42e2bf6a63"
      },
      "source": [
        "X_29_train, X_29_test, y_train, y_test=train_test_split(principalComponents_29, y, random_state=42)\n",
        "print(\"X_29_train shape\",X_29_train.shape )\n",
        "print(\"y_train shape\",y_train.shape )"
      ],
      "id": "3W_Mc10OTXeN",
      "execution_count": 1047,
      "outputs": [
        {
          "output_type": "stream",
          "text": [
            "X_29_train shape (525000, 29)\n",
            "y_train shape (525000, 10)\n"
          ],
          "name": "stdout"
        }
      ]
    },
    {
      "cell_type": "code",
      "metadata": {
        "id": "8fe406lTTXhu",
        "colab": {
          "base_uri": "https://localhost:8080/",
          "height": 0
        },
        "outputId": "58f8f256-5af1-4df1-c5c8-bde03fa87e7d"
      },
      "source": [
        "print(\"X_29_test shape\",X_29_test.shape )\n",
        "print(\"y_test shape\",y_test.shape )"
      ],
      "id": "8fe406lTTXhu",
      "execution_count": 1048,
      "outputs": [
        {
          "output_type": "stream",
          "text": [
            "X_29_test shape (175000, 29)\n",
            "y_test shape (175000, 10)\n"
          ],
          "name": "stdout"
        }
      ]
    },
    {
      "cell_type": "code",
      "metadata": {
        "id": "K_HUtMA1TXlW",
        "colab": {
          "base_uri": "https://localhost:8080/",
          "height": 0
        },
        "outputId": "2b72df35-9a2d-43de-951b-20a09882b50f"
      },
      "source": [
        "X_19_train, X_19_test, y_train, y_test=train_test_split(principalComponents_19,y, random_state=42)\n",
        "print(\"X_19_train shape\",X_19_train.shape )\n",
        "print(\"y_train shape\",y_train.shape )\n",
        "print(\"X_19_test shape\",X_19_test.shape )\n",
        "print(\"y_test shape\",y_test.shape )"
      ],
      "id": "K_HUtMA1TXlW",
      "execution_count": 1049,
      "outputs": [
        {
          "output_type": "stream",
          "text": [
            "X_19_train shape (525000, 19)\n",
            "y_train shape (525000, 10)\n",
            "X_19_test shape (175000, 19)\n",
            "y_test shape (175000, 10)\n"
          ],
          "name": "stdout"
        }
      ]
    },
    {
      "cell_type": "code",
      "metadata": {
        "id": "HdvUgENNTXUP",
        "colab": {
          "base_uri": "https://localhost:8080/",
          "height": 0
        },
        "outputId": "3ff29093-f2db-451e-de7d-1f6964974a1b"
      },
      "source": [
        "X_15_train, X_15_test, y_train, y_test=train_test_split(principalComponents_15,y, random_state=42)\n",
        "print(\"X_15_train shape\",X_15_train.shape )\n",
        "print(\"y_train shape\",y_train.shape )\n",
        "print(\"X_15_test shape\",X_15_test.shape )\n",
        "print(\"y_test shape\",y_test.shape )"
      ],
      "id": "HdvUgENNTXUP",
      "execution_count": 1050,
      "outputs": [
        {
          "output_type": "stream",
          "text": [
            "X_15_train shape (525000, 15)\n",
            "y_train shape (525000, 10)\n",
            "X_15_test shape (175000, 15)\n",
            "y_test shape (175000, 10)\n"
          ],
          "name": "stdout"
        }
      ]
    },
    {
      "cell_type": "code",
      "metadata": {
        "id": "C_RGz83cTXoY",
        "colab": {
          "base_uri": "https://localhost:8080/",
          "height": 0
        },
        "outputId": "0f304838-c452-4220-8f21-34e10e9bfeb0"
      },
      "source": [
        "X_12_train, X_12_test, y_train, y_test=train_test_split(principalComponents_12,y, random_state=42)\n",
        "print(\"X_12_train shape\",X_12_train.shape )\n",
        "print(\"y_train shape\",y_train.shape )\n",
        "print(\"X_12_test shape\",X_12_test.shape )\n",
        "print(\"y_test shape\",y_test.shape )"
      ],
      "id": "C_RGz83cTXoY",
      "execution_count": 1051,
      "outputs": [
        {
          "output_type": "stream",
          "text": [
            "X_12_train shape (525000, 12)\n",
            "y_train shape (525000, 10)\n",
            "X_12_test shape (175000, 12)\n",
            "y_test shape (175000, 10)\n"
          ],
          "name": "stdout"
        }
      ]
    },
    {
      "cell_type": "code",
      "metadata": {
        "id": "_m_q9KajWhu3",
        "colab": {
          "base_uri": "https://localhost:8080/",
          "height": 0
        },
        "outputId": "a69ff4af-f5a0-445a-bbbf-66ed541c9e73"
      },
      "source": [
        "X_9_train, X_9_test, y_train, y_test=train_test_split(principalComponents_9,y, random_state=42)\n",
        "print(\"X_9_train shape\",X_9_train.shape )\n",
        "print(\"y_train shape\",y_train.shape )\n",
        "print(\"X_9_test shape\",X_9_test.shape )\n",
        "print(\"y_test shape\",y_test.shape )"
      ],
      "id": "_m_q9KajWhu3",
      "execution_count": 1052,
      "outputs": [
        {
          "output_type": "stream",
          "text": [
            "X_9_train shape (525000, 9)\n",
            "y_train shape (525000, 10)\n",
            "X_9_test shape (175000, 9)\n",
            "y_test shape (175000, 10)\n"
          ],
          "name": "stdout"
        }
      ]
    },
    {
      "cell_type": "code",
      "metadata": {
        "id": "nNUTw2t-aTvM"
      },
      "source": [
        "from sklearn.neighbors import KNeighborsClassifier\n",
        "knn=KNeighborsClassifier(n_neighbors=10)"
      ],
      "id": "nNUTw2t-aTvM",
      "execution_count": 1053,
      "outputs": []
    },
    {
      "cell_type": "code",
      "metadata": {
        "id": "p-OTbslkaVVU",
        "colab": {
          "base_uri": "https://localhost:8080/",
          "height": 0
        },
        "outputId": "73e4b064-c66f-49b9-98a7-18827c404397"
      },
      "source": [
        "knn.fit(X_29_train, y_train)"
      ],
      "id": "p-OTbslkaVVU",
      "execution_count": 1054,
      "outputs": [
        {
          "output_type": "execute_result",
          "data": {
            "text/plain": [
              "KNeighborsClassifier(algorithm='auto', leaf_size=30, metric='minkowski',\n",
              "                     metric_params=None, n_jobs=None, n_neighbors=10, p=2,\n",
              "                     weights='uniform')"
            ]
          },
          "metadata": {
            "tags": []
          },
          "execution_count": 1054
        }
      ]
    },
    {
      "cell_type": "code",
      "metadata": {
        "id": "no_wg0Cyd9Z2",
        "colab": {
          "base_uri": "https://localhost:8080/",
          "height": 0
        },
        "outputId": "2373570f-0ea5-47ff-f757-c26a6ee6d7c7"
      },
      "source": [
        "y_pred=knn.predict(X_29_test)\n",
        "print(\"Test set predictions:\\n\", y_pred)"
      ],
      "id": "no_wg0Cyd9Z2",
      "execution_count": 1055,
      "outputs": [
        {
          "output_type": "stream",
          "text": [
            "Test set predictions:\n",
            " [[1 0 0 ... 0 0 0]\n",
            " [1 0 0 ... 0 0 0]\n",
            " [1 0 0 ... 0 0 0]\n",
            " ...\n",
            " [1 0 0 ... 0 0 0]\n",
            " [1 0 0 ... 0 0 0]\n",
            " [1 0 0 ... 0 0 0]]\n"
          ],
          "name": "stdout"
        }
      ]
    },
    {
      "cell_type": "code",
      "metadata": {
        "id": "w1kO90O4a3mt",
        "colab": {
          "base_uri": "https://localhost:8080/",
          "height": 0
        },
        "outputId": "d6902b8d-295b-4478-acc3-949b743ecda8"
      },
      "source": [
        "print(\"Test score:{:.4f}\".format(np.mean([y_pred==y_test])))"
      ],
      "id": "w1kO90O4a3mt",
      "execution_count": 1056,
      "outputs": [
        {
          "output_type": "stream",
          "text": [
            "Test score:0.9955\n"
          ],
          "name": "stdout"
        }
      ]
    },
    {
      "cell_type": "code",
      "metadata": {
        "id": "LJiSoPlzXk4t",
        "colab": {
          "base_uri": "https://localhost:8080/",
          "height": 0
        },
        "outputId": "051f09d8-5fbf-4dda-e639-a8f58f1b440b"
      },
      "source": [
        "print(classification_report(y_test, y_pred))"
      ],
      "id": "LJiSoPlzXk4t",
      "execution_count": 1057,
      "outputs": [
        {
          "output_type": "stream",
          "text": [
            "              precision    recall  f1-score   support\n",
            "\n",
            "           0       0.99      1.00      0.99    169534\n",
            "           1       0.18      0.00      0.00      1251\n",
            "           2       0.00      0.00      0.00       124\n",
            "           3       0.00      0.00      0.00       147\n",
            "           4       0.00      0.00      0.00       272\n",
            "           5       0.20      0.00      0.01      1323\n",
            "           6       0.55      0.23      0.33      1853\n",
            "           7       0.00      0.00      0.00       438\n",
            "           8       0.00      0.00      0.00        55\n",
            "           9       0.00      0.00      0.00         3\n",
            "\n",
            "   micro avg       0.99      0.97      0.98    175000\n",
            "   macro avg       0.19      0.12      0.13    175000\n",
            "weighted avg       0.97      0.97      0.97    175000\n",
            " samples avg       0.97      0.97      0.97    175000\n",
            "\n"
          ],
          "name": "stdout"
        },
        {
          "output_type": "stream",
          "text": [
            "/usr/local/lib/python3.7/dist-packages/sklearn/metrics/_classification.py:1272: UndefinedMetricWarning: Precision and F-score are ill-defined and being set to 0.0 in labels with no predicted samples. Use `zero_division` parameter to control this behavior.\n",
            "  _warn_prf(average, modifier, msg_start, len(result))\n",
            "/usr/local/lib/python3.7/dist-packages/sklearn/metrics/_classification.py:1272: UndefinedMetricWarning: Precision and F-score are ill-defined and being set to 0.0 in samples with no predicted labels. Use `zero_division` parameter to control this behavior.\n",
            "  _warn_prf(average, modifier, msg_start, len(result))\n"
          ],
          "name": "stderr"
        }
      ]
    },
    {
      "cell_type": "code",
      "metadata": {
        "id": "B013MCypXIyf",
        "colab": {
          "base_uri": "https://localhost:8080/",
          "height": 0
        },
        "outputId": "c400f549-257f-44c5-b283-9e42fa97e3d8"
      },
      "source": [
        "#19 PCA\n",
        "knn.fit(X_19_train, y_train)\n",
        "y_pred=knn.predict(X_19_test)\n",
        "print(\"Test set predictions:\\n\", y_pred)\n",
        "print(\"Test score:{:.4f}\".format(np.mean([y_pred==y_test])))\n",
        "print(classification_report(y_test, y_pred))"
      ],
      "id": "B013MCypXIyf",
      "execution_count": 1058,
      "outputs": [
        {
          "output_type": "stream",
          "text": [
            "Test set predictions:\n",
            " [[1 0 0 ... 0 0 0]\n",
            " [1 0 0 ... 0 0 0]\n",
            " [1 0 0 ... 0 0 0]\n",
            " ...\n",
            " [1 0 0 ... 0 0 0]\n",
            " [1 0 0 ... 0 0 0]\n",
            " [1 0 0 ... 0 0 0]]\n",
            "Test score:0.9958\n",
            "              precision    recall  f1-score   support\n",
            "\n",
            "           0       0.99      1.00      0.99    169534\n",
            "           1       0.10      0.00      0.00      1251\n",
            "           2       0.00      0.00      0.00       124\n",
            "           3       0.00      0.00      0.00       147\n",
            "           4       0.00      0.00      0.00       272\n",
            "           5       0.33      0.01      0.01      1323\n",
            "           6       0.57      0.26      0.36      1853\n",
            "           7       0.00      0.00      0.00       438\n",
            "           8       0.00      0.00      0.00        55\n",
            "           9       0.00      0.00      0.00         3\n",
            "\n",
            "   micro avg       0.99      0.97      0.98    175000\n",
            "   macro avg       0.20      0.13      0.14    175000\n",
            "weighted avg       0.97      0.97      0.97    175000\n",
            " samples avg       0.97      0.97      0.97    175000\n",
            "\n"
          ],
          "name": "stdout"
        },
        {
          "output_type": "stream",
          "text": [
            "/usr/local/lib/python3.7/dist-packages/sklearn/metrics/_classification.py:1272: UndefinedMetricWarning: Precision and F-score are ill-defined and being set to 0.0 in labels with no predicted samples. Use `zero_division` parameter to control this behavior.\n",
            "  _warn_prf(average, modifier, msg_start, len(result))\n",
            "/usr/local/lib/python3.7/dist-packages/sklearn/metrics/_classification.py:1272: UndefinedMetricWarning: Precision and F-score are ill-defined and being set to 0.0 in samples with no predicted labels. Use `zero_division` parameter to control this behavior.\n",
            "  _warn_prf(average, modifier, msg_start, len(result))\n"
          ],
          "name": "stderr"
        }
      ]
    },
    {
      "cell_type": "code",
      "metadata": {
        "colab": {
          "base_uri": "https://localhost:8080/",
          "height": 0
        },
        "id": "6lIiJCprwqfM",
        "outputId": "c4d9bde7-563e-4a9a-f9d5-1542de2530c7"
      },
      "source": [
        "#15 PCA\n",
        "knn.fit(X_15_train, y_train)\n",
        "y_pred=knn.predict(X_15_test)\n",
        "print(\"Test set predictions:\\n\", y_pred)\n",
        "print(\"Test score:{:.4f}\".format(np.mean([y_pred==y_test])))\n",
        "print(classification_report(y_test, y_pred))"
      ],
      "id": "6lIiJCprwqfM",
      "execution_count": 1059,
      "outputs": [
        {
          "output_type": "stream",
          "text": [
            "Test set predictions:\n",
            " [[1 0 0 ... 0 0 0]\n",
            " [1 0 0 ... 0 0 0]\n",
            " [1 0 0 ... 0 0 0]\n",
            " ...\n",
            " [1 0 0 ... 0 0 0]\n",
            " [1 0 0 ... 0 0 0]\n",
            " [1 0 0 ... 0 0 0]]\n",
            "Test score:0.9960\n",
            "              precision    recall  f1-score   support\n",
            "\n",
            "           0       0.99      1.00      1.00    169534\n",
            "           1       0.08      0.00      0.00      1251\n",
            "           2       0.00      0.00      0.00       124\n",
            "           3       0.00      0.00      0.00       147\n",
            "           4       0.00      0.00      0.00       272\n",
            "           5       0.22      0.01      0.01      1323\n",
            "           6       0.56      0.31      0.40      1853\n",
            "           7       0.00      0.00      0.00       438\n",
            "           8       0.00      0.00      0.00        55\n",
            "           9       0.00      0.00      0.00         3\n",
            "\n",
            "   micro avg       0.99      0.97      0.98    175000\n",
            "   macro avg       0.18      0.13      0.14    175000\n",
            "weighted avg       0.97      0.97      0.97    175000\n",
            " samples avg       0.97      0.97      0.97    175000\n",
            "\n"
          ],
          "name": "stdout"
        },
        {
          "output_type": "stream",
          "text": [
            "/usr/local/lib/python3.7/dist-packages/sklearn/metrics/_classification.py:1272: UndefinedMetricWarning: Precision and F-score are ill-defined and being set to 0.0 in labels with no predicted samples. Use `zero_division` parameter to control this behavior.\n",
            "  _warn_prf(average, modifier, msg_start, len(result))\n",
            "/usr/local/lib/python3.7/dist-packages/sklearn/metrics/_classification.py:1272: UndefinedMetricWarning: Precision and F-score are ill-defined and being set to 0.0 in samples with no predicted labels. Use `zero_division` parameter to control this behavior.\n",
            "  _warn_prf(average, modifier, msg_start, len(result))\n"
          ],
          "name": "stderr"
        }
      ]
    },
    {
      "cell_type": "code",
      "metadata": {
        "colab": {
          "base_uri": "https://localhost:8080/",
          "height": 0
        },
        "id": "-6G3iCEvwqs-",
        "outputId": "61e09c9f-e736-4624-a3e2-60c130ab6084"
      },
      "source": [
        "knn.fit(X_12_train, y_train)\n",
        "y_pred=knn.predict(X_12_test)\n",
        "print(\"Test set predictions:\\n\", y_pred)\n",
        "print(\"Test score:{:.4f}\".format(np.mean([y_pred==y_test])))\n",
        "print(classification_report(y_test, y_pred))"
      ],
      "id": "-6G3iCEvwqs-",
      "execution_count": 1060,
      "outputs": [
        {
          "output_type": "stream",
          "text": [
            "Test set predictions:\n",
            " [[1 0 0 ... 0 0 0]\n",
            " [1 0 0 ... 0 0 0]\n",
            " [1 0 0 ... 0 0 0]\n",
            " ...\n",
            " [1 0 0 ... 0 0 0]\n",
            " [1 0 0 ... 0 0 0]\n",
            " [1 0 0 ... 0 0 0]]\n",
            "Test score:0.9957\n",
            "              precision    recall  f1-score   support\n",
            "\n",
            "           0       0.99      1.00      0.99    169534\n",
            "           1       0.15      0.00      0.00      1251\n",
            "           2       0.00      0.00      0.00       124\n",
            "           3       0.00      0.00      0.00       147\n",
            "           4       0.00      0.00      0.00       272\n",
            "           5       0.29      0.01      0.02      1323\n",
            "           6       0.55      0.25      0.34      1853\n",
            "           7       0.00      0.00      0.00       438\n",
            "           8       0.00      0.00      0.00        55\n",
            "           9       0.00      0.00      0.00         3\n",
            "\n",
            "   micro avg       0.99      0.97      0.98    175000\n",
            "   macro avg       0.20      0.13      0.14    175000\n",
            "weighted avg       0.97      0.97      0.97    175000\n",
            " samples avg       0.97      0.97      0.97    175000\n",
            "\n"
          ],
          "name": "stdout"
        },
        {
          "output_type": "stream",
          "text": [
            "/usr/local/lib/python3.7/dist-packages/sklearn/metrics/_classification.py:1272: UndefinedMetricWarning: Precision and F-score are ill-defined and being set to 0.0 in labels with no predicted samples. Use `zero_division` parameter to control this behavior.\n",
            "  _warn_prf(average, modifier, msg_start, len(result))\n",
            "/usr/local/lib/python3.7/dist-packages/sklearn/metrics/_classification.py:1272: UndefinedMetricWarning: Precision and F-score are ill-defined and being set to 0.0 in samples with no predicted labels. Use `zero_division` parameter to control this behavior.\n",
            "  _warn_prf(average, modifier, msg_start, len(result))\n"
          ],
          "name": "stderr"
        }
      ]
    },
    {
      "cell_type": "code",
      "metadata": {
        "colab": {
          "base_uri": "https://localhost:8080/",
          "height": 0
        },
        "id": "xVQwNDeiwq4v",
        "outputId": "48ff9557-eb91-4d29-afdf-7f3c1b4efce5"
      },
      "source": [
        "knn.fit(X_9_train, y_train)\n",
        "y_pred=knn.predict(X_9_test)\n",
        "print(\"Test set predictions:\\n\", y_pred)\n",
        "print(\"Test score:{:.4f}\".format(np.mean([y_pred==y_test])))\n",
        "print(classification_report(y_test, y_pred))"
      ],
      "id": "xVQwNDeiwq4v",
      "execution_count": 1061,
      "outputs": [
        {
          "output_type": "stream",
          "text": [
            "Test set predictions:\n",
            " [[1 0 0 ... 0 0 0]\n",
            " [1 0 0 ... 0 0 0]\n",
            " [1 0 0 ... 0 0 0]\n",
            " ...\n",
            " [1 0 0 ... 0 0 0]\n",
            " [1 0 0 ... 0 0 0]\n",
            " [1 0 0 ... 0 0 0]]\n",
            "Test score:0.9956\n",
            "              precision    recall  f1-score   support\n",
            "\n",
            "           0       0.99      1.00      0.99    169534\n",
            "           1       0.19      0.00      0.01      1251\n",
            "           2       0.00      0.00      0.00       124\n",
            "           3       0.00      0.00      0.00       147\n",
            "           4       0.00      0.00      0.00       272\n",
            "           5       0.35      0.01      0.02      1323\n",
            "           6       0.54      0.23      0.33      1853\n",
            "           7       0.00      0.00      0.00       438\n",
            "           8       0.00      0.00      0.00        55\n",
            "           9       0.00      0.00      0.00         3\n",
            "\n",
            "   micro avg       0.99      0.97      0.98    175000\n",
            "   macro avg       0.21      0.12      0.13    175000\n",
            "weighted avg       0.97      0.97      0.97    175000\n",
            " samples avg       0.97      0.97      0.97    175000\n",
            "\n"
          ],
          "name": "stdout"
        },
        {
          "output_type": "stream",
          "text": [
            "/usr/local/lib/python3.7/dist-packages/sklearn/metrics/_classification.py:1272: UndefinedMetricWarning: Precision and F-score are ill-defined and being set to 0.0 in labels with no predicted samples. Use `zero_division` parameter to control this behavior.\n",
            "  _warn_prf(average, modifier, msg_start, len(result))\n",
            "/usr/local/lib/python3.7/dist-packages/sklearn/metrics/_classification.py:1272: UndefinedMetricWarning: Precision and F-score are ill-defined and being set to 0.0 in samples with no predicted labels. Use `zero_division` parameter to control this behavior.\n",
            "  _warn_prf(average, modifier, msg_start, len(result))\n"
          ],
          "name": "stderr"
        }
      ]
    },
    {
      "cell_type": "code",
      "metadata": {
        "id": "ZmsqhJT-wrdm"
      },
      "source": [
        ""
      ],
      "id": "ZmsqhJT-wrdm",
      "execution_count": null,
      "outputs": []
    }
  ]
}