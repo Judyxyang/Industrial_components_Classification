{
  "nbformat": 4,
  "nbformat_minor": 5,
  "metadata": {
    "kernelspec": {
      "display_name": "Python 3",
      "language": "python",
      "name": "python3"
    },
    "language_info": {
      "codemirror_mode": {
        "name": "ipython",
        "version": 3
      },
      "file_extension": ".py",
      "mimetype": "text/x-python",
      "name": "python",
      "nbconvert_exporter": "python",
      "pygments_lexer": "ipython3",
      "version": "3.7.10"
    },
    "colab": {
      "name": "RFI Selection + KNN UNSW-NB15  KNN Test Data for Conference paper .ipynb",
      "provenance": [],
      "collapsed_sections": [],
      "toc_visible": true,
      "include_colab_link": true
    }
  },
  "cells": [
    {
      "cell_type": "markdown",
      "metadata": {
        "id": "view-in-github",
        "colab_type": "text"
      },
      "source": [
        "<a href=\"https://colab.research.google.com/github/Judyxyang/Industrial_components_Classification/blob/main/RFI_Selection_%2B_KNN_UNSW_NB15_KNN_Test_Data_for_Conference_paper_.ipynb\" target=\"_parent\"><img src=\"https://colab.research.google.com/assets/colab-badge.svg\" alt=\"Open In Colab\"/></a>"
      ]
    },
    {
      "cell_type": "code",
      "metadata": {
        "id": "1a138282",
        "colab": {
          "base_uri": "https://localhost:8080/"
        },
        "cellView": "form",
        "outputId": "9b74b8fe-a746-478e-9139-558b4d3c5ddc"
      },
      "source": [
        "#@title\n",
        "from sklearn.datasets import load_boston\n",
        "from mlxtend.feature_selection import SequentialFeatureSelector as SFS\n",
        "from sklearn.linear_model import LinearRegression\n",
        "import pandas as pd\n",
        "import numpy as np\n",
        "%matplotlib inline\n",
        "import matplotlib.pyplot as plt"
      ],
      "id": "1a138282",
      "execution_count": 5,
      "outputs": [
        {
          "output_type": "stream",
          "text": [
            "/usr/local/lib/python3.7/dist-packages/sklearn/externals/joblib/__init__.py:15: FutureWarning: sklearn.externals.joblib is deprecated in 0.21 and will be removed in 0.23. Please import this functionality directly from joblib, which can be installed with: pip install joblib. If this warning is raised when loading pickled models, you may need to re-serialize those models with scikit-learn 0.21+.\n",
            "  warnings.warn(msg, category=FutureWarning)\n"
          ],
          "name": "stderr"
        }
      ]
    },
    {
      "cell_type": "code",
      "metadata": {
        "id": "-jCEk5i5DjtA"
      },
      "source": [
        "from pandas.plotting import scatter_matrix\n",
        "import pandas as pd\n",
        "import sklearn\n",
        "from sklearn.decomposition import PCA\n",
        "from sklearn.preprocessing import StandardScaler\n",
        "from sklearn.neighbors import KNeighborsClassifier\n",
        "from sklearn.metrics import accuracy_score\n",
        "from sklearn.metrics import classification_report\n",
        "from sklearn.metrics import confusion_matrix\n",
        "import sklearn.metrics as metrics\n",
        "from sklearn.model_selection import train_test_split\n",
        "import matplotlib.pyplot as plt\n",
        "#knn = KNeighborsClassifier(n_neighbors=2)\n"
      ],
      "id": "-jCEk5i5DjtA",
      "execution_count": 22,
      "outputs": []
    },
    {
      "cell_type": "code",
      "metadata": {
        "id": "bS3wXfrIDsPW",
        "colab": {
          "base_uri": "https://localhost:8080/"
        },
        "outputId": "c9caab83-2902-4877-b8ac-4d1619f39853"
      },
      "source": [
        "from google.colab import drive\n",
        "drive.mount('/content/gdrive')"
      ],
      "id": "bS3wXfrIDsPW",
      "execution_count": 2,
      "outputs": [
        {
          "output_type": "stream",
          "text": [
            "Mounted at /content/gdrive\n"
          ],
          "name": "stdout"
        }
      ]
    },
    {
      "cell_type": "code",
      "metadata": {
        "colab": {
          "base_uri": "https://localhost:8080/"
        },
        "id": "DfwPVSDMEA-Y",
        "outputId": "6d34349f-4425-4caf-c8d3-b26fc5d077db"
      },
      "source": [
        "!ls '/content/gdrive/MyDrive/ConferenceGriffith'"
      ],
      "id": "DfwPVSDMEA-Y",
      "execution_count": 3,
      "outputs": [
        {
          "output_type": "stream",
          "text": [
            "'35 Feature Importance List .csv'\n",
            "'Complete coding for Conference_KNN_10052021.ipynb'\n",
            "'Complete coding for Conference_KNN_12052021.ipynb'\n",
            "'download (1).png'\n",
            "'download (2).png'\n",
            " download.png\n",
            "'Processed Complete PCA and Anormal &Normal PCA12052021.ipynb'\n",
            "'Processed UNSW-NB15_PCA_Normal_Anormal Analysis_12052021.ipynb'\n",
            "'Score95_UNSW-NB15 Complete PCA KNN Test Data for Conference paper .ipynb'\n",
            "'UNSW-NB15-1.csv-Complete Data Preprocessing to PCA _13052021.ipynb'\n",
            " UNSW-NB15_1N_40F.csv\n",
            " UNSW-NB15_1NN_10F_OneHot.csv\n",
            " UNSW-NB15_1NN_12F_OneHot.csv\n",
            " UNSW-NB15_1NN_15F_OneHot.csv\n",
            " UNSW-NB15_1NN_20F_OneHot.csv\n",
            " UNSW-NB15_1NN_30F_Anormalwith10targets_OneHot.csv\n",
            " UNSW-NB15_1NN_30Fnew.csv\n",
            " UNSW-NB15_1NN_30F_Normalwith10targets_OneHot.csv\n",
            " UNSW-NB15_1NN_30F_OneHot_targets.csv\n",
            " UNSW-NB15_1NN_35F_OneHot.csv\n",
            " UNSW-NB15_1NN_35F_OneHot_targets.csv\n",
            " UNSW-NB15_1NN_40F_OneHot.csv\n",
            " UNSW-NB15_1NN_41F.csv\n",
            " UNSW-NB15_1NN_50F_OneHote.csv\n",
            " UNSW-NB15_1NN_50_OneHot.csv\n",
            " UNSW-NB15_1NN_5F_OneHot.csv\n",
            " UNSW-NB15_1NN_8F_OneHot.csv\n",
            " UNSW-NB15_1NN_9F_OneHot.csv\n",
            " UNSW-NB15_1NN_Anormalwith10targets_OneHot.csv\n",
            " UNSW-NB15_1NN_NormalWith10Targets_OneHot.csv\n",
            " UNSW-NB15_30F_Anormal_Hotcode.csv\n",
            " UNSW-NB15_30F_Normal_Hotcode.csv\n",
            " UNSW-NB15_30F_X_1_OneHot.csv\n",
            " UNSW-NB15_40F_Anormal_Hotcode.csv\n",
            " UNSW-NB15_40F_Normal_Hotcode.csv\n",
            " UNSW-NB15_Anomral_30F_OneHot_targets.csv\n",
            " UNSW-NB15_Anormal.csv\n",
            " UNSW-NB15_Anormal_OneHot.csv\n",
            " UNSW-NB15_Nomral_30F_OneHot_targets.csv\n",
            " UNSW-NB15_Normal.csv\n",
            " UNSW-NB15_Normal_OneHot.csv\n"
          ],
          "name": "stdout"
        }
      ]
    },
    {
      "cell_type": "code",
      "metadata": {
        "id": "db02706b"
      },
      "source": [
        "# load sklearn dataset\n",
        "data=pd.read_csv('/content/gdrive/MyDrive/ConferenceGriffith/UNSW-NB15_1NN_50_OneHot.csv', low_memory=False)"
      ],
      "id": "db02706b",
      "execution_count": 4,
      "outputs": []
    },
    {
      "cell_type": "code",
      "metadata": {
        "id": "44492a4d",
        "colab": {
          "base_uri": "https://localhost:8080/",
          "height": 241
        },
        "outputId": "32529391-74bd-4eb8-9ef3-858884296825"
      },
      "source": [
        "data.head()"
      ],
      "id": "44492a4d",
      "execution_count": 5,
      "outputs": [
        {
          "output_type": "execute_result",
          "data": {
            "text/html": [
              "<div>\n",
              "<style scoped>\n",
              "    .dataframe tbody tr th:only-of-type {\n",
              "        vertical-align: middle;\n",
              "    }\n",
              "\n",
              "    .dataframe tbody tr th {\n",
              "        vertical-align: top;\n",
              "    }\n",
              "\n",
              "    .dataframe thead th {\n",
              "        text-align: right;\n",
              "    }\n",
              "</style>\n",
              "<table border=\"1\" class=\"dataframe\">\n",
              "  <thead>\n",
              "    <tr style=\"text-align: right;\">\n",
              "      <th></th>\n",
              "      <th>Unnamed: 0</th>\n",
              "      <th>dur</th>\n",
              "      <th>sbytes</th>\n",
              "      <th>dbytes</th>\n",
              "      <th>sttl</th>\n",
              "      <th>dttl</th>\n",
              "      <th>sloss</th>\n",
              "      <th>dloss</th>\n",
              "      <th>Sload</th>\n",
              "      <th>Dload</th>\n",
              "      <th>Spkts</th>\n",
              "      <th>Dpkts</th>\n",
              "      <th>swin</th>\n",
              "      <th>dwin</th>\n",
              "      <th>stcpb</th>\n",
              "      <th>dtcpb</th>\n",
              "      <th>smeansz</th>\n",
              "      <th>dmeansz</th>\n",
              "      <th>trans_depth</th>\n",
              "      <th>res_bdy_len</th>\n",
              "      <th>Sjit</th>\n",
              "      <th>Djit</th>\n",
              "      <th>Stime</th>\n",
              "      <th>Ltime</th>\n",
              "      <th>Sintpkt</th>\n",
              "      <th>Dintpkt</th>\n",
              "      <th>tcprtt</th>\n",
              "      <th>synack</th>\n",
              "      <th>ackdat</th>\n",
              "      <th>is_sm_ips_ports</th>\n",
              "      <th>ct_state_ttl</th>\n",
              "      <th>ct_flw_http_mthd</th>\n",
              "      <th>is_ftp_login</th>\n",
              "      <th>ct_ftp_cmd</th>\n",
              "      <th>ct_srv_src</th>\n",
              "      <th>ct_srv_dst</th>\n",
              "      <th>ct_dst_ltm</th>\n",
              "      <th>ct_src_ ltm</th>\n",
              "      <th>ct_src_dport_ltm</th>\n",
              "      <th>ct_dst_sport_ltm</th>\n",
              "      <th>ct_dst_src_ltm</th>\n",
              "      <th>Normal</th>\n",
              "      <th>Fuzzers</th>\n",
              "      <th>Analysis</th>\n",
              "      <th>Backdoors</th>\n",
              "      <th>DoS</th>\n",
              "      <th>Exploits</th>\n",
              "      <th>Generic</th>\n",
              "      <th>Reconnaissance</th>\n",
              "      <th>Shellcode</th>\n",
              "      <th>Worms</th>\n",
              "      <th>Label</th>\n",
              "    </tr>\n",
              "  </thead>\n",
              "  <tbody>\n",
              "    <tr>\n",
              "      <th>0</th>\n",
              "      <td>0</td>\n",
              "      <td>0.036133</td>\n",
              "      <td>528</td>\n",
              "      <td>304</td>\n",
              "      <td>31</td>\n",
              "      <td>29</td>\n",
              "      <td>0</td>\n",
              "      <td>0</td>\n",
              "      <td>87676.08594</td>\n",
              "      <td>50480.17188</td>\n",
              "      <td>4</td>\n",
              "      <td>4</td>\n",
              "      <td>0</td>\n",
              "      <td>0</td>\n",
              "      <td>0</td>\n",
              "      <td>0</td>\n",
              "      <td>132</td>\n",
              "      <td>76</td>\n",
              "      <td>0</td>\n",
              "      <td>0</td>\n",
              "      <td>9.891010</td>\n",
              "      <td>10.682733</td>\n",
              "      <td>1421927414</td>\n",
              "      <td>1421927414</td>\n",
              "      <td>7.005</td>\n",
              "      <td>7.564333</td>\n",
              "      <td>0.0</td>\n",
              "      <td>0.0</td>\n",
              "      <td>0.0</td>\n",
              "      <td>0</td>\n",
              "      <td>0</td>\n",
              "      <td>0</td>\n",
              "      <td>0</td>\n",
              "      <td>0</td>\n",
              "      <td>2</td>\n",
              "      <td>4</td>\n",
              "      <td>2</td>\n",
              "      <td>3</td>\n",
              "      <td>1</td>\n",
              "      <td>1</td>\n",
              "      <td>2</td>\n",
              "      <td>1</td>\n",
              "      <td>0</td>\n",
              "      <td>0</td>\n",
              "      <td>0</td>\n",
              "      <td>0</td>\n",
              "      <td>0</td>\n",
              "      <td>0</td>\n",
              "      <td>0</td>\n",
              "      <td>0</td>\n",
              "      <td>0</td>\n",
              "      <td>0</td>\n",
              "    </tr>\n",
              "    <tr>\n",
              "      <th>1</th>\n",
              "      <td>1</td>\n",
              "      <td>0.001119</td>\n",
              "      <td>146</td>\n",
              "      <td>178</td>\n",
              "      <td>31</td>\n",
              "      <td>29</td>\n",
              "      <td>0</td>\n",
              "      <td>0</td>\n",
              "      <td>521894.53130</td>\n",
              "      <td>636282.37500</td>\n",
              "      <td>2</td>\n",
              "      <td>2</td>\n",
              "      <td>0</td>\n",
              "      <td>0</td>\n",
              "      <td>0</td>\n",
              "      <td>0</td>\n",
              "      <td>73</td>\n",
              "      <td>89</td>\n",
              "      <td>0</td>\n",
              "      <td>0</td>\n",
              "      <td>0.000000</td>\n",
              "      <td>0.000000</td>\n",
              "      <td>1421927414</td>\n",
              "      <td>1421927414</td>\n",
              "      <td>0.017</td>\n",
              "      <td>0.013000</td>\n",
              "      <td>0.0</td>\n",
              "      <td>0.0</td>\n",
              "      <td>0.0</td>\n",
              "      <td>0</td>\n",
              "      <td>0</td>\n",
              "      <td>0</td>\n",
              "      <td>0</td>\n",
              "      <td>0</td>\n",
              "      <td>12</td>\n",
              "      <td>8</td>\n",
              "      <td>1</td>\n",
              "      <td>2</td>\n",
              "      <td>2</td>\n",
              "      <td>1</td>\n",
              "      <td>1</td>\n",
              "      <td>1</td>\n",
              "      <td>0</td>\n",
              "      <td>0</td>\n",
              "      <td>0</td>\n",
              "      <td>0</td>\n",
              "      <td>0</td>\n",
              "      <td>0</td>\n",
              "      <td>0</td>\n",
              "      <td>0</td>\n",
              "      <td>0</td>\n",
              "      <td>0</td>\n",
              "    </tr>\n",
              "    <tr>\n",
              "      <th>2</th>\n",
              "      <td>2</td>\n",
              "      <td>0.001209</td>\n",
              "      <td>132</td>\n",
              "      <td>164</td>\n",
              "      <td>31</td>\n",
              "      <td>29</td>\n",
              "      <td>0</td>\n",
              "      <td>0</td>\n",
              "      <td>436724.56250</td>\n",
              "      <td>542597.18750</td>\n",
              "      <td>2</td>\n",
              "      <td>2</td>\n",
              "      <td>0</td>\n",
              "      <td>0</td>\n",
              "      <td>0</td>\n",
              "      <td>0</td>\n",
              "      <td>66</td>\n",
              "      <td>82</td>\n",
              "      <td>0</td>\n",
              "      <td>0</td>\n",
              "      <td>0.000000</td>\n",
              "      <td>0.000000</td>\n",
              "      <td>1421927414</td>\n",
              "      <td>1421927414</td>\n",
              "      <td>0.043</td>\n",
              "      <td>0.014000</td>\n",
              "      <td>0.0</td>\n",
              "      <td>0.0</td>\n",
              "      <td>0.0</td>\n",
              "      <td>0</td>\n",
              "      <td>0</td>\n",
              "      <td>0</td>\n",
              "      <td>0</td>\n",
              "      <td>0</td>\n",
              "      <td>6</td>\n",
              "      <td>9</td>\n",
              "      <td>1</td>\n",
              "      <td>1</td>\n",
              "      <td>1</td>\n",
              "      <td>1</td>\n",
              "      <td>1</td>\n",
              "      <td>1</td>\n",
              "      <td>0</td>\n",
              "      <td>0</td>\n",
              "      <td>0</td>\n",
              "      <td>0</td>\n",
              "      <td>0</td>\n",
              "      <td>0</td>\n",
              "      <td>0</td>\n",
              "      <td>0</td>\n",
              "      <td>0</td>\n",
              "      <td>0</td>\n",
              "    </tr>\n",
              "    <tr>\n",
              "      <th>3</th>\n",
              "      <td>3</td>\n",
              "      <td>0.001169</td>\n",
              "      <td>146</td>\n",
              "      <td>178</td>\n",
              "      <td>31</td>\n",
              "      <td>29</td>\n",
              "      <td>0</td>\n",
              "      <td>0</td>\n",
              "      <td>499572.25000</td>\n",
              "      <td>609067.56250</td>\n",
              "      <td>2</td>\n",
              "      <td>2</td>\n",
              "      <td>0</td>\n",
              "      <td>0</td>\n",
              "      <td>0</td>\n",
              "      <td>0</td>\n",
              "      <td>73</td>\n",
              "      <td>89</td>\n",
              "      <td>0</td>\n",
              "      <td>0</td>\n",
              "      <td>0.000000</td>\n",
              "      <td>0.000000</td>\n",
              "      <td>1421927414</td>\n",
              "      <td>1421927414</td>\n",
              "      <td>0.005</td>\n",
              "      <td>0.003000</td>\n",
              "      <td>0.0</td>\n",
              "      <td>0.0</td>\n",
              "      <td>0.0</td>\n",
              "      <td>0</td>\n",
              "      <td>0</td>\n",
              "      <td>0</td>\n",
              "      <td>0</td>\n",
              "      <td>0</td>\n",
              "      <td>7</td>\n",
              "      <td>9</td>\n",
              "      <td>1</td>\n",
              "      <td>1</td>\n",
              "      <td>1</td>\n",
              "      <td>1</td>\n",
              "      <td>1</td>\n",
              "      <td>1</td>\n",
              "      <td>0</td>\n",
              "      <td>0</td>\n",
              "      <td>0</td>\n",
              "      <td>0</td>\n",
              "      <td>0</td>\n",
              "      <td>0</td>\n",
              "      <td>0</td>\n",
              "      <td>0</td>\n",
              "      <td>0</td>\n",
              "      <td>0</td>\n",
              "    </tr>\n",
              "    <tr>\n",
              "      <th>4</th>\n",
              "      <td>4</td>\n",
              "      <td>0.078339</td>\n",
              "      <td>568</td>\n",
              "      <td>312</td>\n",
              "      <td>31</td>\n",
              "      <td>29</td>\n",
              "      <td>0</td>\n",
              "      <td>0</td>\n",
              "      <td>43503.23438</td>\n",
              "      <td>23896.14258</td>\n",
              "      <td>4</td>\n",
              "      <td>4</td>\n",
              "      <td>0</td>\n",
              "      <td>0</td>\n",
              "      <td>0</td>\n",
              "      <td>0</td>\n",
              "      <td>142</td>\n",
              "      <td>78</td>\n",
              "      <td>0</td>\n",
              "      <td>0</td>\n",
              "      <td>29.682221</td>\n",
              "      <td>34.370340</td>\n",
              "      <td>1421927414</td>\n",
              "      <td>1421927414</td>\n",
              "      <td>21.003</td>\n",
              "      <td>24.315000</td>\n",
              "      <td>0.0</td>\n",
              "      <td>0.0</td>\n",
              "      <td>0.0</td>\n",
              "      <td>0</td>\n",
              "      <td>0</td>\n",
              "      <td>0</td>\n",
              "      <td>0</td>\n",
              "      <td>0</td>\n",
              "      <td>2</td>\n",
              "      <td>4</td>\n",
              "      <td>2</td>\n",
              "      <td>3</td>\n",
              "      <td>1</td>\n",
              "      <td>1</td>\n",
              "      <td>2</td>\n",
              "      <td>1</td>\n",
              "      <td>0</td>\n",
              "      <td>0</td>\n",
              "      <td>0</td>\n",
              "      <td>0</td>\n",
              "      <td>0</td>\n",
              "      <td>0</td>\n",
              "      <td>0</td>\n",
              "      <td>0</td>\n",
              "      <td>0</td>\n",
              "      <td>0</td>\n",
              "    </tr>\n",
              "  </tbody>\n",
              "</table>\n",
              "</div>"
            ],
            "text/plain": [
              "   Unnamed: 0       dur  sbytes  ...  Shellcode  Worms  Label\n",
              "0           0  0.036133     528  ...          0      0      0\n",
              "1           1  0.001119     146  ...          0      0      0\n",
              "2           2  0.001209     132  ...          0      0      0\n",
              "3           3  0.001169     146  ...          0      0      0\n",
              "4           4  0.078339     568  ...          0      0      0\n",
              "\n",
              "[5 rows x 52 columns]"
            ]
          },
          "metadata": {
            "tags": []
          },
          "execution_count": 5
        }
      ]
    },
    {
      "cell_type": "code",
      "metadata": {
        "id": "a08ad137"
      },
      "source": [
        "data=data.drop(['Unnamed: 0'],axis=1)"
      ],
      "id": "a08ad137",
      "execution_count": 6,
      "outputs": []
    },
    {
      "cell_type": "code",
      "metadata": {
        "colab": {
          "base_uri": "https://localhost:8080/"
        },
        "id": "c86a59b0",
        "outputId": "c65a2399-0e8e-4f22-ee79-dd5f1e939662"
      },
      "source": [
        "data.columns"
      ],
      "id": "c86a59b0",
      "execution_count": 7,
      "outputs": [
        {
          "output_type": "execute_result",
          "data": {
            "text/plain": [
              "Index(['dur', 'sbytes', 'dbytes', 'sttl', 'dttl', 'sloss', 'dloss', 'Sload',\n",
              "       'Dload', 'Spkts', 'Dpkts', 'swin', 'dwin', 'stcpb', 'dtcpb', 'smeansz',\n",
              "       'dmeansz', 'trans_depth', 'res_bdy_len', 'Sjit', 'Djit', 'Stime',\n",
              "       'Ltime', 'Sintpkt', 'Dintpkt', 'tcprtt', 'synack', 'ackdat',\n",
              "       'is_sm_ips_ports', 'ct_state_ttl', 'ct_flw_http_mthd', 'is_ftp_login',\n",
              "       'ct_ftp_cmd', 'ct_srv_src', 'ct_srv_dst', 'ct_dst_ltm', 'ct_src_ ltm',\n",
              "       'ct_src_dport_ltm', 'ct_dst_sport_ltm', 'ct_dst_src_ltm', 'Normal',\n",
              "       ' Fuzzers', 'Analysis', 'Backdoors', 'DoS', 'Exploits', 'Generic',\n",
              "       'Reconnaissance', 'Shellcode', 'Worms', 'Label'],\n",
              "      dtype='object')"
            ]
          },
          "metadata": {
            "tags": []
          },
          "execution_count": 7
        }
      ]
    },
    {
      "cell_type": "code",
      "metadata": {
        "id": "9oh8uiYwXR2P"
      },
      "source": [
        "#Select the first 40 columns as features \n",
        "X=data.iloc[:,:40]\n",
        "#Slecte the 41-50 columns as targets \n",
        "y1=data.iloc[:,40:50]\n",
        "y2=data.iloc[:,50:51]"
      ],
      "id": "9oh8uiYwXR2P",
      "execution_count": 8,
      "outputs": []
    },
    {
      "cell_type": "code",
      "metadata": {
        "colab": {
          "base_uri": "https://localhost:8080/"
        },
        "id": "H1ki9E-0XR7c",
        "outputId": "25a40114-e284-414b-d88b-ed49a0a1ad36"
      },
      "source": [
        "X.columns"
      ],
      "id": "H1ki9E-0XR7c",
      "execution_count": 9,
      "outputs": [
        {
          "output_type": "execute_result",
          "data": {
            "text/plain": [
              "Index(['dur', 'sbytes', 'dbytes', 'sttl', 'dttl', 'sloss', 'dloss', 'Sload',\n",
              "       'Dload', 'Spkts', 'Dpkts', 'swin', 'dwin', 'stcpb', 'dtcpb', 'smeansz',\n",
              "       'dmeansz', 'trans_depth', 'res_bdy_len', 'Sjit', 'Djit', 'Stime',\n",
              "       'Ltime', 'Sintpkt', 'Dintpkt', 'tcprtt', 'synack', 'ackdat',\n",
              "       'is_sm_ips_ports', 'ct_state_ttl', 'ct_flw_http_mthd', 'is_ftp_login',\n",
              "       'ct_ftp_cmd', 'ct_srv_src', 'ct_srv_dst', 'ct_dst_ltm', 'ct_src_ ltm',\n",
              "       'ct_src_dport_ltm', 'ct_dst_sport_ltm', 'ct_dst_src_ltm'],\n",
              "      dtype='object')"
            ]
          },
          "metadata": {
            "tags": []
          },
          "execution_count": 9
        }
      ]
    },
    {
      "cell_type": "code",
      "metadata": {
        "colab": {
          "base_uri": "https://localhost:8080/"
        },
        "id": "07eZ-C2zXSBZ",
        "outputId": "ccfd0e2b-f15b-410a-a127-95dcef789372"
      },
      "source": [
        "y1.columns"
      ],
      "id": "07eZ-C2zXSBZ",
      "execution_count": 10,
      "outputs": [
        {
          "output_type": "execute_result",
          "data": {
            "text/plain": [
              "Index(['Normal', ' Fuzzers', 'Analysis', 'Backdoors', 'DoS', 'Exploits',\n",
              "       'Generic', 'Reconnaissance', 'Shellcode', 'Worms'],\n",
              "      dtype='object')"
            ]
          },
          "metadata": {
            "tags": []
          },
          "execution_count": 10
        }
      ]
    },
    {
      "cell_type": "code",
      "metadata": {
        "colab": {
          "base_uri": "https://localhost:8080/"
        },
        "id": "U2MVQ9szXSHK",
        "outputId": "4672c4f1-d77d-4b04-f828-12f5295b2be4"
      },
      "source": [
        "y2.columns"
      ],
      "id": "U2MVQ9szXSHK",
      "execution_count": 11,
      "outputs": [
        {
          "output_type": "execute_result",
          "data": {
            "text/plain": [
              "Index(['Label'], dtype='object')"
            ]
          },
          "metadata": {
            "tags": []
          },
          "execution_count": 11
        }
      ]
    },
    {
      "cell_type": "markdown",
      "metadata": {
        "id": "_STHYn40Yuqh"
      },
      "source": [
        "#Feature Selection -1 Random Forest Importance"
      ],
      "id": "_STHYn40Yuqh"
    },
    {
      "cell_type": "code",
      "metadata": {
        "id": "kWoVqFdtXQcM"
      },
      "source": [
        "#Random Forest Importance \n",
        "# Decision tree from feature importance on a classification problem\n",
        "\n",
        "from sklearn.datasets import make_classification\n",
        "from sklearn.tree import DecisionTreeClassifier\n",
        "from matplotlib import pyplot"
      ],
      "id": "kWoVqFdtXQcM",
      "execution_count": 12,
      "outputs": []
    },
    {
      "cell_type": "code",
      "metadata": {
        "id": "KXlA56ZIeb4g"
      },
      "source": [
        "from sklearn.datasets import make_classification\n",
        "from sklearn.model_selection import train_test_split\n",
        "\n",
        "X, y2 = make_classification(\n",
        "    n_samples=700000, n_features=40, n_informative=20, n_redundant=0, \n",
        "    n_repeated=0, n_classes=2, random_state=0, shuffle=False)\n",
        "X_train, X_test, y2_train, y2_test = train_test_split(\n",
        "    X, y2, stratify=y2, random_state=42)"
      ],
      "id": "KXlA56ZIeb4g",
      "execution_count": 13,
      "outputs": []
    },
    {
      "cell_type": "code",
      "metadata": {
        "colab": {
          "base_uri": "https://localhost:8080/"
        },
        "id": "tuc-sSNkfCHm",
        "outputId": "927de29d-34c4-4ea4-9fa3-cc0e7817762d"
      },
      "source": [
        "from sklearn.ensemble import RandomForestClassifier\n",
        "\n",
        "feature_names = [f'feature {i}' for i in range(X.shape[1])]\n",
        "forest = RandomForestClassifier(random_state=0)\n",
        "forest.fit(X_train, y2_train)"
      ],
      "id": "tuc-sSNkfCHm",
      "execution_count": 14,
      "outputs": [
        {
          "output_type": "execute_result",
          "data": {
            "text/plain": [
              "RandomForestClassifier(bootstrap=True, ccp_alpha=0.0, class_weight=None,\n",
              "                       criterion='gini', max_depth=None, max_features='auto',\n",
              "                       max_leaf_nodes=None, max_samples=None,\n",
              "                       min_impurity_decrease=0.0, min_impurity_split=None,\n",
              "                       min_samples_leaf=1, min_samples_split=2,\n",
              "                       min_weight_fraction_leaf=0.0, n_estimators=100,\n",
              "                       n_jobs=None, oob_score=False, random_state=0, verbose=0,\n",
              "                       warm_start=False)"
            ]
          },
          "metadata": {
            "tags": []
          },
          "execution_count": 14
        }
      ]
    },
    {
      "cell_type": "markdown",
      "metadata": {
        "id": "NSS7uKMZfOeB"
      },
      "source": [
        "Feature importance based on mean decrease in impurity¶"
      ],
      "id": "NSS7uKMZfOeB"
    },
    {
      "cell_type": "code",
      "metadata": {
        "colab": {
          "base_uri": "https://localhost:8080/"
        },
        "id": "CCPGrLgafRUB",
        "outputId": "19f38da6-84a2-4c70-c38c-bd290821ffa4"
      },
      "source": [
        "import time\n",
        "import numpy as np\n",
        "\n",
        "start_time = time.time()\n",
        "importances = forest.feature_importances_\n",
        "std = np.std([\n",
        "    tree.feature_importances_ for tree in forest.estimators_], axis=0)\n",
        "elapsed_time = time.time() - start_time\n",
        "\n",
        "print(f\"Elapsed time to compute the importances: \"\n",
        "      f\"{elapsed_time:.3f} seconds\")"
      ],
      "id": "CCPGrLgafRUB",
      "execution_count": 24,
      "outputs": [
        {
          "output_type": "stream",
          "text": [
            "Elapsed time to compute the importances: 0.126 seconds\n"
          ],
          "name": "stdout"
        }
      ]
    },
    {
      "cell_type": "markdown",
      "metadata": {
        "id": "1sPcjzgofbgS"
      },
      "source": [
        "Let’s plot the impurity-based importance."
      ],
      "id": "1sPcjzgofbgS"
    },
    {
      "cell_type": "code",
      "metadata": {
        "colab": {
          "base_uri": "https://localhost:8080/",
          "height": 314
        },
        "id": "eBUbBTIdfRrn",
        "outputId": "450c8070-9ffc-4251-a062-84add2cf4e61"
      },
      "source": [
        "import pandas as pd\n",
        "forest_importances = pd.Series(importances, index=feature_names)\n",
        "plt.figure(figsize=(80,15))\n",
        "\n",
        "fig, ax = plt.subplots()\n",
        "#fig, ax = plt.plot()\n",
        "forest_importances.plot.bar(yerr=std, ax=ax)\n",
        "ax.set_title(\"Feature importances using MDI\")\n",
        "ax.set_ylabel(\"Mean decrease in impurity\")\n",
        "fig.tight_layout()"
      ],
      "id": "eBUbBTIdfRrn",
      "execution_count": 91,
      "outputs": [
        {
          "output_type": "display_data",
          "data": {
            "text/plain": [
              "<Figure size 5760x1080 with 0 Axes>"
            ]
          },
          "metadata": {
            "tags": []
          }
        },
        {
          "output_type": "display_data",
          "data": {
            "image/png": "[encoded data removed]",
            "text/plain": [
              "<Figure size 432x288 with 1 Axes>"
            ]
          },
          "metadata": {
            "tags": [],
            "needs_background": "light"
          }
        }
      ]
    },
    {
      "cell_type": "markdown",
      "metadata": {
        "id": "jzO-2LCtfuqN"
      },
      "source": [
        "Feature importance based on feature permutation"
      ],
      "id": "jzO-2LCtfuqN"
    },
    {
      "cell_type": "code",
      "metadata": {
        "colab": {
          "base_uri": "https://localhost:8080/"
        },
        "id": "IjSf0QEokKtG",
        "outputId": "c4df7ee1-9ba5-4ae7-9a6a-6e5b092498a6"
      },
      "source": [
        "data.columns"
      ],
      "id": "IjSf0QEokKtG",
      "execution_count": 25,
      "outputs": [
        {
          "output_type": "execute_result",
          "data": {
            "text/plain": [
              "Index(['dur', 'sbytes', 'dbytes', 'sttl', 'dttl', 'sloss', 'dloss', 'Sload',\n",
              "       'Dload', 'Spkts', 'Dpkts', 'swin', 'dwin', 'stcpb', 'dtcpb', 'smeansz',\n",
              "       'dmeansz', 'trans_depth', 'res_bdy_len', 'Sjit', 'Djit', 'Stime',\n",
              "       'Ltime', 'Sintpkt', 'Dintpkt', 'tcprtt', 'synack', 'ackdat',\n",
              "       'is_sm_ips_ports', 'ct_state_ttl', 'ct_flw_http_mthd', 'is_ftp_login',\n",
              "       'ct_ftp_cmd', 'ct_srv_src', 'ct_srv_dst', 'ct_dst_ltm', 'ct_src_ ltm',\n",
              "       'ct_src_dport_ltm', 'ct_dst_sport_ltm', 'ct_dst_src_ltm', 'Normal',\n",
              "       ' Fuzzers', 'Analysis', 'Backdoors', 'DoS', 'Exploits', 'Generic',\n",
              "       'Reconnaissance', 'Shellcode', 'Worms', 'Label'],\n",
              "      dtype='object')"
            ]
          },
          "metadata": {
            "tags": []
          },
          "execution_count": 25
        }
      ]
    },
    {
      "cell_type": "code",
      "metadata": {
        "id": "fxLXsp1VsMiP"
      },
      "source": [
        "from matplotlib.pyplot import MultipleLocator"
      ],
      "id": "fxLXsp1VsMiP",
      "execution_count": null,
      "outputs": []
    },
    {
      "cell_type": "code",
      "metadata": {
        "colab": {
          "base_uri": "https://localhost:8080/",
          "height": 649
        },
        "id": "tSr-EDtrfwTO",
        "outputId": "2da430d5-d9ee-4f9f-fc01-37b118221d31"
      },
      "source": [
        "features = feature_names\n",
        "importances = forest.feature_importances_\n",
        "indices = np.argsort(importances)\n",
        "plt.figure(figsize=(30,15))\n",
        "\n",
        "plt.title('Feature Importances',fontsize=12)\n",
        "plt.barh(range(len(indices)), importances[indices], color='b', align='center')\n",
        "#plt.yticks(range(len(indices)))\n",
        "plt.yticks(range(len(indices)), [features[i] for i in indices])\n",
        "plt.ylim(0, 40)\n",
        "plt.xlabel('Relative Importance', fontsize=12)\n",
        "plt.show()"
      ],
      "id": "tSr-EDtrfwTO",
      "execution_count": 36,
      "outputs": [
        {
          "output_type": "display_data",
          "data": {
            "image/png": "[encoded data removed]",
            "text/plain": [
              "<Figure size 2160x1080 with 1 Axes>"
            ]
          },
          "metadata": {
            "tags": [],
            "needs_background": "light"
          }
        }
      ]
    },
    {
      "cell_type": "code",
      "metadata": {
        "colab": {
          "base_uri": "https://localhost:8080/"
        },
        "id": "0cRe6MCcp2cP",
        "outputId": "ce107966-2db5-43f1-f4a7-818942e6359c"
      },
      "source": [
        "importances[indices]"
      ],
      "id": "0cRe6MCcp2cP",
      "execution_count": 37,
      "outputs": [
        {
          "output_type": "execute_result",
          "data": {
            "text/plain": [
              "array([0.00516611, 0.00518539, 0.00518954, 0.00519   , 0.00520259,\n",
              "       0.00520513, 0.00521617, 0.00522921, 0.00523164, 0.0052349 ,\n",
              "       0.0052351 , 0.00524039, 0.00526598, 0.00527039, 0.00527663,\n",
              "       0.00527765, 0.00528256, 0.00528822, 0.00529177, 0.00529526,\n",
              "       0.01867842, 0.02407086, 0.02980996, 0.03190199, 0.03523432,\n",
              "       0.0353843 , 0.0356016 , 0.03744891, 0.04079835, 0.04292009,\n",
              "       0.04296093, 0.04489316, 0.04731885, 0.04886046, 0.05066787,\n",
              "       0.05269518, 0.05670805, 0.05694029, 0.05848949, 0.1038423 ])"
            ]
          },
          "metadata": {
            "tags": []
          },
          "execution_count": 37
        }
      ]
    },
    {
      "cell_type": "code",
      "metadata": {
        "colab": {
          "base_uri": "https://localhost:8080/"
        },
        "id": "nW-dTa5Vfwej",
        "outputId": "6e73f9f1-b3e8-4e0d-b524-b728214cc036"
      },
      "source": [
        "indices"
      ],
      "id": "nW-dTa5Vfwej",
      "execution_count": 38,
      "outputs": [
        {
          "output_type": "execute_result",
          "data": {
            "text/plain": [
              "array([27, 24, 37, 36, 21, 38, 31, 23, 22, 20, 30, 28, 39, 26, 32, 25, 34,\n",
              "       29, 33, 35, 11,  7, 10,  5, 16,  9,  3, 12, 13, 14,  0, 19, 17, 18,\n",
              "        4, 15,  1,  6,  8,  2])"
            ]
          },
          "metadata": {
            "tags": []
          },
          "execution_count": 38
        }
      ]
    },
    {
      "cell_type": "code",
      "metadata": {
        "colab": {
          "base_uri": "https://localhost:8080/"
        },
        "id": "nAcyPkEpvyzS",
        "outputId": "788fa55f-4fe9-4895-eef7-500f8288aa47"
      },
      "source": [
        "data.info()"
      ],
      "id": "nAcyPkEpvyzS",
      "execution_count": 39,
      "outputs": [
        {
          "output_type": "stream",
          "text": [
            "<class 'pandas.core.frame.DataFrame'>\n",
            "RangeIndex: 700000 entries, 0 to 699999\n",
            "Data columns (total 51 columns):\n",
            " #   Column            Non-Null Count   Dtype  \n",
            "---  ------            --------------   -----  \n",
            " 0   dur               700000 non-null  float64\n",
            " 1   sbytes            700000 non-null  int64  \n",
            " 2   dbytes            700000 non-null  int64  \n",
            " 3   sttl              700000 non-null  int64  \n",
            " 4   dttl              700000 non-null  int64  \n",
            " 5   sloss             700000 non-null  int64  \n",
            " 6   dloss             700000 non-null  int64  \n",
            " 7   Sload             700000 non-null  float64\n",
            " 8   Dload             700000 non-null  float64\n",
            " 9   Spkts             700000 non-null  int64  \n",
            " 10  Dpkts             700000 non-null  int64  \n",
            " 11  swin              700000 non-null  int64  \n",
            " 12  dwin              700000 non-null  int64  \n",
            " 13  stcpb             700000 non-null  int64  \n",
            " 14  dtcpb             700000 non-null  int64  \n",
            " 15  smeansz           700000 non-null  int64  \n",
            " 16  dmeansz           700000 non-null  int64  \n",
            " 17  trans_depth       700000 non-null  int64  \n",
            " 18  res_bdy_len       700000 non-null  int64  \n",
            " 19  Sjit              700000 non-null  float64\n",
            " 20  Djit              700000 non-null  float64\n",
            " 21  Stime             700000 non-null  int64  \n",
            " 22  Ltime             700000 non-null  int64  \n",
            " 23  Sintpkt           700000 non-null  float64\n",
            " 24  Dintpkt           700000 non-null  float64\n",
            " 25  tcprtt            700000 non-null  float64\n",
            " 26  synack            700000 non-null  float64\n",
            " 27  ackdat            700000 non-null  float64\n",
            " 28  is_sm_ips_ports   700000 non-null  int64  \n",
            " 29  ct_state_ttl      700000 non-null  int64  \n",
            " 30  ct_flw_http_mthd  700000 non-null  int64  \n",
            " 31  is_ftp_login      700000 non-null  int64  \n",
            " 32  ct_ftp_cmd        700000 non-null  int64  \n",
            " 33  ct_srv_src        700000 non-null  int64  \n",
            " 34  ct_srv_dst        700000 non-null  int64  \n",
            " 35  ct_dst_ltm        700000 non-null  int64  \n",
            " 36  ct_src_ ltm       700000 non-null  int64  \n",
            " 37  ct_src_dport_ltm  700000 non-null  int64  \n",
            " 38  ct_dst_sport_ltm  700000 non-null  int64  \n",
            " 39  ct_dst_src_ltm    700000 non-null  int64  \n",
            " 40  Normal            700000 non-null  int64  \n",
            " 41   Fuzzers          700000 non-null  int64  \n",
            " 42  Analysis          700000 non-null  int64  \n",
            " 43  Backdoors         700000 non-null  int64  \n",
            " 44  DoS               700000 non-null  int64  \n",
            " 45  Exploits          700000 non-null  int64  \n",
            " 46  Generic           700000 non-null  int64  \n",
            " 47  Reconnaissance    700000 non-null  int64  \n",
            " 48  Shellcode         700000 non-null  int64  \n",
            " 49  Worms             700000 non-null  int64  \n",
            " 50  Label             700000 non-null  int64  \n",
            "dtypes: float64(10), int64(41)\n",
            "memory usage: 272.4 MB\n"
          ],
          "name": "stdout"
        }
      ]
    },
    {
      "cell_type": "code",
      "metadata": {
        "colab": {
          "base_uri": "https://localhost:8080/"
        },
        "id": "RfLmJJC0vmHw",
        "outputId": "f652c9ee-3863-45b0-8d40-d8e1f420856e"
      },
      "source": [
        "data.columns"
      ],
      "id": "RfLmJJC0vmHw",
      "execution_count": 40,
      "outputs": [
        {
          "output_type": "execute_result",
          "data": {
            "text/plain": [
              "Index(['dur', 'sbytes', 'dbytes', 'sttl', 'dttl', 'sloss', 'dloss', 'Sload',\n",
              "       'Dload', 'Spkts', 'Dpkts', 'swin', 'dwin', 'stcpb', 'dtcpb', 'smeansz',\n",
              "       'dmeansz', 'trans_depth', 'res_bdy_len', 'Sjit', 'Djit', 'Stime',\n",
              "       'Ltime', 'Sintpkt', 'Dintpkt', 'tcprtt', 'synack', 'ackdat',\n",
              "       'is_sm_ips_ports', 'ct_state_ttl', 'ct_flw_http_mthd', 'is_ftp_login',\n",
              "       'ct_ftp_cmd', 'ct_srv_src', 'ct_srv_dst', 'ct_dst_ltm', 'ct_src_ ltm',\n",
              "       'ct_src_dport_ltm', 'ct_dst_sport_ltm', 'ct_dst_src_ltm', 'Normal',\n",
              "       ' Fuzzers', 'Analysis', 'Backdoors', 'DoS', 'Exploits', 'Generic',\n",
              "       'Reconnaissance', 'Shellcode', 'Worms', 'Label'],\n",
              "      dtype='object')"
            ]
          },
          "metadata": {
            "tags": []
          },
          "execution_count": 40
        }
      ]
    },
    {
      "cell_type": "markdown",
      "metadata": {
        "id": "LO9Loqo2vmyM"
      },
      "source": [
        "# Save 20 Features Files to the folder"
      ],
      "id": "LO9Loqo2vmyM"
    },
    {
      "cell_type": "code",
      "metadata": {
        "id": "CeCgC07AvsVd"
      },
      "source": [
        "data_20=data.drop(['Djit', 'Stime',\n",
        "       'Ltime', 'Sintpkt', 'Dintpkt', 'tcprtt', 'synack', 'ackdat',\n",
        "       'is_sm_ips_ports', 'ct_state_ttl', 'ct_flw_http_mthd', 'is_ftp_login',\n",
        "       'ct_ftp_cmd', 'ct_srv_src', 'ct_srv_dst', 'ct_dst_ltm', 'ct_src_ ltm',\n",
        "       'ct_src_dport_ltm', 'ct_dst_sport_ltm', 'ct_dst_src_ltm'], axis=1)"
      ],
      "id": "CeCgC07AvsVd",
      "execution_count": 116,
      "outputs": []
    },
    {
      "cell_type": "code",
      "metadata": {
        "id": "rvgpbH3qvsgq"
      },
      "source": [
        "data_20=data_20.to_csv('/content/gdrive/MyDrive/ConferenceGriffith/UNSW-NB15_1NN_20F_OneHot.csv')"
      ],
      "id": "rvgpbH3qvsgq",
      "execution_count": 117,
      "outputs": []
    },
    {
      "cell_type": "code",
      "metadata": {
        "id": "UGzK5vebvsl6"
      },
      "source": [
        "data_20=pd.read_csv('/content/gdrive/MyDrive/ConferenceGriffith/UNSW-NB15_1NN_20F_OneHot.csv',low_memory=False)"
      ],
      "id": "UGzK5vebvsl6",
      "execution_count": 17,
      "outputs": []
    },
    {
      "cell_type": "code",
      "metadata": {
        "colab": {
          "base_uri": "https://localhost:8080/"
        },
        "id": "863-gXhn0lr6",
        "outputId": "ca2d3566-7635-4c1d-a8e3-de1d0849943f"
      },
      "source": [
        "data_20.columns"
      ],
      "id": "863-gXhn0lr6",
      "execution_count": 18,
      "outputs": [
        {
          "output_type": "execute_result",
          "data": {
            "text/plain": [
              "Index(['Unnamed: 0', 'dur', 'sbytes', 'dbytes', 'sttl', 'dttl', 'sloss',\n",
              "       'dloss', 'Sload', 'Dload', 'Spkts', 'Dpkts', 'swin', 'dwin', 'stcpb',\n",
              "       'dtcpb', 'smeansz', 'dmeansz', 'trans_depth', 'res_bdy_len', 'Sjit',\n",
              "       'Normal', ' Fuzzers', 'Analysis', 'Backdoors', 'DoS', 'Exploits',\n",
              "       'Generic', 'Reconnaissance', 'Shellcode', 'Worms', 'Label'],\n",
              "      dtype='object')"
            ]
          },
          "metadata": {
            "tags": []
          },
          "execution_count": 18
        }
      ]
    },
    {
      "cell_type": "code",
      "metadata": {
        "id": "-CANWxhgXQo0"
      },
      "source": [
        "df=data_20.drop(['Unnamed: 0'],axis=1)\n"
      ],
      "id": "-CANWxhgXQo0",
      "execution_count": 19,
      "outputs": []
    },
    {
      "cell_type": "code",
      "metadata": {
        "colab": {
          "base_uri": "https://localhost:8080/"
        },
        "id": "VoAvHhnO1Ftx",
        "outputId": "efcae29f-e558-4df9-c1c2-4b3d29fb94ce"
      },
      "source": [
        "df.columns"
      ],
      "id": "VoAvHhnO1Ftx",
      "execution_count": 20,
      "outputs": [
        {
          "output_type": "execute_result",
          "data": {
            "text/plain": [
              "Index(['dur', 'sbytes', 'dbytes', 'sttl', 'dttl', 'sloss', 'dloss', 'Sload',\n",
              "       'Dload', 'Spkts', 'Dpkts', 'swin', 'dwin', 'stcpb', 'dtcpb', 'smeansz',\n",
              "       'dmeansz', 'trans_depth', 'res_bdy_len', 'Sjit', 'Normal', ' Fuzzers',\n",
              "       'Analysis', 'Backdoors', 'DoS', 'Exploits', 'Generic', 'Reconnaissance',\n",
              "       'Shellcode', 'Worms', 'Label'],\n",
              "      dtype='object')"
            ]
          },
          "metadata": {
            "tags": []
          },
          "execution_count": 20
        }
      ]
    },
    {
      "cell_type": "code",
      "metadata": {
        "colab": {
          "base_uri": "https://localhost:8080/"
        },
        "id": "ndkYduDa2q7E",
        "outputId": "a191bf21-8742-4577-c90c-919377e76588"
      },
      "source": [
        "df.shape"
      ],
      "id": "ndkYduDa2q7E",
      "execution_count": 41,
      "outputs": [
        {
          "output_type": "execute_result",
          "data": {
            "text/plain": [
              "(700000, 31)"
            ]
          },
          "metadata": {
            "tags": []
          },
          "execution_count": 41
        }
      ]
    },
    {
      "cell_type": "code",
      "metadata": {
        "id": "3-b5VwCb2EE5"
      },
      "source": [
        "#700000 Lines Data Set \n",
        "#Select the first 20 columns as features \n",
        "X=df.iloc[:,0:20]\n",
        "#Slecte the 42 as targets \n",
        "y1=df.iloc[:,20:30]\n",
        "y2=df.iloc[:,30:31]"
      ],
      "id": "3-b5VwCb2EE5",
      "execution_count": 42,
      "outputs": []
    },
    {
      "cell_type": "code",
      "metadata": {
        "colab": {
          "base_uri": "https://localhost:8080/"
        },
        "id": "-SnhQtav2Zuj",
        "outputId": "d96736e0-8731-4058-969a-47ccbf0f793a"
      },
      "source": [
        "X, y2, y1"
      ],
      "id": "-SnhQtav2Zuj",
      "execution_count": 43,
      "outputs": [
        {
          "output_type": "execute_result",
          "data": {
            "text/plain": [
              "(             dur  sbytes   dbytes  ...  trans_depth  res_bdy_len        Sjit\n",
              " 0       0.036133     528      304  ...            0            0    9.891010\n",
              " 1       0.001119     146      178  ...            0            0    0.000000\n",
              " 2       0.001209     132      164  ...            0            0    0.000000\n",
              " 3       0.001169     146      178  ...            0            0    0.000000\n",
              " 4       0.078339     568      312  ...            0            0   29.682221\n",
              " ...          ...     ...      ...  ...          ...          ...         ...\n",
              " 699995  0.020383     320     1874  ...            0            0  212.810729\n",
              " 699996  1.402957   19410  1087890  ...            1         3924  203.808900\n",
              " 699997  0.007108    2158     2464  ...            0            0   17.627831\n",
              " 699998  0.004435     568      304  ...            0            0    1.638604\n",
              " 699999  0.072974    4238    60788  ...            0            0   62.045310\n",
              " \n",
              " [700000 rows x 20 columns],         Label\n",
              " 0           0\n",
              " 1           0\n",
              " 2           0\n",
              " 3           0\n",
              " 4           0\n",
              " ...       ...\n",
              " 699995      0\n",
              " 699996      0\n",
              " 699997      0\n",
              " 699998      0\n",
              " 699999      0\n",
              " \n",
              " [700000 rows x 1 columns],         Normal   Fuzzers  Analysis  ...  Reconnaissance  Shellcode  Worms\n",
              " 0            1         0         0  ...               0          0      0\n",
              " 1            1         0         0  ...               0          0      0\n",
              " 2            1         0         0  ...               0          0      0\n",
              " 3            1         0         0  ...               0          0      0\n",
              " 4            1         0         0  ...               0          0      0\n",
              " ...        ...       ...       ...  ...             ...        ...    ...\n",
              " 699995       1         0         0  ...               0          0      0\n",
              " 699996       1         0         0  ...               0          0      0\n",
              " 699997       1         0         0  ...               0          0      0\n",
              " 699998       1         0         0  ...               0          0      0\n",
              " 699999       1         0         0  ...               0          0      0\n",
              " \n",
              " [700000 rows x 10 columns])"
            ]
          },
          "metadata": {
            "tags": []
          },
          "execution_count": 43
        }
      ]
    },
    {
      "cell_type": "code",
      "metadata": {
        "id": "0I5l52le1SxC"
      },
      "source": [
        "import sklearn\n",
        "from sklearn.decomposition import PCA\n",
        "from sklearn.preprocessing import StandardScaler\n",
        "from sklearn.neighbors import KNeighborsClassifier\n",
        "from sklearn.metrics import accuracy_score\n",
        "from sklearn.metrics import classification_report\n",
        "from sklearn.metrics import confusion_matrix\n",
        "import sklearn.metrics as metrics\n",
        "from sklearn.model_selection import train_test_split\n",
        "knn_2= KNeighborsClassifier(n_neighbors=2)"
      ],
      "id": "0I5l52le1SxC",
      "execution_count": 44,
      "outputs": []
    },
    {
      "cell_type": "code",
      "metadata": {
        "id": "ZvyfJ75w1S-L"
      },
      "source": [
        "X_train, X_test, y_train, y_test=train_test_split(X, y2, random_state=0)"
      ],
      "id": "ZvyfJ75w1S-L",
      "execution_count": 46,
      "outputs": []
    },
    {
      "cell_type": "code",
      "metadata": {
        "colab": {
          "base_uri": "https://localhost:8080/"
        },
        "id": "pITyyOMQ5f21",
        "outputId": "cc1742a8-1dfc-4338-f50f-7c027c96e4c8"
      },
      "source": [
        "knn_2.fit(X_train, y_train)\n",
        "y_pred=knn_2.predict(X_test)\n",
        "print(accuracy_score(y_test, y_pred))\n",
        "#print(\"Test set predictions:\\n\", y_pred)\n",
        "#print(\"Test score:{:.4f}\".format(np.mean([y_pred==y_test])))\n",
        "print(classification_report(y_test, y_pred))\n",
        "print(confusion_matrix(y_test, y_pred))"
      ],
      "id": "pITyyOMQ5f21",
      "execution_count": 278,
      "outputs": [
        {
          "output_type": "stream",
          "text": [
            "/usr/local/lib/python3.7/dist-packages/ipykernel_launcher.py:1: DataConversionWarning: A column-vector y was passed when a 1d array was expected. Please change the shape of y to (n_samples, ), for example using ravel().\n",
            "  \"\"\"Entry point for launching an IPython kernel.\n"
          ],
          "name": "stderr"
        },
        {
          "output_type": "stream",
          "text": [
            "0.9947771428571428\n",
            "              precision    recall  f1-score   support\n",
            "\n",
            "           0       1.00      1.00      1.00    173619\n",
            "           1       0.78      0.47      0.59      1381\n",
            "\n",
            "    accuracy                           0.99    175000\n",
            "   macro avg       0.89      0.73      0.79    175000\n",
            "weighted avg       0.99      0.99      0.99    175000\n",
            "\n",
            "[[173440    179]\n",
            " [   735    646]]\n"
          ],
          "name": "stdout"
        }
      ]
    },
    {
      "cell_type": "code",
      "metadata": {
        "id": "IbMH8x3e_H2J"
      },
      "source": [
        ""
      ],
      "id": "IbMH8x3e_H2J",
      "execution_count": null,
      "outputs": []
    },
    {
      "cell_type": "markdown",
      "metadata": {
        "id": "X678yN3A_JUJ"
      },
      "source": [
        "# MUltiCategory Classficiation"
      ],
      "id": "X678yN3A_JUJ"
    },
    {
      "cell_type": "code",
      "metadata": {
        "id": "cnISge4r_GwB"
      },
      "source": [
        "from mlxtend.feature_selection import SequentialFeatureSelector as SFS\n",
        "from sklearn.linear_model import LinearRegression\n",
        "import pandas as pd\n",
        "import numpy as np\n",
        "import matplotlib.pyplot as plt\n",
        "import sklearn\n",
        "from sklearn.decomposition import PCA\n",
        "from sklearn.preprocessing import StandardScaler\n",
        "from sklearn.neighbors import KNeighborsClassifier\n",
        "from sklearn.metrics import accuracy_score\n",
        "from sklearn.metrics import classification_report\n",
        "from sklearn.metrics import confusion_matrix\n",
        "import sklearn.metrics as metrics\n",
        "knn = KNeighborsClassifier(n_neighbors=10)"
      ],
      "id": "cnISge4r_GwB",
      "execution_count": 184,
      "outputs": []
    },
    {
      "cell_type": "code",
      "metadata": {
        "colab": {
          "base_uri": "https://localhost:8080/"
        },
        "id": "zSdQYorI8wbX",
        "outputId": "52ae645f-1277-4682-a569-64141a757834"
      },
      "source": [
        "y1.shape"
      ],
      "id": "zSdQYorI8wbX",
      "execution_count": 185,
      "outputs": [
        {
          "output_type": "execute_result",
          "data": {
            "text/plain": [
              "(700000, 10)"
            ]
          },
          "metadata": {
            "tags": []
          },
          "execution_count": 185
        }
      ]
    },
    {
      "cell_type": "code",
      "metadata": {
        "id": "St1-JQ7_-B2n"
      },
      "source": [
        "X=np.array(X)\n"
      ],
      "id": "St1-JQ7_-B2n",
      "execution_count": 186,
      "outputs": []
    },
    {
      "cell_type": "code",
      "metadata": {
        "id": "HD2pNLx-_jfj"
      },
      "source": [
        "#Standardizing the features\n",
        "X=StandardScaler().fit_transform(X)\n"
      ],
      "id": "HD2pNLx-_jfj",
      "execution_count": 187,
      "outputs": []
    },
    {
      "cell_type": "code",
      "metadata": {
        "id": "UQVtVX5l6yF1"
      },
      "source": [
        "X_train, X_test, y1_train, y1_test=train_test_split(X, y1, random_state=0)"
      ],
      "id": "UQVtVX5l6yF1",
      "execution_count": 188,
      "outputs": []
    },
    {
      "cell_type": "code",
      "metadata": {
        "colab": {
          "base_uri": "https://localhost:8080/"
        },
        "id": "qydkh98mBCg5",
        "outputId": "da6d430d-c094-4282-f344-8e9cd9672919"
      },
      "source": [
        "knn.fit(X_train, y1_train)"
      ],
      "id": "qydkh98mBCg5",
      "execution_count": 189,
      "outputs": [
        {
          "output_type": "execute_result",
          "data": {
            "text/plain": [
              "KNeighborsClassifier(algorithm='auto', leaf_size=30, metric='minkowski',\n",
              "                     metric_params=None, n_jobs=None, n_neighbors=10, p=2,\n",
              "                     weights='uniform')"
            ]
          },
          "metadata": {
            "tags": []
          },
          "execution_count": 189
        }
      ]
    },
    {
      "cell_type": "code",
      "metadata": {
        "colab": {
          "base_uri": "https://localhost:8080/"
        },
        "id": "RfF3dhv16ySL",
        "outputId": "9dea625f-5789-4886-d006-c2cf70931674"
      },
      "source": [
        "#knn_1.fit(X_train, y1_train)\n",
        "y1_pred=knn.predict(X_test)\n",
        "#print(accuracy_score(y1_test, y1_pred))\n",
        "print(\"Test set predictions:\\n\", y_pred)\n",
        "print(\"Test score:{:.4f}\".format(np.mean([y1_pred==y1_test])))\n",
        "print(classification_report(y1_test, y1_pred))\n",
        "#print(confusion_matrix(y1_test, y1_pred))"
      ],
      "id": "RfF3dhv16ySL",
      "execution_count": 190,
      "outputs": [
        {
          "output_type": "stream",
          "text": [
            "Test set predictions:\n",
            " [0 0 0 ... 0 0 0]\n",
            "Test score:0.9977\n",
            "              precision    recall  f1-score   support\n",
            "\n",
            "           0       1.00      1.00      1.00    169339\n",
            "           1       0.56      0.21      0.31      1354\n",
            "           2       0.00      0.00      0.00       139\n",
            "           3       0.00      0.00      0.00       133\n",
            "           4       0.44      0.04      0.07       278\n",
            "           5       0.82      0.50      0.62      1381\n",
            "           6       0.99      0.93      0.96      1875\n",
            "           7       0.81      0.52      0.63       438\n",
            "           8       0.00      0.00      0.00        57\n",
            "           9       0.00      0.00      0.00         6\n",
            "\n",
            "   micro avg       1.00      0.98      0.99    175000\n",
            "   macro avg       0.46      0.32      0.36    175000\n",
            "weighted avg       0.99      0.98      0.98    175000\n",
            " samples avg       0.98      0.98      0.98    175000\n",
            "\n"
          ],
          "name": "stdout"
        },
        {
          "output_type": "stream",
          "text": [
            "/usr/local/lib/python3.7/dist-packages/sklearn/metrics/_classification.py:1272: UndefinedMetricWarning: Precision and F-score are ill-defined and being set to 0.0 in labels with no predicted samples. Use `zero_division` parameter to control this behavior.\n",
            "  _warn_prf(average, modifier, msg_start, len(result))\n",
            "/usr/local/lib/python3.7/dist-packages/sklearn/metrics/_classification.py:1272: UndefinedMetricWarning: Precision and F-score are ill-defined and being set to 0.0 in samples with no predicted labels. Use `zero_division` parameter to control this behavior.\n",
            "  _warn_prf(average, modifier, msg_start, len(result))\n"
          ],
          "name": "stderr"
        }
      ]
    },
    {
      "cell_type": "code",
      "metadata": {
        "id": "cOQ3k0TU-J6T"
      },
      "source": [
        ""
      ],
      "id": "cOQ3k0TU-J6T",
      "execution_count": null,
      "outputs": []
    },
    {
      "cell_type": "markdown",
      "metadata": {
        "id": "3UfcjI31F99Y"
      },
      "source": [
        "# 15, 12, 10, 9, 8, 5 Feature Dataset KNN Test "
      ],
      "id": "3UfcjI31F99Y"
    },
    {
      "cell_type": "code",
      "metadata": {
        "id": "lL_XnKqnGC_Y"
      },
      "source": [
        "data_15=data_20.drop(['sloss','Sload','Dpkts','swin','dmeansz'],axis=1)"
      ],
      "id": "lL_XnKqnGC_Y",
      "execution_count": 191,
      "outputs": []
    },
    {
      "cell_type": "code",
      "metadata": {
        "colab": {
          "base_uri": "https://localhost:8080/"
        },
        "id": "UD8dKGLvG27a",
        "outputId": "b0bb2d5e-c76b-4994-83c5-8c2532a1d706"
      },
      "source": [
        "data_15.columns"
      ],
      "id": "UD8dKGLvG27a",
      "execution_count": 201,
      "outputs": [
        {
          "output_type": "execute_result",
          "data": {
            "text/plain": [
              "Index(['Unnamed: 0', 'dur', 'sbytes', 'dbytes', 'sttl', 'dttl', 'dloss',\n",
              "       'Dload', 'Spkts', 'dwin', 'stcpb', 'dtcpb', 'smeansz', 'trans_depth',\n",
              "       'res_bdy_len', 'Sjit', 'Normal', ' Fuzzers', 'Analysis', 'Backdoors',\n",
              "       'DoS', 'Exploits', 'Generic', 'Reconnaissance', 'Shellcode', 'Worms',\n",
              "       'Label'],\n",
              "      dtype='object')"
            ]
          },
          "metadata": {
            "tags": []
          },
          "execution_count": 201
        }
      ]
    },
    {
      "cell_type": "code",
      "metadata": {
        "id": "EJTDbAapG6eO"
      },
      "source": [
        "data_15=data_15.drop(['Unnamed: 0'],axis=1)"
      ],
      "id": "EJTDbAapG6eO",
      "execution_count": 202,
      "outputs": []
    },
    {
      "cell_type": "code",
      "metadata": {
        "id": "R0akTgi4HDJC"
      },
      "source": [
        "data_15=data_15.to_csv('/content/gdrive/MyDrive/ConferenceGriffith/UNSW-NB15_1NN_15F_OneHot.csv')"
      ],
      "id": "R0akTgi4HDJC",
      "execution_count": 203,
      "outputs": []
    },
    {
      "cell_type": "code",
      "metadata": {
        "id": "cyR6UVeCHVZm"
      },
      "source": [
        "data_15=pd.read_csv('/content/gdrive/MyDrive/ConferenceGriffith/UNSW-NB15_1NN_15F_OneHot.csv',low_memory=False)"
      ],
      "id": "cyR6UVeCHVZm",
      "execution_count": 47,
      "outputs": []
    },
    {
      "cell_type": "code",
      "metadata": {
        "colab": {
          "base_uri": "https://localhost:8080/"
        },
        "id": "3uHQNFnnHfiy",
        "outputId": "50c23e42-0fd7-47d4-8f86-b2f2893995a8"
      },
      "source": [
        "data_15.columns"
      ],
      "id": "3uHQNFnnHfiy",
      "execution_count": 48,
      "outputs": [
        {
          "output_type": "execute_result",
          "data": {
            "text/plain": [
              "Index(['Unnamed: 0', 'dur', 'sbytes', 'dbytes', 'sttl', 'dttl', 'dloss',\n",
              "       'Dload', 'Spkts', 'dwin', 'stcpb', 'dtcpb', 'smeansz', 'trans_depth',\n",
              "       'res_bdy_len', 'Sjit', 'Normal', ' Fuzzers', 'Analysis', 'Backdoors',\n",
              "       'DoS', 'Exploits', 'Generic', 'Reconnaissance', 'Shellcode', 'Worms',\n",
              "       'Label'],\n",
              "      dtype='object')"
            ]
          },
          "metadata": {
            "tags": []
          },
          "execution_count": 48
        }
      ]
    },
    {
      "cell_type": "code",
      "metadata": {
        "id": "DWnFJ_JUH_Cc"
      },
      "source": [
        "data_15=data_15.drop(['Unnamed: 0'],axis=1)"
      ],
      "id": "DWnFJ_JUH_Cc",
      "execution_count": 49,
      "outputs": []
    },
    {
      "cell_type": "code",
      "metadata": {
        "colab": {
          "base_uri": "https://localhost:8080/"
        },
        "id": "3LBN40GJHkFa",
        "outputId": "24e078eb-b8c4-444d-f65b-e18d1e303bb1"
      },
      "source": [
        "data_15.columns"
      ],
      "id": "3LBN40GJHkFa",
      "execution_count": 50,
      "outputs": [
        {
          "output_type": "execute_result",
          "data": {
            "text/plain": [
              "Index(['dur', 'sbytes', 'dbytes', 'sttl', 'dttl', 'dloss', 'Dload', 'Spkts',\n",
              "       'dwin', 'stcpb', 'dtcpb', 'smeansz', 'trans_depth', 'res_bdy_len',\n",
              "       'Sjit', 'Normal', ' Fuzzers', 'Analysis', 'Backdoors', 'DoS',\n",
              "       'Exploits', 'Generic', 'Reconnaissance', 'Shellcode', 'Worms', 'Label'],\n",
              "      dtype='object')"
            ]
          },
          "metadata": {
            "tags": []
          },
          "execution_count": 50
        }
      ]
    },
    {
      "cell_type": "code",
      "metadata": {
        "id": "Ra0mFvCzICWc"
      },
      "source": [
        "data_12=data_15.drop(['sttl','Spkts','dwin'],axis=1)"
      ],
      "id": "Ra0mFvCzICWc",
      "execution_count": 208,
      "outputs": []
    },
    {
      "cell_type": "code",
      "metadata": {
        "id": "RcZ8MyWwIdMA"
      },
      "source": [
        "data_12=data_12.to_csv('/content/gdrive/MyDrive/ConferenceGriffith/UNSW-NB15_1NN_12F_OneHot.csv')"
      ],
      "id": "RcZ8MyWwIdMA",
      "execution_count": 209,
      "outputs": []
    },
    {
      "cell_type": "code",
      "metadata": {
        "id": "M7SQthByIlII"
      },
      "source": [
        "data_12=pd.read_csv('/content/gdrive/MyDrive/ConferenceGriffith/UNSW-NB15_1NN_12F_OneHot.csv',low_memory=False)"
      ],
      "id": "M7SQthByIlII",
      "execution_count": 51,
      "outputs": []
    },
    {
      "cell_type": "code",
      "metadata": {
        "colab": {
          "base_uri": "https://localhost:8080/"
        },
        "id": "WzDM2HL_Ir0R",
        "outputId": "ed9ecb9c-3627-41e6-f06c-08b396cd7757"
      },
      "source": [
        "data_12.columns"
      ],
      "id": "WzDM2HL_Ir0R",
      "execution_count": 52,
      "outputs": [
        {
          "output_type": "execute_result",
          "data": {
            "text/plain": [
              "Index(['Unnamed: 0', 'dur', 'sbytes', 'dbytes', 'dttl', 'dloss', 'Dload',\n",
              "       'stcpb', 'dtcpb', 'smeansz', 'trans_depth', 'res_bdy_len', 'Sjit',\n",
              "       'Normal', ' Fuzzers', 'Analysis', 'Backdoors', 'DoS', 'Exploits',\n",
              "       'Generic', 'Reconnaissance', 'Shellcode', 'Worms', 'Label'],\n",
              "      dtype='object')"
            ]
          },
          "metadata": {
            "tags": []
          },
          "execution_count": 52
        }
      ]
    },
    {
      "cell_type": "code",
      "metadata": {
        "id": "GygKt_FMI0tJ"
      },
      "source": [
        "data_12=data_12.drop(['Unnamed: 0'],axis=1)"
      ],
      "id": "GygKt_FMI0tJ",
      "execution_count": 53,
      "outputs": []
    },
    {
      "cell_type": "code",
      "metadata": {
        "id": "DKrpjaDvI6Mj"
      },
      "source": [
        "data_10=data_12.drop(['stcpb','dtcpb'],axis=1)"
      ],
      "id": "DKrpjaDvI6Mj",
      "execution_count": 54,
      "outputs": []
    },
    {
      "cell_type": "code",
      "metadata": {
        "id": "ziUGMKedJMjM"
      },
      "source": [
        "data_10=data_10.to_csv('/content/gdrive/MyDrive/ConferenceGriffith/UNSW-NB15_1NN_10F_OneHot.csv')"
      ],
      "id": "ziUGMKedJMjM",
      "execution_count": 214,
      "outputs": []
    },
    {
      "cell_type": "code",
      "metadata": {
        "id": "RU_aJspQJcCW"
      },
      "source": [
        "data_10=pd.read_csv('/content/gdrive/MyDrive/ConferenceGriffith/UNSW-NB15_1NN_10F_OneHot.csv',low_memory=False)"
      ],
      "id": "RU_aJspQJcCW",
      "execution_count": 55,
      "outputs": []
    },
    {
      "cell_type": "code",
      "metadata": {
        "colab": {
          "base_uri": "https://localhost:8080/"
        },
        "id": "7VCGM7SHJj1-",
        "outputId": "ebf4868f-446e-4784-8b8b-f823328cc5ed"
      },
      "source": [
        "data_10.columns"
      ],
      "id": "7VCGM7SHJj1-",
      "execution_count": 56,
      "outputs": [
        {
          "output_type": "execute_result",
          "data": {
            "text/plain": [
              "Index(['Unnamed: 0', 'dur', 'sbytes', 'dbytes', 'dttl', 'dloss', 'Dload',\n",
              "       'smeansz', 'trans_depth', 'res_bdy_len', 'Sjit', 'Normal', ' Fuzzers',\n",
              "       'Analysis', 'Backdoors', 'DoS', 'Exploits', 'Generic', 'Reconnaissance',\n",
              "       'Shellcode', 'Worms', 'Label'],\n",
              "      dtype='object')"
            ]
          },
          "metadata": {
            "tags": []
          },
          "execution_count": 56
        }
      ]
    },
    {
      "cell_type": "code",
      "metadata": {
        "id": "znYkSBThJmIw"
      },
      "source": [
        "data_10=data_10.drop(['Unnamed: 0'],axis=1)"
      ],
      "id": "znYkSBThJmIw",
      "execution_count": 57,
      "outputs": []
    },
    {
      "cell_type": "code",
      "metadata": {
        "id": "bIsp5EUoJqug"
      },
      "source": [
        "data_9=data_10.drop(['sbytes'],axis=1)"
      ],
      "id": "bIsp5EUoJqug",
      "execution_count": 58,
      "outputs": []
    },
    {
      "cell_type": "code",
      "metadata": {
        "id": "KvjB2OnOJ9MZ"
      },
      "source": [
        "data_9=data_9.to_csv('/content/gdrive/MyDrive/ConferenceGriffith/UNSW-NB15_1NN_9F_OneHot.csv')"
      ],
      "id": "KvjB2OnOJ9MZ",
      "execution_count": 220,
      "outputs": []
    },
    {
      "cell_type": "code",
      "metadata": {
        "id": "tsU1-H-BKIcD"
      },
      "source": [
        "data_9=pd.read_csv('/content/gdrive/MyDrive/ConferenceGriffith/UNSW-NB15_1NN_9F_OneHot.csv',low_memory=False)"
      ],
      "id": "tsU1-H-BKIcD",
      "execution_count": 59,
      "outputs": []
    },
    {
      "cell_type": "code",
      "metadata": {
        "colab": {
          "base_uri": "https://localhost:8080/"
        },
        "id": "oNewSO-vKO0j",
        "outputId": "eeda7179-1a19-4d2d-b5ee-0a801ffcb1ff"
      },
      "source": [
        "data_9.columns"
      ],
      "id": "oNewSO-vKO0j",
      "execution_count": 60,
      "outputs": [
        {
          "output_type": "execute_result",
          "data": {
            "text/plain": [
              "Index(['Unnamed: 0', 'dur', 'dbytes', 'dttl', 'dloss', 'Dload', 'smeansz',\n",
              "       'trans_depth', 'res_bdy_len', 'Sjit', 'Normal', ' Fuzzers', 'Analysis',\n",
              "       'Backdoors', 'DoS', 'Exploits', 'Generic', 'Reconnaissance',\n",
              "       'Shellcode', 'Worms', 'Label'],\n",
              "      dtype='object')"
            ]
          },
          "metadata": {
            "tags": []
          },
          "execution_count": 60
        }
      ]
    },
    {
      "cell_type": "code",
      "metadata": {
        "id": "DY1UyA4WKSFc"
      },
      "source": [
        "data_9=data_9.drop(['Unnamed: 0'],axis=1)"
      ],
      "id": "DY1UyA4WKSFc",
      "execution_count": 61,
      "outputs": []
    },
    {
      "cell_type": "code",
      "metadata": {
        "id": "hXGLqxz-KXlM"
      },
      "source": [
        "data_8=data_9.drop(['Sjit'],axis=1)"
      ],
      "id": "hXGLqxz-KXlM",
      "execution_count": 62,
      "outputs": []
    },
    {
      "cell_type": "code",
      "metadata": {
        "id": "fxRjY4gLKivl"
      },
      "source": [
        "data_8=data_8.to_csv('/content/gdrive/MyDrive/ConferenceGriffith/UNSW-NB15_1NN_8F_OneHot.csv')"
      ],
      "id": "fxRjY4gLKivl",
      "execution_count": 225,
      "outputs": []
    },
    {
      "cell_type": "code",
      "metadata": {
        "id": "T__uOZdZKpgd"
      },
      "source": [
        "data_8=pd.read_csv('/content/gdrive/MyDrive/ConferenceGriffith/UNSW-NB15_1NN_8F_OneHot.csv',low_memory=False)"
      ],
      "id": "T__uOZdZKpgd",
      "execution_count": 63,
      "outputs": []
    },
    {
      "cell_type": "code",
      "metadata": {
        "colab": {
          "base_uri": "https://localhost:8080/"
        },
        "id": "CqgP8TovKw1n",
        "outputId": "e58baa5b-5773-49ec-8acc-842df335a495"
      },
      "source": [
        "data_8.columns"
      ],
      "id": "CqgP8TovKw1n",
      "execution_count": 64,
      "outputs": [
        {
          "output_type": "execute_result",
          "data": {
            "text/plain": [
              "Index(['Unnamed: 0', 'dur', 'dbytes', 'dttl', 'dloss', 'Dload', 'smeansz',\n",
              "       'trans_depth', 'res_bdy_len', 'Normal', ' Fuzzers', 'Analysis',\n",
              "       'Backdoors', 'DoS', 'Exploits', 'Generic', 'Reconnaissance',\n",
              "       'Shellcode', 'Worms', 'Label'],\n",
              "      dtype='object')"
            ]
          },
          "metadata": {
            "tags": []
          },
          "execution_count": 64
        }
      ]
    },
    {
      "cell_type": "code",
      "metadata": {
        "id": "7qRZ_oeDK0I2"
      },
      "source": [
        "data_8=data_8.drop(['Unnamed: 0'],axis=1)"
      ],
      "id": "7qRZ_oeDK0I2",
      "execution_count": 65,
      "outputs": []
    },
    {
      "cell_type": "code",
      "metadata": {
        "id": "drXjQyxXK5nm"
      },
      "source": [
        "data_5=data_8.drop(['dttl','trans_depth', 'res_bdy_len'],axis=1)"
      ],
      "id": "drXjQyxXK5nm",
      "execution_count": 229,
      "outputs": []
    },
    {
      "cell_type": "code",
      "metadata": {
        "id": "kBFdOdrkLWii"
      },
      "source": [
        "data_5=data_5.to_csv('/content/gdrive/MyDrive/ConferenceGriffith/UNSW-NB15_1NN_5F_OneHot.csv')"
      ],
      "id": "kBFdOdrkLWii",
      "execution_count": 231,
      "outputs": []
    },
    {
      "cell_type": "code",
      "metadata": {
        "id": "xx8g0TYDLZdi"
      },
      "source": [
        "data_5=pd.read_csv('/content/gdrive/MyDrive/ConferenceGriffith/UNSW-NB15_1NN_5F_OneHot.csv',low_memory=False)"
      ],
      "id": "xx8g0TYDLZdi",
      "execution_count": 66,
      "outputs": []
    },
    {
      "cell_type": "code",
      "metadata": {
        "colab": {
          "base_uri": "https://localhost:8080/"
        },
        "id": "ALb2UHNDLndC",
        "outputId": "c4d6cb15-6f52-4f14-f211-830a510811df"
      },
      "source": [
        "data_5.columns"
      ],
      "id": "ALb2UHNDLndC",
      "execution_count": 67,
      "outputs": [
        {
          "output_type": "execute_result",
          "data": {
            "text/plain": [
              "Index(['Unnamed: 0', 'dur', 'dbytes', 'dloss', 'Dload', 'smeansz', 'Normal',\n",
              "       ' Fuzzers', 'Analysis', 'Backdoors', 'DoS', 'Exploits', 'Generic',\n",
              "       'Reconnaissance', 'Shellcode', 'Worms', 'Label'],\n",
              "      dtype='object')"
            ]
          },
          "metadata": {
            "tags": []
          },
          "execution_count": 67
        }
      ]
    },
    {
      "cell_type": "code",
      "metadata": {
        "id": "bwtyjvU7LtkM"
      },
      "source": [
        "data_5=data_5.drop(['Unnamed: 0'],axis=1)"
      ],
      "id": "bwtyjvU7LtkM",
      "execution_count": 68,
      "outputs": []
    },
    {
      "cell_type": "code",
      "metadata": {
        "id": "Jo8rVCOkLyI8"
      },
      "source": [
        "#700000 Lines Data Set  for 15 features\n",
        "#Select the first 20 columns as features \n",
        "X_15=data_15.iloc[:,0:15]\n",
        "#Slecte the 42 as targets \n",
        "y_15_1=data_15.iloc[:,15:25]\n",
        "y_15_2=data_15.iloc[:,25:26]"
      ],
      "id": "Jo8rVCOkLyI8",
      "execution_count": 69,
      "outputs": []
    },
    {
      "cell_type": "code",
      "metadata": {
        "colab": {
          "base_uri": "https://localhost:8080/"
        },
        "id": "pe3QCa2dMcFb",
        "outputId": "27cad40f-47a7-4ff7-b1fb-1720113ff621"
      },
      "source": [
        "X_15.columns"
      ],
      "id": "pe3QCa2dMcFb",
      "execution_count": 70,
      "outputs": [
        {
          "output_type": "execute_result",
          "data": {
            "text/plain": [
              "Index(['dur', 'sbytes', 'dbytes', 'sttl', 'dttl', 'dloss', 'Dload', 'Spkts',\n",
              "       'dwin', 'stcpb', 'dtcpb', 'smeansz', 'trans_depth', 'res_bdy_len',\n",
              "       'Sjit'],\n",
              "      dtype='object')"
            ]
          },
          "metadata": {
            "tags": []
          },
          "execution_count": 70
        }
      ]
    },
    {
      "cell_type": "code",
      "metadata": {
        "colab": {
          "base_uri": "https://localhost:8080/"
        },
        "id": "DVPLvHN0MsCg",
        "outputId": "f6e578d5-733f-48e9-d774-d73cfc439cb3"
      },
      "source": [
        "y_15_1.columns"
      ],
      "id": "DVPLvHN0MsCg",
      "execution_count": 71,
      "outputs": [
        {
          "output_type": "execute_result",
          "data": {
            "text/plain": [
              "Index(['Normal', ' Fuzzers', 'Analysis', 'Backdoors', 'DoS', 'Exploits',\n",
              "       'Generic', 'Reconnaissance', 'Shellcode', 'Worms'],\n",
              "      dtype='object')"
            ]
          },
          "metadata": {
            "tags": []
          },
          "execution_count": 71
        }
      ]
    },
    {
      "cell_type": "code",
      "metadata": {
        "colab": {
          "base_uri": "https://localhost:8080/"
        },
        "id": "Z6fzdoHjMyMI",
        "outputId": "c97331f7-9313-4da3-cef5-9ea6f7b8a005"
      },
      "source": [
        "y_15_2.columns"
      ],
      "id": "Z6fzdoHjMyMI",
      "execution_count": 72,
      "outputs": [
        {
          "output_type": "execute_result",
          "data": {
            "text/plain": [
              "Index(['Label'], dtype='object')"
            ]
          },
          "metadata": {
            "tags": []
          },
          "execution_count": 72
        }
      ]
    },
    {
      "cell_type": "code",
      "metadata": {
        "id": "6uO3JsjvNDHK"
      },
      "source": [
        "#700000 Lines Data Set  for 12 features\n",
        "#Select the first 12 columns as features \n",
        "X_12=data_12.iloc[:,0:12]\n",
        "#Slecte the 42 as targets \n",
        "y_12_1=data_12.iloc[:,12:22]\n",
        "y_12_2=data_12.iloc[:,22:23]"
      ],
      "id": "6uO3JsjvNDHK",
      "execution_count": 73,
      "outputs": []
    },
    {
      "cell_type": "code",
      "metadata": {
        "id": "VY6A47ceNaQj"
      },
      "source": [
        "#700000 Lines Data Set  for 10 features\n",
        "#Select the first 10 columns as features \n",
        "X_10=data_10.iloc[:,0:10]\n",
        "#Slecte the 42 as targets \n",
        "y_10_1=data_10.iloc[:,10:20]\n",
        "y_10_2=data_10.iloc[:,20:21]"
      ],
      "id": "VY6A47ceNaQj",
      "execution_count": 74,
      "outputs": []
    },
    {
      "cell_type": "code",
      "metadata": {
        "id": "cjfJQAlUNe28"
      },
      "source": [
        "#700000 Lines Data Set  for 9 features\n",
        "#Select the first 9 columns as features \n",
        "X_9=data_9.iloc[:,0:9]\n",
        "#Slecte the 42 as targets \n",
        "y_9_1=data_9.iloc[:,9:19]\n",
        "y_9_2=data_9.iloc[:,19:20]"
      ],
      "id": "cjfJQAlUNe28",
      "execution_count": 76,
      "outputs": []
    },
    {
      "cell_type": "code",
      "metadata": {
        "id": "eWhHKZUeN9lm"
      },
      "source": [
        "#700000 Lines Data Set  for 8 features\n",
        "#Select the first 8 columns as features \n",
        "X_8=data_8.iloc[:,0:8]\n",
        "#Slecte the 42 as targets \n",
        "y_8_1=data_8.iloc[:,8:18]\n",
        "y_8_2=data_8.iloc[:,18:19]"
      ],
      "id": "eWhHKZUeN9lm",
      "execution_count": 77,
      "outputs": []
    },
    {
      "cell_type": "code",
      "metadata": {
        "id": "hqLemjNhOVng"
      },
      "source": [
        "#700000 Lines Data Set  for 5 features\n",
        "#Select the first 5 columns as features \n",
        "X_5=data_5.iloc[:,0:5]\n",
        "#Slecte the 42 as targets \n",
        "y_5_1=data_5.iloc[:,5:15]\n",
        "y_5_2=data_5.iloc[:,15:16]"
      ],
      "id": "hqLemjNhOVng",
      "execution_count": 78,
      "outputs": []
    },
    {
      "cell_type": "markdown",
      "metadata": {
        "id": "pf9eH7OcPT-p"
      },
      "source": [
        "# KNN Binary Test for different features "
      ],
      "id": "pf9eH7OcPT-p"
    },
    {
      "cell_type": "code",
      "metadata": {
        "id": "BWvelDqpPLF6"
      },
      "source": [
        "import sklearn\n",
        "from sklearn.decomposition import PCA\n",
        "from sklearn.preprocessing import StandardScaler\n",
        "from sklearn.neighbors import KNeighborsClassifier\n",
        "from sklearn.metrics import accuracy_score\n",
        "from sklearn.metrics import classification_report\n",
        "from sklearn.metrics import confusion_matrix\n",
        "import sklearn.metrics as metrics\n",
        "from sklearn.model_selection import train_test_split\n",
        "knn_2= KNeighborsClassifier(n_neighbors=2)"
      ],
      "id": "BWvelDqpPLF6",
      "execution_count": 266,
      "outputs": []
    },
    {
      "cell_type": "code",
      "metadata": {
        "colab": {
          "base_uri": "https://localhost:8080/"
        },
        "id": "6feLY_CoRS1i",
        "outputId": "3e11684c-72a6-4fc1-931c-9d09dbf5bd68"
      },
      "source": [
        "y_15_2.shape"
      ],
      "id": "6feLY_CoRS1i",
      "execution_count": 271,
      "outputs": [
        {
          "output_type": "execute_result",
          "data": {
            "text/plain": [
              "(700000, 1)"
            ]
          },
          "metadata": {
            "tags": []
          },
          "execution_count": 271
        }
      ]
    },
    {
      "cell_type": "code",
      "metadata": {
        "id": "ae3eTS1RQz3v"
      },
      "source": [
        "#Standardizing the features\n",
        "X_15=np.array(X_15)\n",
        "X_15=StandardScaler().fit_transform(X_15)"
      ],
      "id": "ae3eTS1RQz3v",
      "execution_count": 272,
      "outputs": []
    },
    {
      "cell_type": "code",
      "metadata": {
        "colab": {
          "base_uri": "https://localhost:8080/"
        },
        "id": "uHsr2zNqPrb7",
        "outputId": "b709fcd7-441b-4d2e-9be0-62e25137166f"
      },
      "source": [
        "X_15_train, X_15_test, y_15_2_train, y_15_2_test=train_test_split(X_15, y_15_2, random_state=0)\n",
        "knn_2.fit(X_15_train, y_15_2_train)\n",
        "y_15_2_pred=knn_2.predict(X_15_test)\n",
        "print(accuracy_score(y_15_2_test, y_15_2_pred))\n",
        "#print(\"Test set predictions:\\n\", y_pred)\n",
        "#print(\"Test score:{:.4f}\".format(np.mean([y_pred==y_test])))\n",
        "print(classification_report(y_15_2_test, y_15_2_pred))\n",
        "print(confusion_matrix(y_15_2_test, y_15_2_pred))"
      ],
      "id": "uHsr2zNqPrb7",
      "execution_count": 275,
      "outputs": [
        {
          "output_type": "stream",
          "text": [
            "/usr/local/lib/python3.7/dist-packages/ipykernel_launcher.py:2: DataConversionWarning: A column-vector y was passed when a 1d array was expected. Please change the shape of y to (n_samples, ), for example using ravel().\n",
            "  \n"
          ],
          "name": "stderr"
        },
        {
          "output_type": "stream",
          "text": [
            "0.9928514285714286\n",
            "              precision    recall  f1-score   support\n",
            "\n",
            "           0       0.99      1.00      1.00    169339\n",
            "           1       0.94      0.84      0.88      5661\n",
            "\n",
            "    accuracy                           0.99    175000\n",
            "   macro avg       0.97      0.92      0.94    175000\n",
            "weighted avg       0.99      0.99      0.99    175000\n",
            "\n",
            "[[169021    318]\n",
            " [   933   4728]]\n"
          ],
          "name": "stdout"
        }
      ]
    },
    {
      "cell_type": "code",
      "metadata": {
        "colab": {
          "base_uri": "https://localhost:8080/"
        },
        "id": "eCxf1MiCQ9jD",
        "outputId": "509fde60-b096-421a-f18b-d18873b2a5ed"
      },
      "source": [
        "#Standardizing the features\n",
        "X_12=np.array(X_12)\n",
        "X_12=StandardScaler().fit_transform(X_12)\n",
        "\n",
        "X_12_train, X_12_test, y_12_2_train, y_12_2_test=train_test_split(X_12, y_12_2, random_state=0)\n",
        "knn_2.fit(X_12_train, y_12_2_train)\n",
        "y_12_2_pred=knn_2.predict(X_12_test)\n",
        "print(accuracy_score(y_12_2_test, y_12_2_pred))\n",
        "#print(\"Test set predictions:\\n\", y_pred)\n",
        "#print(\"Test score:{:.4f}\".format(np.mean([y_pred==y_test])))\n",
        "print(classification_report(y_12_2_test, y_12_2_pred))\n",
        "print(confusion_matrix(y_12_2_test, y_12_2_pred))"
      ],
      "id": "eCxf1MiCQ9jD",
      "execution_count": 279,
      "outputs": [
        {
          "output_type": "stream",
          "text": [
            "/usr/local/lib/python3.7/dist-packages/ipykernel_launcher.py:6: DataConversionWarning: A column-vector y was passed when a 1d array was expected. Please change the shape of y to (n_samples, ), for example using ravel().\n",
            "  \n"
          ],
          "name": "stderr"
        },
        {
          "output_type": "stream",
          "text": [
            "0.9916228571428571\n",
            "              precision    recall  f1-score   support\n",
            "\n",
            "           0       0.99      1.00      1.00    169339\n",
            "           1       0.94      0.80      0.86      5661\n",
            "\n",
            "    accuracy                           0.99    175000\n",
            "   macro avg       0.96      0.90      0.93    175000\n",
            "weighted avg       0.99      0.99      0.99    175000\n",
            "\n",
            "[[169027    312]\n",
            " [  1154   4507]]\n"
          ],
          "name": "stdout"
        }
      ]
    },
    {
      "cell_type": "code",
      "metadata": {
        "colab": {
          "base_uri": "https://localhost:8080/"
        },
        "id": "VBRnKP_xUEJI",
        "outputId": "863d17d8-60bd-4923-b251-4743fbb9a786"
      },
      "source": [
        "#Standardizing the 10 features\n",
        "X_10=np.array(X_10)\n",
        "X_10=StandardScaler().fit_transform(X_10)\n",
        "\n",
        "X_10_train, X_10_test, y_10_2_train, y_10_2_test=train_test_split(X_10, y_10_2, random_state=0)\n",
        "knn_2.fit(X_10_train, y_10_2_train)\n",
        "y_10_2_pred=knn_2.predict(X_10_test)\n",
        "print(accuracy_score(y_10_2_test, y_10_2_pred))\n",
        "#print(\"Test set predictions:\\n\", y_pred)\n",
        "#print(\"Test score:{:.4f}\".format(np.mean([y_pred==y_test])))\n",
        "print(classification_report(y_10_2_test, y_10_2_pred))\n",
        "print(confusion_matrix(y_10_2_test, y_10_2_pred))"
      ],
      "id": "VBRnKP_xUEJI",
      "execution_count": 280,
      "outputs": [
        {
          "output_type": "stream",
          "text": [
            "/usr/local/lib/python3.7/dist-packages/ipykernel_launcher.py:6: DataConversionWarning: A column-vector y was passed when a 1d array was expected. Please change the shape of y to (n_samples, ), for example using ravel().\n",
            "  \n"
          ],
          "name": "stderr"
        },
        {
          "output_type": "stream",
          "text": [
            "0.9940628571428571\n",
            "              precision    recall  f1-score   support\n",
            "\n",
            "           0       1.00      1.00      1.00    169339\n",
            "           1       0.96      0.86      0.90      5661\n",
            "\n",
            "    accuracy                           0.99    175000\n",
            "   macro avg       0.98      0.93      0.95    175000\n",
            "weighted avg       0.99      0.99      0.99    175000\n",
            "\n",
            "[[169116    223]\n",
            " [   816   4845]]\n"
          ],
          "name": "stdout"
        }
      ]
    },
    {
      "cell_type": "code",
      "metadata": {
        "colab": {
          "base_uri": "https://localhost:8080/"
        },
        "id": "h7SidmEGUEXv",
        "outputId": "1f8ce388-c7bc-4194-cc08-7b0fa233ce9b"
      },
      "source": [
        "#Standardizing the 9 features\n",
        "X_9=np.array(X_9)\n",
        "X_9=StandardScaler().fit_transform(X_9)\n",
        "\n",
        "X_9_train, X_9_test, y_9_2_train, y_9_2_test=train_test_split(X_9, y_9_2, random_state=0)\n",
        "knn_2.fit(X_9_train, y_9_2_train)\n",
        "y_9_2_pred=knn_2.predict(X_9_test)\n",
        "print(accuracy_score(y_9_2_test, y_9_2_pred))\n",
        "#print(\"Test set predictions:\\n\", y_pred)\n",
        "#print(\"Test score:{:.4f}\".format(np.mean([y_pred==y_test])))\n",
        "print(classification_report(y_9_2_test, y_9_2_pred))\n",
        "print(confusion_matrix(y_9_2_test, y_9_2_pred))"
      ],
      "id": "h7SidmEGUEXv",
      "execution_count": 281,
      "outputs": [
        {
          "output_type": "stream",
          "text": [
            "/usr/local/lib/python3.7/dist-packages/ipykernel_launcher.py:6: DataConversionWarning: A column-vector y was passed when a 1d array was expected. Please change the shape of y to (n_samples, ), for example using ravel().\n",
            "  \n"
          ],
          "name": "stderr"
        },
        {
          "output_type": "stream",
          "text": [
            "0.9939314285714286\n",
            "              precision    recall  f1-score   support\n",
            "\n",
            "           0       1.00      1.00      1.00    169339\n",
            "           1       0.96      0.85      0.90      5661\n",
            "\n",
            "    accuracy                           0.99    175000\n",
            "   macro avg       0.98      0.93      0.95    175000\n",
            "weighted avg       0.99      0.99      0.99    175000\n",
            "\n",
            "[[169114    225]\n",
            " [   837   4824]]\n"
          ],
          "name": "stdout"
        }
      ]
    },
    {
      "cell_type": "code",
      "metadata": {
        "colab": {
          "base_uri": "https://localhost:8080/"
        },
        "id": "M-7JF90YUEbY",
        "outputId": "cb3fbe22-65b2-4f96-c5ed-cd5ed4aad433"
      },
      "source": [
        "#Standardizing the 8 features\n",
        "X_8=np.array(X_8)\n",
        "X_8=StandardScaler().fit_transform(X_8)\n",
        "\n",
        "X_8_train, X_8_test, y_8_2_train, y_8_2_test=train_test_split(X_8, y_8_2, random_state=0)\n",
        "knn_2.fit(X_8_train, y_8_2_train)\n",
        "y_8_2_pred=knn_2.predict(X_8_test)\n",
        "print(accuracy_score(y_8_2_test, y_8_2_pred))\n",
        "#print(\"Test set predictions:\\n\", y_pred)\n",
        "#print(\"Test score:{:.4f}\".format(np.mean([y_pred==y_test])))\n",
        "print(classification_report(y_8_2_test, y_8_2_pred))\n",
        "print(confusion_matrix(y_8_2_test, y_8_2_pred))"
      ],
      "id": "M-7JF90YUEbY",
      "execution_count": 284,
      "outputs": [
        {
          "output_type": "stream",
          "text": [
            "/usr/local/lib/python3.7/dist-packages/ipykernel_launcher.py:6: DataConversionWarning: A column-vector y was passed when a 1d array was expected. Please change the shape of y to (n_samples, ), for example using ravel().\n",
            "  \n"
          ],
          "name": "stderr"
        },
        {
          "output_type": "stream",
          "text": [
            "0.9950342857142858\n",
            "              precision    recall  f1-score   support\n",
            "\n",
            "           0       1.00      1.00      1.00    169339\n",
            "           1       0.96      0.88      0.92      5661\n",
            "\n",
            "    accuracy                           1.00    175000\n",
            "   macro avg       0.98      0.94      0.96    175000\n",
            "weighted avg       0.99      1.00      0.99    175000\n",
            "\n",
            "[[169124    215]\n",
            " [   654   5007]]\n"
          ],
          "name": "stdout"
        }
      ]
    },
    {
      "cell_type": "code",
      "metadata": {
        "colab": {
          "base_uri": "https://localhost:8080/"
        },
        "id": "fgskE8Q2UEed",
        "outputId": "96fa19b5-44c1-4966-da38-2e4649ec6c88"
      },
      "source": [
        "#Standardizing the 5 features\n",
        "X_5=np.array(X_5)\n",
        "X_5=StandardScaler().fit_transform(X_5)\n",
        "\n",
        "X_5_train, X_5_test, y_5_2_train, y_5_2_test=train_test_split(X_5, y_5_2, random_state=0)\n",
        "knn_2.fit(X_5_train, y_5_2_train)\n",
        "y_5_2_pred=knn_2.predict(X_5_test)\n",
        "print(accuracy_score(y_5_2_test, y_5_2_pred))\n",
        "#print(\"Test set predictions:\\n\", y_pred)\n",
        "#print(\"Test score:{:.4f}\".format(np.mean([y_pred==y_test])))\n",
        "print(classification_report(y_5_2_test, y_5_2_pred))\n",
        "print(confusion_matrix(y_5_2_test, y_5_2_pred))"
      ],
      "id": "fgskE8Q2UEed",
      "execution_count": 283,
      "outputs": [
        {
          "output_type": "stream",
          "text": [
            "/usr/local/lib/python3.7/dist-packages/ipykernel_launcher.py:6: DataConversionWarning: A column-vector y was passed when a 1d array was expected. Please change the shape of y to (n_samples, ), for example using ravel().\n",
            "  \n"
          ],
          "name": "stderr"
        },
        {
          "output_type": "stream",
          "text": [
            "0.9931314285714286\n",
            "              precision    recall  f1-score   support\n",
            "\n",
            "           0       0.99      1.00      1.00    169339\n",
            "           1       0.95      0.83      0.89      5661\n",
            "\n",
            "    accuracy                           0.99    175000\n",
            "   macro avg       0.97      0.92      0.94    175000\n",
            "weighted avg       0.99      0.99      0.99    175000\n",
            "\n",
            "[[169088    251]\n",
            " [   951   4710]]\n"
          ],
          "name": "stdout"
        }
      ]
    },
    {
      "cell_type": "code",
      "metadata": {
        "id": "CR1WeujnWq6r"
      },
      "source": [
        ""
      ],
      "id": "CR1WeujnWq6r",
      "execution_count": null,
      "outputs": []
    },
    {
      "cell_type": "markdown",
      "metadata": {
        "id": "GI1uCgypWrPB"
      },
      "source": [
        "# Multi Tasks KNN Test "
      ],
      "id": "GI1uCgypWrPB"
    },
    {
      "cell_type": "code",
      "metadata": {
        "colab": {
          "base_uri": "https://localhost:8080/"
        },
        "id": "einVB0NuUEiK",
        "outputId": "88419aef-34d8-484b-90b9-9a17755dbd0c"
      },
      "source": [
        "from mlxtend.feature_selection import SequentialFeatureSelector as SFS\n",
        "from sklearn.linear_model import LinearRegression\n",
        "import pandas as pd\n",
        "import numpy as np\n",
        "import matplotlib.pyplot as plt\n",
        "import sklearn\n",
        "from sklearn.decomposition import PCA\n",
        "from sklearn.preprocessing import StandardScaler\n",
        "from sklearn.neighbors import KNeighborsClassifier\n",
        "from sklearn.metrics import accuracy_score\n",
        "from sklearn.metrics import classification_report\n",
        "from sklearn.metrics import confusion_matrix\n",
        "import sklearn.metrics as metrics\n",
        "knn_1 = KNeighborsClassifier(n_neighbors=10)"
      ],
      "id": "einVB0NuUEiK",
      "execution_count": 79,
      "outputs": [
        {
          "output_type": "stream",
          "text": [
            "/usr/local/lib/python3.7/dist-packages/sklearn/externals/joblib/__init__.py:15: FutureWarning: sklearn.externals.joblib is deprecated in 0.21 and will be removed in 0.23. Please import this functionality directly from joblib, which can be installed with: pip install joblib. If this warning is raised when loading pickled models, you may need to re-serialize those models with scikit-learn 0.21+.\n",
            "  warnings.warn(msg, category=FutureWarning)\n"
          ],
          "name": "stderr"
        }
      ]
    },
    {
      "cell_type": "code",
      "metadata": {
        "colab": {
          "base_uri": "https://localhost:8080/"
        },
        "id": "AD1nLjYzWv-p",
        "outputId": "804f16a0-735e-49c4-fd74-7377bc2f3ada"
      },
      "source": [
        "#Standardizing the 15 features\n",
        "X_15=np.array(X_15)\n",
        "X_15=StandardScaler().fit_transform(X_15)\n",
        "\n",
        "\n",
        "X_15_train, X_15_test, y_15_1_train, y_15_1_test=train_test_split(X_15, y_15_1, random_state=0)\n",
        "knn_1.fit(X_15_train, y_15_1_train)\n",
        "y_15_1_pred=knn_1.predict(X_15_test)\n",
        "\n",
        "#print(accuracy_score(y_15_1_test, y_15_1_pred))\n",
        "print(\"Test set predictions:\\n\", y_15_1_pred)\n",
        "print(\"Test score:{:.4f}\".format(np.mean([y_15_1_pred==y_15_1_test])))\n",
        "print(classification_report(y_15_1_test, y_15_1_pred))\n",
        "#print(confusion_matrix(y1_test, y1_pred))"
      ],
      "id": "AD1nLjYzWv-p",
      "execution_count": 81,
      "outputs": [
        {
          "output_type": "stream",
          "text": [
            "Test set predictions:\n",
            " [[1 0 0 ... 0 0 0]\n",
            " [1 0 0 ... 0 0 0]\n",
            " [1 0 0 ... 0 0 0]\n",
            " ...\n",
            " [1 0 0 ... 0 0 0]\n",
            " [1 0 0 ... 0 0 0]\n",
            " [1 0 0 ... 0 0 0]]\n",
            "Test score:0.9976\n",
            "              precision    recall  f1-score   support\n",
            "\n",
            "           0       1.00      1.00      1.00    169339\n",
            "           1       0.56      0.22      0.31      1354\n",
            "           2       0.00      0.00      0.00       139\n",
            "           3       0.00      0.00      0.00       133\n",
            "           4       0.39      0.05      0.08       278\n",
            "           5       0.77      0.48      0.59      1381\n",
            "           6       1.00      0.93      0.96      1875\n",
            "           7       0.83      0.50      0.63       438\n",
            "           8       0.00      0.00      0.00        57\n",
            "           9       0.00      0.00      0.00         6\n",
            "\n",
            "   micro avg       1.00      0.98      0.99    175000\n",
            "   macro avg       0.46      0.32      0.36    175000\n",
            "weighted avg       0.99      0.98      0.98    175000\n",
            " samples avg       0.98      0.98      0.98    175000\n",
            "\n"
          ],
          "name": "stdout"
        },
        {
          "output_type": "stream",
          "text": [
            "/usr/local/lib/python3.7/dist-packages/sklearn/metrics/_classification.py:1272: UndefinedMetricWarning: Precision and F-score are ill-defined and being set to 0.0 in labels with no predicted samples. Use `zero_division` parameter to control this behavior.\n",
            "  _warn_prf(average, modifier, msg_start, len(result))\n",
            "/usr/local/lib/python3.7/dist-packages/sklearn/metrics/_classification.py:1272: UndefinedMetricWarning: Precision and F-score are ill-defined and being set to 0.0 in samples with no predicted labels. Use `zero_division` parameter to control this behavior.\n",
            "  _warn_prf(average, modifier, msg_start, len(result))\n"
          ],
          "name": "stderr"
        }
      ]
    },
    {
      "cell_type": "code",
      "metadata": {
        "colab": {
          "base_uri": "https://localhost:8080/"
        },
        "id": "_1TUbO1uktMh",
        "outputId": "caec51e2-84bf-4a90-f108-2e68cf2fdb73"
      },
      "source": [
        "#Standardizing the 12 features\n",
        "X_12=np.array(X_12)\n",
        "X_12=StandardScaler().fit_transform(X_12)\n",
        "\n",
        "\n",
        "X_12_train, X_12_test, y_12_1_train, y_12_1_test=train_test_split(X_12, y_12_1, random_state=0)\n",
        "knn_1.fit(X_12_train, y_12_1_train)\n",
        "y_12_1_pred=knn_1.predict(X_12_test)\n",
        "\n",
        "#print(accuracy_score(y_15_1_test, y_15_1_pred))\n",
        "print(\"Test set predictions:\\n\", y_12_1_pred)\n",
        "print(\"Test score:{:.4f}\".format(np.mean([y_12_1_pred==y_12_1_test])))\n",
        "print(classification_report(y_12_1_test, y_12_1_pred))\n",
        "#print(confusion_matrix(y1_test, y1_pred))"
      ],
      "id": "_1TUbO1uktMh",
      "execution_count": 85,
      "outputs": [
        {
          "output_type": "stream",
          "text": [
            "Test set predictions:\n",
            " [[1 0 0 ... 0 0 0]\n",
            " [1 0 0 ... 0 0 0]\n",
            " [1 0 0 ... 0 0 0]\n",
            " ...\n",
            " [1 0 0 ... 0 0 0]\n",
            " [1 0 0 ... 0 0 0]\n",
            " [1 0 0 ... 0 0 0]]\n",
            "Test score:0.9974\n",
            "              precision    recall  f1-score   support\n",
            "\n",
            "           0       1.00      1.00      1.00    169339\n",
            "           1       0.54      0.15      0.24      1354\n",
            "           2       0.00      0.00      0.00       139\n",
            "           3       0.00      0.00      0.00       133\n",
            "           4       0.37      0.03      0.05       278\n",
            "           5       0.70      0.30      0.42      1381\n",
            "           6       1.00      0.93      0.96      1875\n",
            "           7       0.88      0.47      0.61       438\n",
            "           8       0.00      0.00      0.00        57\n",
            "           9       0.00      0.00      0.00         6\n",
            "\n",
            "   micro avg       1.00      0.98      0.99    175000\n",
            "   macro avg       0.45      0.29      0.33    175000\n",
            "weighted avg       0.99      0.98      0.98    175000\n",
            " samples avg       0.98      0.98      0.98    175000\n",
            "\n"
          ],
          "name": "stdout"
        },
        {
          "output_type": "stream",
          "text": [
            "/usr/local/lib/python3.7/dist-packages/sklearn/metrics/_classification.py:1272: UndefinedMetricWarning: Precision and F-score are ill-defined and being set to 0.0 in labels with no predicted samples. Use `zero_division` parameter to control this behavior.\n",
            "  _warn_prf(average, modifier, msg_start, len(result))\n",
            "/usr/local/lib/python3.7/dist-packages/sklearn/metrics/_classification.py:1272: UndefinedMetricWarning: Precision and F-score are ill-defined and being set to 0.0 in samples with no predicted labels. Use `zero_division` parameter to control this behavior.\n",
            "  _warn_prf(average, modifier, msg_start, len(result))\n"
          ],
          "name": "stderr"
        }
      ]
    },
    {
      "cell_type": "code",
      "metadata": {
        "colab": {
          "base_uri": "https://localhost:8080/"
        },
        "id": "-uYDoMGjksdh",
        "outputId": "3eb34171-0965-4699-adb9-8ab237b7aa86"
      },
      "source": [
        "#Standardizing the 10 features\n",
        "X_10=np.array(X_10)\n",
        "X_10=StandardScaler().fit_transform(X_10)\n",
        "\n",
        "\n",
        "X_10_train, X_10_test, y_10_1_train, y_10_1_test=train_test_split(X_10, y_10_1, random_state=0)\n",
        "knn_1.fit(X_10_train, y_10_1_train)\n",
        "y_10_1_pred=knn_1.predict(X_10_test)\n",
        "\n",
        "#print(accuracy_score(y_15_1_test, y_15_1_pred))\n",
        "print(\"Test set predictions:\\n\", y_10_1_pred)\n",
        "print(\"Test score:{:.4f}\".format(np.mean([y_10_1_pred==y_10_1_test])))\n",
        "print(classification_report(y_10_1_test, y_10_1_pred))\n",
        "#print(confusion_matrix(y1_test, y1_pred))"
      ],
      "id": "-uYDoMGjksdh",
      "execution_count": 86,
      "outputs": [
        {
          "output_type": "stream",
          "text": [
            "Test set predictions:\n",
            " [[1 0 0 ... 0 0 0]\n",
            " [1 0 0 ... 0 0 0]\n",
            " [1 0 0 ... 0 0 0]\n",
            " ...\n",
            " [1 0 0 ... 0 0 0]\n",
            " [1 0 0 ... 0 0 0]\n",
            " [1 0 0 ... 0 0 0]]\n",
            "Test score:0.9979\n",
            "              precision    recall  f1-score   support\n",
            "\n",
            "           0       1.00      1.00      1.00    169339\n",
            "           1       0.63      0.32      0.43      1354\n",
            "           2       0.00      0.00      0.00       139\n",
            "           3       0.00      0.00      0.00       133\n",
            "           4       0.44      0.03      0.05       278\n",
            "           5       0.82      0.53      0.64      1381\n",
            "           6       0.99      0.94      0.96      1875\n",
            "           7       0.91      0.78      0.84       438\n",
            "           8       0.00      0.00      0.00        57\n",
            "           9       0.00      0.00      0.00         6\n",
            "\n",
            "   micro avg       1.00      0.98      0.99    175000\n",
            "   macro avg       0.48      0.36      0.39    175000\n",
            "weighted avg       0.99      0.98      0.99    175000\n",
            " samples avg       0.98      0.98      0.98    175000\n",
            "\n"
          ],
          "name": "stdout"
        },
        {
          "output_type": "stream",
          "text": [
            "/usr/local/lib/python3.7/dist-packages/sklearn/metrics/_classification.py:1272: UndefinedMetricWarning: Precision and F-score are ill-defined and being set to 0.0 in labels with no predicted samples. Use `zero_division` parameter to control this behavior.\n",
            "  _warn_prf(average, modifier, msg_start, len(result))\n",
            "/usr/local/lib/python3.7/dist-packages/sklearn/metrics/_classification.py:1272: UndefinedMetricWarning: Precision and F-score are ill-defined and being set to 0.0 in samples with no predicted labels. Use `zero_division` parameter to control this behavior.\n",
            "  _warn_prf(average, modifier, msg_start, len(result))\n"
          ],
          "name": "stderr"
        }
      ]
    },
    {
      "cell_type": "code",
      "metadata": {
        "colab": {
          "base_uri": "https://localhost:8080/"
        },
        "id": "0UitZg7CoECm",
        "outputId": "5b0aa86e-ceca-4b26-be6b-6154e6fd2a8d"
      },
      "source": [
        "#Standardizing the 9 features\n",
        "X_9=np.array(X_9)\n",
        "X_9=StandardScaler().fit_transform(X_9)\n",
        "\n",
        "\n",
        "X_9_train, X_9_test, y_9_1_train, y_9_1_test=train_test_split(X_9, y_9_1, random_state=0)\n",
        "knn_1.fit(X_9_train, y_9_1_train)\n",
        "y_9_1_pred=knn_1.predict(X_9_test)\n",
        "\n",
        "#print(accuracy_score(y_15_1_test, y_15_1_pred))\n",
        "print(\"Test set predictions:\\n\", y_9_1_pred)\n",
        "print(\"Test score:{:.4f}\".format(np.mean([y_9_1_pred==y_9_1_test])))\n",
        "print(classification_report(y_9_1_test, y_9_1_pred))\n",
        "#print(confusion_matrix(y1_test, y1_pred))"
      ],
      "id": "0UitZg7CoECm",
      "execution_count": 87,
      "outputs": [
        {
          "output_type": "stream",
          "text": [
            "Test set predictions:\n",
            " [[1 0 0 ... 0 0 0]\n",
            " [1 0 0 ... 0 0 0]\n",
            " [1 0 0 ... 0 0 0]\n",
            " ...\n",
            " [1 0 0 ... 0 0 0]\n",
            " [1 0 0 ... 0 0 0]\n",
            " [1 0 0 ... 0 0 0]]\n",
            "Test score:0.9979\n",
            "              precision    recall  f1-score   support\n",
            "\n",
            "           0       1.00      1.00      1.00    169339\n",
            "           1       0.62      0.32      0.42      1354\n",
            "           2       0.00      0.00      0.00       139\n",
            "           3       0.00      0.00      0.00       133\n",
            "           4       0.31      0.01      0.03       278\n",
            "           5       0.81      0.53      0.64      1381\n",
            "           6       0.99      0.94      0.96      1875\n",
            "           7       0.91      0.78      0.84       438\n",
            "           8       0.00      0.00      0.00        57\n",
            "           9       0.00      0.00      0.00         6\n",
            "\n",
            "   micro avg       1.00      0.98      0.99    175000\n",
            "   macro avg       0.46      0.36      0.39    175000\n",
            "weighted avg       0.99      0.98      0.99    175000\n",
            " samples avg       0.98      0.98      0.98    175000\n",
            "\n"
          ],
          "name": "stdout"
        },
        {
          "output_type": "stream",
          "text": [
            "/usr/local/lib/python3.7/dist-packages/sklearn/metrics/_classification.py:1272: UndefinedMetricWarning: Precision and F-score are ill-defined and being set to 0.0 in labels with no predicted samples. Use `zero_division` parameter to control this behavior.\n",
            "  _warn_prf(average, modifier, msg_start, len(result))\n",
            "/usr/local/lib/python3.7/dist-packages/sklearn/metrics/_classification.py:1272: UndefinedMetricWarning: Precision and F-score are ill-defined and being set to 0.0 in samples with no predicted labels. Use `zero_division` parameter to control this behavior.\n",
            "  _warn_prf(average, modifier, msg_start, len(result))\n"
          ],
          "name": "stderr"
        }
      ]
    },
    {
      "cell_type": "code",
      "metadata": {
        "colab": {
          "base_uri": "https://localhost:8080/"
        },
        "id": "M-nQKcMMoEQS",
        "outputId": "20ebb37e-1f3c-4ef4-fa60-8878a67053b7"
      },
      "source": [
        "#Standardizing the 8 features\n",
        "X_8=np.array(X_8)\n",
        "X_8=StandardScaler().fit_transform(X_8)\n",
        "\n",
        "\n",
        "X_8_train, X_8_test, y_8_1_train, y_8_1_test=train_test_split(X_8, y_8_1, random_state=0)\n",
        "knn_1.fit(X_8_train, y_8_1_train)\n",
        "y_8_1_pred=knn_1.predict(X_8_test)\n",
        "\n",
        "#print(accuracy_score(y_15_1_test, y_15_1_pred))\n",
        "print(\"Test set predictions:\\n\", y_8_1_pred)\n",
        "print(\"Test score:{:.4f}\".format(np.mean([y_8_1_pred==y_8_1_test])))\n",
        "print(classification_report(y_8_1_test, y_8_1_pred))\n",
        "#print(confusion_matrix(y1_test, y1_pred))"
      ],
      "id": "M-nQKcMMoEQS",
      "execution_count": 88,
      "outputs": [
        {
          "output_type": "stream",
          "text": [
            "Test set predictions:\n",
            " [[1 0 0 ... 0 0 0]\n",
            " [1 0 0 ... 0 0 0]\n",
            " [1 0 0 ... 0 0 0]\n",
            " ...\n",
            " [1 0 0 ... 0 0 0]\n",
            " [1 0 0 ... 0 0 0]\n",
            " [1 0 0 ... 0 0 0]]\n",
            "Test score:0.9980\n",
            "              precision    recall  f1-score   support\n",
            "\n",
            "           0       1.00      1.00      1.00    169339\n",
            "           1       0.67      0.38      0.49      1354\n",
            "           2       0.00      0.00      0.00       139\n",
            "           3       0.00      0.00      0.00       133\n",
            "           4       0.38      0.05      0.09       278\n",
            "           5       0.82      0.56      0.67      1381\n",
            "           6       0.99      0.94      0.97      1875\n",
            "           7       0.92      0.82      0.87       438\n",
            "           8       0.00      0.00      0.00        57\n",
            "           9       0.00      0.00      0.00         6\n",
            "\n",
            "   micro avg       1.00      0.98      0.99    175000\n",
            "   macro avg       0.48      0.37      0.41    175000\n",
            "weighted avg       0.99      0.98      0.99    175000\n",
            " samples avg       0.98      0.98      0.98    175000\n",
            "\n"
          ],
          "name": "stdout"
        },
        {
          "output_type": "stream",
          "text": [
            "/usr/local/lib/python3.7/dist-packages/sklearn/metrics/_classification.py:1272: UndefinedMetricWarning: Precision and F-score are ill-defined and being set to 0.0 in labels with no predicted samples. Use `zero_division` parameter to control this behavior.\n",
            "  _warn_prf(average, modifier, msg_start, len(result))\n",
            "/usr/local/lib/python3.7/dist-packages/sklearn/metrics/_classification.py:1272: UndefinedMetricWarning: Precision and F-score are ill-defined and being set to 0.0 in samples with no predicted labels. Use `zero_division` parameter to control this behavior.\n",
            "  _warn_prf(average, modifier, msg_start, len(result))\n"
          ],
          "name": "stderr"
        }
      ]
    },
    {
      "cell_type": "code",
      "metadata": {
        "colab": {
          "base_uri": "https://localhost:8080/"
        },
        "id": "SOUgR8raoFVV",
        "outputId": "f43b1afe-b770-4300-f1df-673520d1503f"
      },
      "source": [
        "#Standardizing the 5 features\n",
        "X_5=np.array(X_5)\n",
        "X_5=StandardScaler().fit_transform(X_5)\n",
        "\n",
        "\n",
        "X_5_train, X_5_test, y_5_1_train, y_5_1_test=train_test_split(X_5, y_5_1, random_state=0)\n",
        "knn_1.fit(X_5_train, y_5_1_train)\n",
        "y_5_1_pred=knn_1.predict(X_5_test)\n",
        "\n",
        "#print(accuracy_score(y_15_1_test, y_15_1_pred))\n",
        "print(\"Test set predictions:\\n\", y_5_1_pred)\n",
        "print(\"Test score:{:.4f}\".format(np.mean([y_5_1_pred==y_5_1_test])))\n",
        "print(classification_report(y_5_1_test, y_5_1_pred))\n",
        "#print(confusion_matrix(y1_test, y1_pred))"
      ],
      "id": "SOUgR8raoFVV",
      "execution_count": 89,
      "outputs": [
        {
          "output_type": "stream",
          "text": [
            "Test set predictions:\n",
            " [[1 0 0 ... 0 0 0]\n",
            " [1 0 0 ... 0 0 0]\n",
            " [1 0 0 ... 0 0 0]\n",
            " ...\n",
            " [1 0 0 ... 0 0 0]\n",
            " [1 0 0 ... 0 0 0]\n",
            " [1 0 0 ... 0 0 0]]\n",
            "Test score:0.9977\n",
            "              precision    recall  f1-score   support\n",
            "\n",
            "           0       1.00      1.00      1.00    169339\n",
            "           1       0.68      0.36      0.47      1354\n",
            "           2       0.00      0.00      0.00       139\n",
            "           3       0.00      0.00      0.00       133\n",
            "           4       0.32      0.04      0.07       278\n",
            "           5       0.82      0.41      0.55      1381\n",
            "           6       1.00      0.94      0.97      1875\n",
            "           7       0.92      0.80      0.86       438\n",
            "           8       0.00      0.00      0.00        57\n",
            "           9       0.25      0.17      0.20         6\n",
            "\n",
            "   micro avg       0.99      0.98      0.99    175000\n",
            "   macro avg       0.50      0.37      0.41    175000\n",
            "weighted avg       0.99      0.98      0.98    175000\n",
            " samples avg       0.98      0.98      0.98    175000\n",
            "\n"
          ],
          "name": "stdout"
        },
        {
          "output_type": "stream",
          "text": [
            "/usr/local/lib/python3.7/dist-packages/sklearn/metrics/_classification.py:1272: UndefinedMetricWarning: Precision and F-score are ill-defined and being set to 0.0 in labels with no predicted samples. Use `zero_division` parameter to control this behavior.\n",
            "  _warn_prf(average, modifier, msg_start, len(result))\n",
            "/usr/local/lib/python3.7/dist-packages/sklearn/metrics/_classification.py:1272: UndefinedMetricWarning: Precision and F-score are ill-defined and being set to 0.0 in samples with no predicted labels. Use `zero_division` parameter to control this behavior.\n",
            "  _warn_prf(average, modifier, msg_start, len(result))\n"
          ],
          "name": "stderr"
        }
      ]
    }
  ]
}